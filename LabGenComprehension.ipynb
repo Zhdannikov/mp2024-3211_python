{
 "cells": [
  {
   "cell_type": "code",
   "execution_count": 3,
   "metadata": {},
   "outputs": [],
   "source": [
    "text = \"Я сегодня попал в пробку, и из за этого попал в пробку\"\n"
   ]
  },
  {
   "cell_type": "code",
   "execution_count": 6,
   "metadata": {},
   "outputs": [
    {
     "name": "stdout",
     "output_type": "stream",
     "text": [
      "['Я', 'сегодня', 'попал', 'в', 'пробку,', 'и', 'из', 'за', 'этого', 'попал', 'в', 'пробку']\n",
      "[1, 7, 5, 1, 7, 1, 2, 2, 5, 5, 1, 6]\n",
      "['Я', 'с', 'п', 'в', 'п', 'и', 'и', 'з', 'э', 'п', 'в', 'п']\n",
      "Я с п в п и и з э п в п\n"
     ]
    }
   ],
   "source": [
    "print(text.split())\n",
    "print([len(i) for i in text.split()])\n",
    "print([i[0] for i in text.split()])\n",
    "print(*[i[0] for i in text.split()])"
   ]
  }
 ],
 "metadata": {
  "kernelspec": {
   "display_name": "Python 3",
   "language": "python",
   "name": "python3"
  },
  "language_info": {
   "codemirror_mode": {
    "name": "ipython",
    "version": 3
   },
   "file_extension": ".py",
   "mimetype": "text/x-python",
   "name": "python",
   "nbconvert_exporter": "python",
   "pygments_lexer": "ipython3",
   "version": "3.12.1"
  }
 },
 "nbformat": 4,
 "nbformat_minor": 2
}
