{
 "cells": [
  {
   "cell_type": "markdown",
   "metadata": {},
   "source": [
    "## Встроенные функции"
   ]
  },
  {
   "cell_type": "code",
   "execution_count": 1,
   "metadata": {},
   "outputs": [
    {
     "name": "stdout",
     "output_type": "stream",
     "text": [
      "['1', '2', '3', '4', '5']\n",
      "[1, 2, 3, 4, 5]\n",
      "[1.0, 2.0, 3.0, 4.0, 5.0]\n"
     ]
    }
   ],
   "source": [
    "v = \"1 2 3 4 5\"\n",
    "print(v.split())\n",
    "print(list(map(int, v.split())))\n",
    "print(list(map(float, v.split())))"
   ]
  },
  {
   "cell_type": "code",
   "execution_count": 2,
   "metadata": {},
   "outputs": [
    {
     "name": "stdout",
     "output_type": "stream",
     "text": [
      "['1', '2', '3', '4', '5']\n",
      "[10, 20, 30, 40, 50]\n",
      "\n",
      "['1', '2', '3', '4', '5']\n",
      "[10, 20, 30, 40, 50]\n"
     ]
    }
   ],
   "source": [
    "v = [1, 2, 3, 4, 5]\n",
    "print(list(map(str, v)))\n",
    "print(list(map(lambda i: i*10, v)))\n",
    "#\n",
    "print()\n",
    "print([str(i) for i in v])\n",
    "print([i * 10 for i in v])"
   ]
  },
  {
   "cell_type": "code",
   "execution_count": 4,
   "metadata": {},
   "outputs": [
    {
     "name": "stdout",
     "output_type": "stream",
     "text": [
      "['1', '2', '3', 'q', 'w']\n",
      "['Москва', 'Уфа', 'Ялта']\n"
     ]
    }
   ],
   "source": [
    "print(sorted('qw123'))\n",
    "v = ['Ялта','Уфа','Москва']\n",
    "v.sort()\n",
    "print(v)"
   ]
  },
  {
   "cell_type": "code",
   "execution_count": 7,
   "metadata": {},
   "outputs": [],
   "source": [
    "v = '''Карл у Клары украл рекламу,\n",
    " а Клара у Карла украла бютжет.'''"
   ]
  },
  {
   "cell_type": "code",
   "execution_count": 12,
   "metadata": {},
   "outputs": [
    {
     "name": "stdout",
     "output_type": "stream",
     "text": [
      "Карл у Клары украл рекламу,\n",
      " а Клара у Карла украла бютжет.\n",
      "'Карл у Клары украл рекламу,\\n а Клара у Карла украла бютжет.'\n",
      "['Карл', 'у', 'Клары', 'украл', 'рекламу,', 'а', 'Клара', 'у', 'Карла', 'украла', 'бютжет.']\n",
      "['Карл у Клары украл рекламу,', ' а Клара у Карла украла бютжет.']\n",
      "['К', 'а', 'р', 'л', ' ', 'у', ' ', 'К', 'л', 'а', 'р', 'ы', ' ', 'у', 'к', 'р', 'а', 'л', ' ', 'р', 'е', 'к', 'л', 'а', 'м', 'у', ',', '\\n', ' ', 'а', ' ', 'К', 'л', 'а', 'р', 'а', ' ', 'у', ' ', 'К', 'а', 'р', 'л', 'а', ' ', 'у', 'к', 'р', 'а', 'л', 'а', ' ', 'б', 'ю', 'т', 'ж', 'е', 'т', '.']\n",
      "{'К', 'к', 'е', 'ю', 'т', 'у', ',', '\\n', 'б', 'р', ' ', 'л', 'ж', 'ы', '.', 'м', 'а'}\n",
      "['К', 'к', 'е', 'ю', 'т', 'у', ',', '\\n', 'б', 'р', ' ', 'л', 'ж', 'ы', '.', 'м', 'а']\n"
     ]
    }
   ],
   "source": [
    "print(v)\n",
    "print(repr(v))\n",
    "print(v.split())\n",
    "print(v.splitlines())\n",
    "print(list(v))\n",
    "print(set(v))\n",
    "print(list(set(v)))"
   ]
  },
  {
   "cell_type": "code",
   "execution_count": 18,
   "metadata": {},
   "outputs": [
    {
     "name": "stdout",
     "output_type": "stream",
     "text": [
      "['Карл', 'у', 'Клары', 'украл']\n",
      "['Карл', 'Карла', 'Клара', 'Клары', 'а', 'бютжет.', 'рекламу,', 'у', 'у', 'украл', 'украла']\n",
      "['Карл', 'Карла', 'Клара', 'Клары']\n",
      "['Карл', 'Клары', 'у', 'украл']\n"
     ]
    }
   ],
   "source": [
    "print(v.split()[:4])\n",
    "print(sorted(v.split()))\n",
    "print(sorted(v.split())[:4])\n",
    "print(sorted(v.split()[:4]))"
   ]
  },
  {
   "cell_type": "code",
   "execution_count": 25,
   "metadata": {},
   "outputs": [
    {
     "name": "stdout",
     "output_type": "stream",
     "text": [
      "['Карл', 'Карла', 'Клара', 'Клары', 'а', 'бютжет.', 'рекламу,', 'у', 'у', 'украл', 'украла']\n",
      "['а', 'бютжет.', 'карл', 'карла', 'клара', 'клары', 'рекламу,', 'у', 'у', 'украл', 'украла']\n",
      "['а', 'бютжет.', 'Карл', 'Карла', 'Клара', 'Клары', 'рекламу,', 'у', 'у', 'украл', 'украла']\n",
      "['у', 'а', 'у', 'Карл', 'Клары', 'украл', 'Клара', 'Карла', 'украла', 'бютжет.', 'рекламу,']\n",
      "['а', 'бютжет.', 'Карл', 'Карла', 'Клара', 'Клары', 'рекламу,', 'у', 'у', 'украл', 'украла']\n"
     ]
    }
   ],
   "source": [
    "print(sorted(v.split()))\n",
    "print(sorted(v.lower().split()))\n",
    "print(sorted(v.split(), key=lambda i: str(i).lower()))\n",
    "print(sorted(v.split(), key=lambda i: len(i)))\n",
    "print(sorted(v.split(), key=str.lower))\n"
   ]
  },
  {
   "cell_type": "code",
   "execution_count": 28,
   "metadata": {},
   "outputs": [
    {
     "name": "stdout",
     "output_type": "stream",
     "text": [
      "['Карл', 'Карла', 'Клара', 'Клары', 'а', 'бютжет.', 'рекламу,', 'у', 'у', 'украл', 'украла']\n",
      "['украла', 'украл', 'у', 'у', 'рекламу,', 'бютжет.', 'а', 'Клары', 'Клара', 'Карла', 'Карл']\n",
      "['украла', 'украл', 'у', 'у', 'рекламу,', 'бютжет.', 'а', 'Клары', 'Клара', 'Карла', 'Карл']\n",
      "<list_reverseiterator object at 0x000001497B56F100>\n",
      "['бютжет.', 'украла', 'Карла', 'у', 'Клара', 'а', 'рекламу,', 'украл', 'Клары', 'у', 'Карл']\n"
     ]
    }
   ],
   "source": [
    "print(sorted(v.split()))\n",
    "print(sorted(v.split())[::-1])\n",
    "print(sorted(v.split(), reverse=True))\n",
    "print(reversed(v.split()))\n",
    "print(list(reversed(v.split())))"
   ]
  },
  {
   "cell_type": "code",
   "execution_count": 30,
   "metadata": {},
   "outputs": [
    {
     "name": "stdout",
     "output_type": "stream",
     "text": [
      "['Ка__', 'у', 'Кл___', 'ук___', 'ре______', 'а', 'Кл___', 'у', 'Ка___', 'ук____', 'бю_____']\n"
     ]
    }
   ],
   "source": [
    "print([i[:2] + '_' * len(i[2:]) for i in v.split()])"
   ]
  },
  {
   "cell_type": "code",
   "execution_count": 33,
   "metadata": {},
   "outputs": [
    {
     "name": "stdout",
     "output_type": "stream",
     "text": [
      "He___\n",
      "['Ка__', 'у', 'Кл___', 'ук___', 'ре______', 'а', 'Кл___', 'у', 'Ка___', 'ук____', 'бю_____']\n"
     ]
    }
   ],
   "source": [
    "fu = lambda i: i[:2] + '_' * len(i[2:])\n",
    "print(fu('Hello'))\n",
    "print([fu(i) for i in v.split()])"
   ]
  },
  {
   "cell_type": "code",
   "execution_count": 37,
   "metadata": {},
   "outputs": [
    {
     "name": "stdout",
     "output_type": "stream",
     "text": [
      "He___\n",
      "['Ка__', 'у', 'Кл___', 'ук___', 'ре______', 'а', 'Кл___', 'у', 'Ка___', 'ук____', 'бю_____']\n",
      "['Карл', 'у', 'Клар_', 'укра_', 'рекл____', 'а', 'Клар_', 'у', 'Карл_', 'укра__', 'бютж___']\n",
      "Карл у Клар_ укра_ рекл____ а Клар_ у Карл_ укра__ бютж___\n",
      "Карл у Клар_ укра_ рекл____ а Клар_ у Карл_ укра__ бютж___\n",
      "Карл у Клар_ укра_ рекл____ а Клар_ у Карл_ укра__ бютж___\n"
     ]
    }
   ],
   "source": [
    "fu = lambda i, n =2 : i[:n] + '_' * len(i[n:])\n",
    "print(fu('Hello'))\n",
    "print([fu(i) for i in v.split()])\n",
    "print([fu(i, 4) for i in v.split()])\n",
    "print(*[fu(i, 4) for i in v.split()])\n",
    "print(' '.join([fu(i, 4) for i in v.split()]))\n",
    "print(' '.join(fu(i, 4) for i in v.split()))"
   ]
  },
  {
   "cell_type": "code",
   "execution_count": 44,
   "metadata": {},
   "outputs": [
    {
     "name": "stdout",
     "output_type": "stream",
     "text": [
      "[['Ка__', 'у', 'Кл___', 'ук___', 'ре______'], ['а', 'Кл___', 'у', 'Ка___', 'ук____', 'бю_____']]\n",
      "['Ка__ у Кл___ ук___ ре______', 'а Кл___ у Ка___ ук____ бю_____']\n",
      "Ка__ у Кл___ ук___ ре______\n",
      "а Кл___ у Ка___ ук____ бю_____\n"
     ]
    }
   ],
   "source": [
    "f_word = lambda i, n = 2: i[:n] + '_' * len(i[n:])\n",
    "f_line = lambda line: [f_word(i) for i in line.split()]\n",
    "print([f_line(i) for i in v.splitlines()])\n",
    "print([' '.join(f_line(i)) for i in v.splitlines()])\n",
    "print('\\n'.join([' '.join(f_line(i)) for i in v.splitlines()]))"
   ]
  },
  {
   "cell_type": "code",
   "execution_count": 46,
   "metadata": {},
   "outputs": [
    {
     "name": "stdout",
     "output_type": "stream",
     "text": [
      "['Карл', 'у', 'Клары', 'украл', 'рекламу,', 'а', 'Клара', 'у', 'Карла', 'украла', 'бютжет.']\n",
      "['Карл', 'у', 'Клары', 'украл', 'рекламу', 'а', 'Клара', 'у', 'Карла', 'украла', 'бютжет']\n",
      "[(0, 'Карл'), (1, 'у'), (2, 'Клары'), (3, 'украл'), (4, 'рекламу'), (5, 'а'), (6, 'Клара'), (7, 'у'), (8, 'Карла'), (9, 'украла'), (10, 'бютжет')]\n",
      "{0: 'Карл', 1: 'у', 2: 'Клары', 3: 'украл', 4: 'рекламу', 5: 'а', 6: 'Клара', 7: 'у', 8: 'Карла', 9: 'украла', 10: 'бютжет'}\n",
      "{0: ('Карл', 4), 1: ('у', 1), 2: ('Клары', 5), 3: ('украл', 5), 4: ('рекламу', 7), 5: ('а', 1), 6: ('Клара', 5), 7: ('у', 1), 8: ('Карла', 5), 9: ('украла', 6), 10: ('бютжет', 6)}\n",
      "{0: ['К', 'а', 'р', 'л'], 1: ['у'], 2: ['К', 'л', 'а', 'р', 'ы'], 3: ['у', 'к', 'р', 'а', 'л'], 4: ['р', 'е', 'к', 'л', 'а', 'м', 'у'], 5: ['а'], 6: ['К', 'л', 'а', 'р', 'а'], 7: ['у'], 8: ['К', 'а', 'р', 'л', 'а'], 9: ['у', 'к', 'р', 'а', 'л', 'а'], 10: ['б', 'ю', 'т', 'ж', 'е', 'т']}\n",
      "{0: ['а', 'к', 'л', 'р'], 1: ['у'], 2: ['а', 'к', 'л', 'р', 'ы'], 3: ['а', 'к', 'л', 'р', 'у'], 4: ['а', 'е', 'к', 'л', 'м', 'р', 'у'], 5: ['а'], 6: ['а', 'а', 'к', 'л', 'р'], 7: ['у'], 8: ['а', 'а', 'к', 'л', 'р'], 9: ['а', 'а', 'к', 'л', 'р', 'у'], 10: ['б', 'е', 'ж', 'т', 'т', 'ю']}\n",
      "{0: ['а', 'к', 'л', 'р'], 1: ['у'], 2: ['а', 'к', 'л', 'р', 'ы'], 3: ['а', 'к', 'л', 'р', 'у'], 4: ['а', 'е', 'к', 'л', 'м', 'р', 'у'], 5: ['а'], 6: ['а', 'к', 'л', 'р'], 7: ['у'], 8: ['а', 'к', 'л', 'р'], 9: ['а', 'к', 'л', 'р', 'у'], 10: ['б', 'е', 'ж', 'т', 'ю']}\n"
     ]
    }
   ],
   "source": [
    "print(v.split())\n",
    "vv = v.replace('\\n', ' ').replace(', ',' ').replace('.',' ')\n",
    "print(vv.split())\n",
    "print([i for i in enumerate(vv.split())])\n",
    "print({n: i for n, i in enumerate(vv.split())})\n",
    "print({n: (i, len(i)) for n, i in enumerate(vv.split())})\n",
    "print({n: list (i) for n,i in enumerate(vv.split())})\n",
    "print({n: sorted(i.lower()) for n,i in enumerate(vv.split())})\n",
    "print({n: sorted(set(i.lower())) for n,i in enumerate(vv.split())})"
   ]
  },
  {
   "cell_type": "code",
   "execution_count": 47,
   "metadata": {},
   "outputs": [
    {
     "name": "stdout",
     "output_type": "stream",
     "text": [
      "Карл у Клары украл рекламу\n",
      " а Клара у Карла украла бютжет\n"
     ]
    }
   ],
   "source": [
    "print(''.join(i for i in v if i not in [',', '.']))"
   ]
  }
 ],
 "metadata": {
  "kernelspec": {
   "display_name": "Python 3",
   "language": "python",
   "name": "python3"
  },
  "language_info": {
   "codemirror_mode": {
    "name": "ipython",
    "version": 3
   },
   "file_extension": ".py",
   "mimetype": "text/x-python",
   "name": "python",
   "nbconvert_exporter": "python",
   "pygments_lexer": "ipython3",
   "version": "3.12.1"
  }
 },
 "nbformat": 4,
 "nbformat_minor": 2
}
