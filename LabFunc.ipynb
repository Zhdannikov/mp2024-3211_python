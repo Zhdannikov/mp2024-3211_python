{
 "cells": [
  {
   "cell_type": "code",
   "execution_count": 1,
   "metadata": {},
   "outputs": [],
   "source": [
    "#Именная функция, инструкция def"
   ]
  },
  {
   "cell_type": "code",
   "execution_count": 2,
   "metadata": {},
   "outputs": [
    {
     "name": "stdout",
     "output_type": "stream",
     "text": [
      "Маша\n",
      "Маша\n"
     ]
    }
   ],
   "source": [
    "def show_name():\n",
    "    print(\"Маша\")\n",
    "\n",
    "show_name()\n",
    "show_name()"
   ]
  },
  {
   "cell_type": "code",
   "execution_count": 3,
   "metadata": {},
   "outputs": [
    {
     "name": "stdout",
     "output_type": "stream",
     "text": [
      "Юля\n",
      "Юля\n"
     ]
    }
   ],
   "source": [
    "def get_name():\n",
    "    return \"Юля\"\n",
    "\n",
    "print(get_name())\n",
    "\n",
    "r=get_name()\n",
    "print(r)"
   ]
  },
  {
   "cell_type": "code",
   "execution_count": 4,
   "metadata": {},
   "outputs": [],
   "source": [
    "def task1():\n",
    "    pass\n",
    "\n",
    "task1()"
   ]
  },
  {
   "cell_type": "code",
   "execution_count": 8,
   "metadata": {},
   "outputs": [
    {
     "name": "stdout",
     "output_type": "stream",
     "text": [
      "30\n",
      "1020\n"
     ]
    }
   ],
   "source": [
    "def sum1(a, b):\n",
    "    return a + b\n",
    "\n",
    "#позиционные аргументы\n",
    "print(sum1(10, 20))\n",
    "print(sum1(\"10\", \"20\"))"
   ]
  },
  {
   "cell_type": "code",
   "execution_count": 7,
   "metadata": {},
   "outputs": [
    {
     "name": "stdout",
     "output_type": "stream",
     "text": [
      "30\n"
     ]
    }
   ],
   "source": [
    "#Именные аргументы\n",
    "print(sum1(b=10, a=20))"
   ]
  },
  {
   "cell_type": "code",
   "execution_count": 9,
   "metadata": {},
   "outputs": [
    {
     "name": "stdout",
     "output_type": "stream",
     "text": [
      "8\n",
      "6\n"
     ]
    }
   ],
   "source": [
    "def sum2(a, b, c = 5):\n",
    "    return a + b + c\n",
    "print(sum2(1, 2))\n",
    "print(sum2(1, 2, 3))"
   ]
  },
  {
   "cell_type": "code",
   "execution_count": 13,
   "metadata": {},
   "outputs": [
    {
     "name": "stdout",
     "output_type": "stream",
     "text": [
      "(1, 2, 3, 'Привет', 3.14)\n",
      "2\n",
      "Привет\n"
     ]
    }
   ],
   "source": [
    "def show_params_1(*args):\n",
    "    print(args)\n",
    "    print(args[1])\n",
    "    print(args[3])\n",
    "\n",
    "show_params_1(1, 2, 3, \"Привет\", 3.14)\n"
   ]
  },
  {
   "cell_type": "code",
   "execution_count": 15,
   "metadata": {},
   "outputs": [
    {
     "name": "stdout",
     "output_type": "stream",
     "text": [
      "{'a': 1, 'b': 2, 'c': 'Привет'}\n",
      "Привет\n"
     ]
    }
   ],
   "source": [
    "def show_params_2(**kwargs):\n",
    "  print(kwargs)\n",
    "  print(kwargs['c'])\n",
    "\n",
    "show_params_2(a=1, b=2, c = \"Привет\")"
   ]
  },
  {
   "cell_type": "code",
   "execution_count": 18,
   "metadata": {},
   "outputs": [
    {
     "name": "stdout",
     "output_type": "stream",
     "text": [
      "300\n",
      "100200\n"
     ]
    }
   ],
   "source": [
    "#аннотация типов\n",
    "def sum3(a: int,b: int) -> int:\n",
    "  return a+b\n",
    "\n",
    "print(sum3(100, 200))\n",
    "print(sum3(\"100\", \"200\"))"
   ]
  }
 ],
 "metadata": {
  "kernelspec": {
   "display_name": "Python 3",
   "language": "python",
   "name": "python3"
  },
  "language_info": {
   "codemirror_mode": {
    "name": "ipython",
    "version": 3
   },
   "file_extension": ".py",
   "mimetype": "text/x-python",
   "name": "python",
   "nbconvert_exporter": "python",
   "pygments_lexer": "ipython3",
   "version": "3.12.1"
  }
 },
 "nbformat": 4,
 "nbformat_minor": 2
}
