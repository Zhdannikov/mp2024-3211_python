{
 "cells": [
  {
   "cell_type": "code",
   "execution_count": 1,
   "metadata": {},
   "outputs": [
    {
     "name": "stdout",
     "output_type": "stream",
     "text": [
      "Введите название города\n",
      "Searching in google......\n",
      "\n",
      "22°C\n",
      "Москва\n",
      "воскресенье 18:45\n",
      "Облачно\n"
     ]
    }
   ],
   "source": [
    "from bs4 import BeautifulSoup\n",
    "import requests\n",
    "\n",
    "headers = {\n",
    "    'User-Agent': 'Mozilla/5.0 (Windows NT 10.0; Win64; x64) AppleWebKit/537.36 (KHTML, like Gecko) Chrome/58.0.3029.110 Safari/537.3'\n",
    "}\n",
    "\n",
    "def weather(city):\n",
    "    city = city.replace(\" \", \"+\")\n",
    "    res = requests.get(f'https://www.google.ru/search?q={city}+погода', headers=headers)\n",
    "    print(\"Searching in google......\\n\")\n",
    "    soup = BeautifulSoup(res.text, 'html.parser')   \n",
    "\n",
    "    location = soup.select('.BNeawe.iBp4i.AP7Wnd')[0].getText().strip()  \n",
    "    time = soup.select('.BNeawe.tAd8D.AP7Wnd')[0].getText().strip()       \n",
    "    info = soup.select('.BNeawe.tAd8D.AP7Wnd')[1].getText().strip() \n",
    "    weather = soup.select('.BNeawe.iBp4i.AP7Wnd')[1].getText().strip()\n",
    "    \n",
    "    print(location)\n",
    "    print(time)\n",
    "    print(info)\n",
    "\n",
    "print(\"Введите название города\")\n",
    "city = input()\n",
    "weather(city)\n"
   ]
  },
  {
   "cell_type": "code",
   "execution_count": 35,
   "metadata": {},
   "outputs": [
    {
     "name": "stdout",
     "output_type": "stream",
     "text": [
      "Введите название города:\n",
      "Введите количество дней для прогноза:\n",
      "Город: Уфа\n",
      "Дата: 2024-06-10, Температура: 24.41°C, Описание: few clouds\n",
      "Дата: 2024-06-11, Температура: 25.13°C, Описание: few clouds\n",
      "Дата: 2024-06-12, Температура: 27.81°C, Описание: clear sky\n"
     ]
    }
   ],
   "source": [
    "import requests\n",
    "from datetime import datetime, timedelta\n",
    "\n",
    "def get_weather(city, days):\n",
    "    api_key = 'b5dde0db2d16b10a860d6685cc35136e' \n",
    "    url = f'http://api.openweathermap.org/data/2.5/forecast?q={city}&units=metric&cnt={days*8}&appid={api_key}'\n",
    "    response = requests.get(url)\n",
    "    data = response.json()\n",
    "    \n",
    "    if response.status_code == 200:\n",
    "        for i in range(0, len(data['list']), 8):\n",
    "            forecast = data['list'][i]\n",
    "            date = forecast['dt_txt'].split()[0]\n",
    "            temperature = forecast['main']['temp']\n",
    "            weather_description = forecast['weather'][0]['description']\n",
    "            print(f\"Дата: {date}, Температура: {temperature}°C, Описание: {weather_description}\")\n",
    "    else:\n",
    "        print(\"Не удалось получить данные о погоде.\")\n",
    "\n",
    "print(\"Введите название города:\")\n",
    "city = input().strip()\n",
    "print(\"Введите количество дней для прогноза:\")\n",
    "days = int(input())\n",
    "print(f'Город: {city}')\n",
    "get_weather(city, days)"
   ]
  }
 ],
 "metadata": {
  "kernelspec": {
   "display_name": "Python 3",
   "language": "python",
   "name": "python3"
  },
  "language_info": {
   "codemirror_mode": {
    "name": "ipython",
    "version": 3
   },
   "file_extension": ".py",
   "mimetype": "text/x-python",
   "name": "python",
   "nbconvert_exporter": "python",
   "pygments_lexer": "ipython3",
   "version": "3.12.1"
  }
 },
 "nbformat": 4,
 "nbformat_minor": 2
}
