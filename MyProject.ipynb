{
 "cells": [
  {
   "cell_type": "code",
   "execution_count": 6,
   "metadata": {},
   "outputs": [
    {
     "name": "stdout",
     "output_type": "stream",
     "text": [
      "Введите название города\n",
      "Searching in google......\n",
      "\n",
      "26°C\n",
      "Нефтекамск, Республика Башкортостан\n",
      "вторник 18:51\n",
      "Облачно\n"
     ]
    }
   ],
   "source": [
    "from bs4 import BeautifulSoup\n",
    "import requests\n",
    "\n",
    "headers = {\n",
    "    'User-Agent': 'Mozilla/5.0 (Windows NT 10.0; Win64; x64) AppleWebKit/537.36 (KHTML, like Gecko) Chrome/58.0.3029.110 Safari/537.3'\n",
    "}\n",
    "\n",
    "def weather(city):\n",
    "    city = city.replace(\" \", \"+\")\n",
    "    res = requests.get(f'https://www.google.ru/search?q={city}+погода', headers=headers)\n",
    "    print(\"Searching in google......\\n\")\n",
    "    soup = BeautifulSoup(res.text, 'html.parser')   \n",
    "    \n",
    "    # Изменим селекторы, чтобы соответствовать измененной структуре страницы\n",
    "    location = soup.select('.BNeawe.iBp4i.AP7Wnd')[0].getText().strip()  \n",
    "    time = soup.select('.BNeawe.tAd8D.AP7Wnd')[0].getText().strip()       \n",
    "    info = soup.select('.BNeawe.tAd8D.AP7Wnd')[1].getText().strip() \n",
    "    weather = soup.select('.BNeawe.iBp4i.AP7Wnd')[1].getText().strip()\n",
    "    \n",
    "    print(location)\n",
    "    print(time)\n",
    "    print(info)\n",
    "\n",
    "print(\"Введите название города\")\n",
    "city = input()\n",
    "weather(city)\n"
   ]
  }
 ],
 "metadata": {
  "kernelspec": {
   "display_name": "Python 3",
   "language": "python",
   "name": "python3"
  },
  "language_info": {
   "codemirror_mode": {
    "name": "ipython",
    "version": 3
   },
   "file_extension": ".py",
   "mimetype": "text/x-python",
   "name": "python",
   "nbconvert_exporter": "python",
   "pygments_lexer": "ipython3",
   "version": "3.12.1"
  }
 },
 "nbformat": 4,
 "nbformat_minor": 2
}
