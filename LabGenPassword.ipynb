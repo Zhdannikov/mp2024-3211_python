{
 "cells": [
  {
   "cell_type": "markdown",
   "metadata": {},
   "source": [
    "## Домашняя работа\n",
    "# Генератор паролей"
   ]
  },
  {
   "cell_type": "code",
   "execution_count": 1,
   "metadata": {},
   "outputs": [
    {
     "name": "stdout",
     "output_type": "stream",
     "text": [
      "Cq=9m!?a]H\n",
      "iU0J4:c5Sm\n",
      "W'eTU4302O\n",
      "(=(>91X/Q=\n",
      "_/%{#tf!Z,\n",
      " \n",
      "Qj<<&0bSxf<i0vBw`y}`\n",
      "zmKYZ5kebdni\\I`f^cJ[\n",
      "wQMnV3Oz0TaOxL33!0P3\n"
     ]
    }
   ],
   "source": [
    "# Импортируем модули random и string для генерации случайных символов\n",
    "import random\n",
    "import string\n",
    "\n",
    "# Определяем функцию генератора паролей\n",
    "def password_generator(num_passwords=None, length=8, use_digits=True, use_lowercase=True, use_uppercase=True, use_special_chars=True, extra_chars=''):\n",
    "    # Создаем строку символов, которые будут использоваться для генерации паролей\n",
    "    chars = ''\n",
    "    if use_digits:\n",
    "        chars += string.digits  # Добавляем цифры, если указано use_digits\n",
    "    if use_lowercase:\n",
    "        chars += string.ascii_lowercase  # Добавляем строчные буквы, если указано use_lowercase\n",
    "    if use_uppercase:\n",
    "        chars += string.ascii_uppercase  # Добавляем прописные буквы, если указано use_uppercase\n",
    "    if use_special_chars:\n",
    "        chars += string.punctuation  # Добавляем специальные символы, если указано use_special_chars\n",
    "    chars += extra_chars  # Добавляем дополнительные символы, если они предоставлены\n",
    "\n",
    "    # Генерируем пароли\n",
    "    if num_passwords is None:  # Если количество паролей не указано, генерируем бесконечное количество паролей\n",
    "        while True:\n",
    "            yield ''.join(random.choice(chars) for _ in range(length))\n",
    "    else:  # Иначе генерируем указанное количество паролей\n",
    "        for _ in range(num_passwords):\n",
    "            yield ''.join(random.choice(chars) for _ in range(length))\n",
    "\n",
    "# Генерируем 5 паролей длиной 10 символов с использованием цифр, строчных и прописных букв, а также специальных символов\n",
    "passwords = password_generator(num_passwords=5, length=10, use_digits=True, use_lowercase=True, use_uppercase=True, use_special_chars=True)\n",
    "for password in passwords:\n",
    "    print(password)\n",
    "\n",
    "print(' ')\n",
    "\n",
    "# Генерируем 3 пароля длиной 20 символов с использованием цифр, строчных и прописных букв, а также специальных символов\n",
    "passwords = password_generator(num_passwords=3, length=20, use_digits=True, use_lowercase=True, use_uppercase=True, use_special_chars=True)\n",
    "for password in passwords:\n",
    "    print(password)\n"
   ]
  }
 ],
 "metadata": {
  "kernelspec": {
   "display_name": "Python 3",
   "language": "python",
   "name": "python3"
  },
  "language_info": {
   "codemirror_mode": {
    "name": "ipython",
    "version": 3
   },
   "file_extension": ".py",
   "mimetype": "text/x-python",
   "name": "python",
   "nbconvert_exporter": "python",
   "pygments_lexer": "ipython3",
   "version": "3.12.1"
  }
 },
 "nbformat": 4,
 "nbformat_minor": 2
}
