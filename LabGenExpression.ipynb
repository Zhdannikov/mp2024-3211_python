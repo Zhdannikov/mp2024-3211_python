{
 "cells": [
  {
   "cell_type": "code",
   "execution_count": 5,
   "metadata": {},
   "outputs": [
    {
     "name": "stdout",
     "output_type": "stream",
     "text": [
      "<class 'range'>\n",
      "5\n",
      "1\n",
      "4\n"
     ]
    }
   ],
   "source": [
    "x = range(5)\n",
    "print(type(x))\n",
    "print(len(x))\n",
    "print(x[1])\n",
    "print(x[-1])"
   ]
  },
  {
   "cell_type": "code",
   "execution_count": 7,
   "metadata": {},
   "outputs": [
    {
     "name": "stdout",
     "output_type": "stream",
     "text": [
      "<class 'generator'>\n",
      "HHH\n",
      "eee\n",
      "lll lll ooo\n"
     ]
    }
   ],
   "source": [
    "it = (i * 3 for i in \"Hello\")\n",
    "print(type(it))\n",
    "print(next(it))\n",
    "print(it.__next__())\n",
    "print(*it)"
   ]
  },
  {
   "cell_type": "code",
   "execution_count": 1,
   "metadata": {},
   "outputs": [
    {
     "name": "stdout",
     "output_type": "stream",
     "text": [
      "['HHH', 'eee', 'lll', 'lll', 'ooo']\n",
      "['HHH', 'eee', 'lll', 'lll', 'ooo']\n",
      "['HHH', 'eee', 'lll', 'lll', 'ooo']\n",
      "['HHH', 'eee', 'lll', 'lll', 'ooo']\n",
      "['HHH', 'eee', 'lll', 'lll', 'ooo']\n"
     ]
    }
   ],
   "source": [
    "it = ([i * 3 for i in \"Hello\"])\n",
    "for i in it:\n",
    "    print(it)"
   ]
  },
  {
   "cell_type": "code",
   "execution_count": 2,
   "metadata": {},
   "outputs": [
    {
     "name": "stdout",
     "output_type": "stream",
     "text": [
      "[['HHH', 'eee', 'lll', 'lll', 'ooo'], ['HHH', 'eee', 'lll', 'lll', 'ooo'], ['HHH', 'eee', 'lll', 'lll', 'ooo'], ['HHH', 'eee', 'lll', 'lll', 'ooo'], ['HHH', 'eee', 'lll', 'lll', 'ooo']]\n"
     ]
    }
   ],
   "source": [
    "print([*(it for i in range(10) if i % 2)])"
   ]
  }
 ],
 "metadata": {
  "kernelspec": {
   "display_name": "Python 3",
   "language": "python",
   "name": "python3"
  },
  "language_info": {
   "codemirror_mode": {
    "name": "ipython",
    "version": 3
   },
   "file_extension": ".py",
   "mimetype": "text/x-python",
   "name": "python",
   "nbconvert_exporter": "python",
   "pygments_lexer": "ipython3",
   "version": "3.12.1"
  }
 },
 "nbformat": 4,
 "nbformat_minor": 2
}
