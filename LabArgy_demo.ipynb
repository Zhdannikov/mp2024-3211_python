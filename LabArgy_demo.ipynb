{
 "cells": [
  {
   "cell_type": "markdown",
   "metadata": {},
   "source": [
    "# Tестируем файл LabArgy.py"
   ]
  },
  {
   "cell_type": "code",
   "execution_count": 1,
   "metadata": {},
   "outputs": [
    {
     "name": "stdout",
     "output_type": "stream",
     "text": [
      "\n",
      "Microsoft Windows [Version 10.0.19045.4170]\n"
     ]
    }
   ],
   "source": [
    "!ver"
   ]
  },
  {
   "cell_type": "code",
   "execution_count": 2,
   "metadata": {},
   "outputs": [
    {
     "name": "stdout",
     "output_type": "stream",
     "text": [
      "Python 3.12.1\n"
     ]
    }
   ],
   "source": [
    "!py -V"
   ]
  },
  {
   "cell_type": "code",
   "execution_count": 3,
   "metadata": {},
   "outputs": [
    {
     "name": "stdout",
     "output_type": "stream",
     "text": [
      "Список аргументов\n",
      "['LabArgy.py']\n",
      "['C:\\\\Users\\\\Мвидео\\\\AppData\\\\Local\\\\Programs\\\\Python\\\\Python312\\\\python.exe', 'LabArgy.py']\n"
     ]
    }
   ],
   "source": [
    "!py LabArgy.py"
   ]
  },
  {
   "cell_type": "code",
   "execution_count": 4,
   "metadata": {},
   "outputs": [
    {
     "name": "stdout",
     "output_type": "stream",
     "text": [
      "Список аргументов\n",
      "['LabArgy.py']\n",
      "['python', 'LabArgy.py']\n"
     ]
    }
   ],
   "source": [
    "!python LabArgy.py"
   ]
  },
  {
   "cell_type": "code",
   "execution_count": 6,
   "metadata": {},
   "outputs": [
    {
     "name": "stdout",
     "output_type": "stream",
     "text": [
      "Список аргументов\n",
      "['LabArgy.py', '11', '22', '44', '-file=aaa.txt']\n",
      "['python', 'LabArgy.py', '11', '22', '44', '-file=aaa.txt']\n"
     ]
    }
   ],
   "source": [
    "!python LabArgy.py 11 22 44 -file=aaa.txt"
   ]
  }
 ],
 "metadata": {
  "kernelspec": {
   "display_name": "Python 3",
   "language": "python",
   "name": "python3"
  },
  "language_info": {
   "codemirror_mode": {
    "name": "ipython",
    "version": 3
   },
   "file_extension": ".py",
   "mimetype": "text/x-python",
   "name": "python",
   "nbconvert_exporter": "python",
   "pygments_lexer": "ipython3",
   "version": "3.12.1"
  }
 },
 "nbformat": 4,
 "nbformat_minor": 2
}
