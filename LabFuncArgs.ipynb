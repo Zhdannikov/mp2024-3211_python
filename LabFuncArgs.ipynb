{
 "cells": [
  {
   "cell_type": "markdown",
   "metadata": {},
   "source": [
    "# Аргументы функции\n",
    "\n",
    "Способы:\n",
    "* неизменяемые обьекты передаются \"по значению\"\n",
    "* изменяемые обьекты передаются \"по ссылке\""
   ]
  },
  {
   "cell_type": "code",
   "execution_count": 1,
   "metadata": {},
   "outputs": [
    {
     "name": "stdout",
     "output_type": "stream",
     "text": [
      "show_int: x=10\n",
      "x=1\n"
     ]
    }
   ],
   "source": [
    "# \"по значению\"\n",
    "def show_int(x):\n",
    "    x = 10\n",
    "    print(f\"show_int: {x=}\")\n",
    "\n",
    "x = 1\n",
    "show_int(x)\n",
    "print(f\"{x=}\")  "
   ]
  },
  {
   "cell_type": "code",
   "execution_count": 2,
   "metadata": {},
   "outputs": [
    {
     "name": "stdout",
     "output_type": "stream",
     "text": [
      "show_list: cities=['Тула', 'Воронеж']\n",
      "cities=['Тула', 'Воронеж']\n"
     ]
    }
   ],
   "source": [
    "# \"по ссылке\"\n",
    "def show_list(cities: list):\n",
    "    cities.append(\"Воронеж\")\n",
    "    print(f\"show_list: {cities=}\")\n",
    "\n",
    "cities = [\"Тула\"]\n",
    "show_list(cities)\n",
    "print(f\"{cities=}\")  "
   ]
  },
  {
   "cell_type": "code",
   "execution_count": 3,
   "metadata": {},
   "outputs": [
    {
     "name": "stdout",
     "output_type": "stream",
     "text": [
      "show_list: cities=['Тула', 'Воронеж']\n",
      "cities=['Тула']\n"
     ]
    }
   ],
   "source": [
    "# (1)\n",
    "\n",
    "cities = [\"Тула\"]\n",
    "show_list(cities[:])\n",
    "print(f\"{cities=}\")  "
   ]
  },
  {
   "cell_type": "code",
   "execution_count": 4,
   "metadata": {},
   "outputs": [
    {
     "name": "stdout",
     "output_type": "stream",
     "text": [
      "show_list: cities_local=['Тула', 'Воронеж']\n",
      "cities=['Тула']\n"
     ]
    }
   ],
   "source": [
    "# (2)\n",
    "\n",
    "def show_list_v2(cities: list):\n",
    "    cities_local = cities[:]\n",
    "    cities_local.append(\"Воронеж\")\n",
    "    print(f\"show_list: {cities_local=}\")\n",
    "\n",
    "cities = [\"Тула\"]\n",
    "show_list_v2(cities)\n",
    "print(f\"{cities=}\")  "
   ]
  }
 ],
 "metadata": {
  "kernelspec": {
   "display_name": "Python 3",
   "language": "python",
   "name": "python3"
  },
  "language_info": {
   "codemirror_mode": {
    "name": "ipython",
    "version": 3
   },
   "file_extension": ".py",
   "mimetype": "text/x-python",
   "name": "python",
   "nbconvert_exporter": "python",
   "pygments_lexer": "ipython3",
   "version": "3.12.1"
  }
 },
 "nbformat": 4,
 "nbformat_minor": 2
}
