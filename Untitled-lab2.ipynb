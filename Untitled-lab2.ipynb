{
 "cells": [
  {
   "cell_type": "code",
   "execution_count": 1,
   "metadata": {},
   "outputs": [
    {
     "name": "stdout",
     "output_type": "stream",
     "text": [
      "Hello\n",
      "H e l l o\n",
      "H E L O O\n",
      "H-e-l-l-o.aaa\n"
     ]
    }
   ],
   "source": [
    "print(\"Hello\")\n",
    "print(*\"Hello\")\n",
    "print(\"H\",\"E\",\"L\",\"O\",\"O\")\n",
    "print(*\"Hello\",sep=\"-\",end=\".\")\n",
    "print(\"aaa\")"
   ]
  },
  {
   "cell_type": "code",
   "execution_count": 2,
   "metadata": {},
   "outputs": [
    {
     "name": "stdout",
     "output_type": "stream",
     "text": [
      "4.5\n",
      "4\n",
      "1\n",
      "72\n",
      "43046721\n"
     ]
    }
   ],
   "source": [
    "print(9 / 2)\n",
    "print(9 // 2)\n",
    "print(9 % 2)\n",
    "print(9 * 8)\n",
    "print(9 ** 8)"
   ]
  },
  {
   "cell_type": "code",
   "execution_count": 4,
   "metadata": {},
   "outputs": [
    {
     "name": "stdout",
     "output_type": "stream",
     "text": [
      "True\n",
      "True\n",
      "False\n"
     ]
    }
   ],
   "source": [
    "print(10 >= 5)\n",
    "print(10 != 5)\n",
    "print(1 == 5)"
   ]
  },
  {
   "cell_type": "code",
   "execution_count": 6,
   "metadata": {},
   "outputs": [
    {
     "name": "stdout",
     "output_type": "stream",
     "text": [
      "False\n",
      "True\n",
      "True\n"
     ]
    }
   ],
   "source": [
    "x = 1\n",
    "y=2\n",
    "print(x > y and x < y)\n",
    "print(x > y or x < y)\n",
    "print(not x == y)"
   ]
  },
  {
   "cell_type": "code",
   "execution_count": 9,
   "metadata": {},
   "outputs": [
    {
     "name": "stdout",
     "output_type": "stream",
     "text": [
      "Visual studio codeVisual studio codeVisual studio code\n",
      "18\n"
     ]
    }
   ],
   "source": [
    "s = \"Visual studio code\"\n",
    "print(s * 3)\n",
    "print(len(s))"
   ]
  },
  {
   "cell_type": "code",
   "execution_count": 14,
   "metadata": {},
   "outputs": [
    {
     "name": "stdout",
     "output_type": "stream",
     "text": [
      "VISUAL STUDIO CODE\n",
      "visual studio code\n",
      "Visual Studio Code\n",
      "vISUAL STUDIO CODE\n",
      "Visual studio code\n",
      "______Visual studio code______\n",
      "Visual studio code____________\n",
      "____________Visual studio code\n"
     ]
    }
   ],
   "source": [
    "print(s.upper())\n",
    "print(s.lower())\n",
    "print(s.lower().title())\n",
    "print(s.swapcase())\n",
    "print(s.capitalize())\n",
    "print(s.center(30, '_'))\n",
    "print(s.ljust(30,'_'))\n",
    "print(s.rjust(30,'_'))"
   ]
  },
  {
   "cell_type": "code",
   "execution_count": 24,
   "metadata": {},
   "outputs": [
    {
     "name": "stdout",
     "output_type": "stream",
     "text": [
      "2\n",
      "6\n",
      "6\n",
      "13\n",
      "True\n",
      "False\n"
     ]
    }
   ],
   "source": [
    "print(s.count(' '))\n",
    "print(s.index(' ')) #если нет то ошибка\n",
    "print(s.find(' ')) #если нет то ошибка -1\n",
    "print(s.rfind(' ')) #если нет то ошибка -1\n",
    "print(s.startswith('Vi'))\n",
    "print(s.endswith('Code'))"
   ]
  },
  {
   "cell_type": "code",
   "execution_count": 26,
   "metadata": {},
   "outputs": [
    {
     "name": "stdout",
     "output_type": "stream",
     "text": [
      "['Visual', 'studio', 'code']\n",
      "['Visual studio code']\n",
      "Visual_____studio_____code\n"
     ]
    }
   ],
   "source": [
    "print(s.split())\n",
    "print(s.splitlines())\n",
    "print(s.replace(' ','_____'))"
   ]
  },
  {
   "cell_type": "code",
   "execution_count": 21,
   "metadata": {},
   "outputs": [
    {
     "name": "stdout",
     "output_type": "stream",
     "text": [
      "True\n",
      "True\n"
     ]
    }
   ],
   "source": [
    "print('qwerty123'.isalnum())\n",
    "print('Qwerty123'.isalnum())"
   ]
  },
  {
   "cell_type": "code",
   "execution_count": 27,
   "metadata": {},
   "outputs": [
    {
     "name": "stdout",
     "output_type": "stream",
     "text": [
      "False\n",
      "True\n"
     ]
    }
   ],
   "source": [
    "print(\"Studio\" in s)\n",
    "print(\"Studio\" not in s)"
   ]
  },
  {
   "cell_type": "code",
   "execution_count": 28,
   "metadata": {},
   "outputs": [
    {
     "name": "stdout",
     "output_type": "stream",
     "text": [
      "V\n",
      "i\n",
      "e\n",
      "d\n"
     ]
    }
   ],
   "source": [
    "print(s[0])\n",
    "print(s[1])\n",
    "print(s[-1])\n",
    "print(s[-2])"
   ]
  },
  {
   "cell_type": "code",
   "execution_count": 35,
   "metadata": {},
   "outputs": [
    {
     "name": "stdout",
     "output_type": "stream",
     "text": [
      "Visual studio code\n",
      "sual studio code\n",
      "sua\n",
      "Visual studio co\n",
      "de\n"
     ]
    }
   ],
   "source": [
    "print(s[:])\n",
    "print(s[2::])\n",
    "print(s[2:5])\n",
    "print(s[:-2])\n",
    "print(s[-2:])"
   ]
  },
  {
   "cell_type": "code",
   "execution_count": 37,
   "metadata": {},
   "outputs": [
    {
     "name": "stdout",
     "output_type": "stream",
     "text": [
      "Visual studio code\n",
      "Visual studio code\n",
      "edoc oiduts lausiV\n"
     ]
    }
   ],
   "source": [
    "print(s[::])\n",
    "print(s[::1])\n",
    "print(s[::2])\n",
    "print(s[::-1])"
   ]
  },
  {
   "cell_type": "code",
   "execution_count": 38,
   "metadata": {},
   "outputs": [
    {
     "name": "stdout",
     "output_type": "stream",
     "text": [
      "Python\n",
      "Python     \n",
      "     Python\n"
     ]
    }
   ],
   "source": [
    "s =\"     Python     \"\n",
    "print(s.strip())\n",
    "print(s.lstrip())\n",
    "print(s.rstrip())"
   ]
  },
  {
   "cell_type": "code",
   "execution_count": 39,
   "metadata": {},
   "outputs": [
    {
     "name": "stdout",
     "output_type": "stream",
     "text": [
      "bbbbb\n"
     ]
    }
   ],
   "source": [
    "x = 1\n",
    "y = 2\n",
    "\n",
    "if x > y:\n",
    "    print(\"aaaaa\")\n",
    "else:\n",
    "    print(\"bbbbb\")    \n"
   ]
  },
  {
   "cell_type": "code",
   "execution_count": 40,
   "metadata": {},
   "outputs": [
    {
     "name": "stdout",
     "output_type": "stream",
     "text": [
      "1\n"
     ]
    }
   ],
   "source": [
    "if x > 0 and y > 0:\n",
    "    print(1)\n",
    "else:\n",
    "    if x < 0 and y < 0:\n",
    "        print(2)    "
   ]
  },
  {
   "cell_type": "code",
   "execution_count": 41,
   "metadata": {},
   "outputs": [
    {
     "name": "stdout",
     "output_type": "stream",
     "text": [
      "1\n"
     ]
    }
   ],
   "source": [
    "if x > 0 and y > 0:\n",
    "    print(1)\n",
    "elif x < 0 and y < 0:\n",
    "        print(2)   "
   ]
  },
  {
   "cell_type": "code",
   "execution_count": 42,
   "metadata": {},
   "outputs": [
    {
     "name": "stdout",
     "output_type": "stream",
     "text": [
      "Yes\n"
     ]
    }
   ],
   "source": [
    "x = 1\n",
    "print(\"Yes\" if x == 1 else \"No\")"
   ]
  },
  {
   "cell_type": "code",
   "execution_count": 44,
   "metadata": {},
   "outputs": [
    {
     "name": "stdout",
     "output_type": "stream",
     "text": [
      "Другое\n"
     ]
    }
   ],
   "source": [
    "x = -2\n",
    "match x:\n",
    "    case 1: print(11)\n",
    "    case 2: print(22)\n",
    "    case 3: print(33)\n",
    "    case _: print(\"Другое\")"
   ]
  },
  {
   "cell_type": "code",
   "execution_count": 53,
   "metadata": {},
   "outputs": [
    {
     "name": "stdout",
     "output_type": "stream",
     "text": [
      "44\n"
     ]
    }
   ],
   "source": [
    "x = -2\n",
    "y = 2\n",
    "match x, y:\n",
    "    case 1, 1: print(11)\n",
    "    case 2, 2: print(22)\n",
    "    case 3, _: print(33)\n",
    "    case _, _: print(44)"
   ]
  },
  {
   "cell_type": "code",
   "execution_count": 60,
   "metadata": {},
   "outputs": [
    {
     "name": "stdout",
     "output_type": "stream",
     "text": [
      "HHHHH, eeeee, lllll, lllll, ooooo, "
     ]
    }
   ],
   "source": [
    "for i in \"Hello\":\n",
    "   print(i * 5, end=', ')"
   ]
  },
  {
   "cell_type": "code",
   "execution_count": 61,
   "metadata": {},
   "outputs": [
    {
     "name": "stdout",
     "output_type": "stream",
     "text": [
      "0\n",
      "2\n",
      "3\n",
      ".\n"
     ]
    }
   ],
   "source": [
    "for i in range(5):\n",
    "    if i ==1:\n",
    "        continue\n",
    "    if i == 4:\n",
    "        break\n",
    "    print(i)\n",
    "print('.')"
   ]
  },
  {
   "cell_type": "code",
   "execution_count": 62,
   "metadata": {},
   "outputs": [
    {
     "name": "stdout",
     "output_type": "stream",
     "text": [
      "0 1 2 3 4 end\n",
      ".\n"
     ]
    }
   ],
   "source": [
    "for i in range(5):\n",
    "    print(i, end=\" \")\n",
    "else:\n",
    "    print(\"end\")\n",
    "print('.')    "
   ]
  },
  {
   "cell_type": "code",
   "execution_count": 63,
   "metadata": {},
   "outputs": [
    {
     "name": "stdout",
     "output_type": "stream",
     "text": [
      "0 1 2 3 .\n"
     ]
    }
   ],
   "source": [
    "for i in range(5):\n",
    "    if i == 4:\n",
    "        break\n",
    "    print(i, end=\" \")\n",
    "else:\n",
    "    print(\"end\")\n",
    "print('.')    "
   ]
  }
 ],
 "metadata": {
  "kernelspec": {
   "display_name": "Python 3",
   "language": "python",
   "name": "python3"
  },
  "language_info": {
   "codemirror_mode": {
    "name": "ipython",
    "version": 3
   },
   "file_extension": ".py",
   "mimetype": "text/x-python",
   "name": "python",
   "nbconvert_exporter": "python",
   "pygments_lexer": "ipython3",
   "version": "3.12.1"
  }
 },
 "nbformat": 4,
 "nbformat_minor": 2
}
