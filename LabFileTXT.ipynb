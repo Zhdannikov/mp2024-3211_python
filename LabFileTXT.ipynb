{
 "cells": [
  {
   "cell_type": "markdown",
   "metadata": {},
   "source": [
    "# Работа с текстовыми файлами\n",
    "\n",
    "Функция `open()` - открыть файл на чтение\\запись\n",
    "Режимы открытия файла:\n",
    "\n",
    "- `'r'` - Открыть файл только для чтения(если файл не найден то ошибка)\n",
    "- `'w'` - Открыть файл для перезаписи(если файл не найден то создать)\n",
    "- `'x'` - Открыть файл для перезаписи(если файл не найден то ошибка)\n",
    "- `'a'` - Открыть файл для добавления в конец (если файл не найден то создать)\n",
    "\n",
    "Дополнительные режимы:\n",
    "- `t` - Текстовый файл\n",
    "- `'b'` - Бинарный режим\n",
    "- `'+'` - Режим R + W\n",
    "\n",
    "Помним:\n",
    "- файл необходимо закрыть\n",
    "- различные кодировки текстовых файлов"
   ]
  },
  {
   "cell_type": "code",
   "execution_count": 1,
   "metadata": {},
   "outputs": [],
   "source": [
    "import os\n",
    "\n",
    "TEMP_DIR = 'temp'\n",
    "if not os.path.exists(TEMP_DIR):\n",
    "    os.mkdir(TEMP_DIR)"
   ]
  },
  {
   "cell_type": "code",
   "execution_count": 2,
   "metadata": {},
   "outputs": [
    {
     "data": {
      "text/plain": [
       "'temp\\\\temp_TXT.txt'"
      ]
     },
     "execution_count": 2,
     "metadata": {},
     "output_type": "execute_result"
    }
   ],
   "source": [
    "os.path.join(TEMP_DIR, 'temp_TXT.txt')"
   ]
  },
  {
   "cell_type": "code",
   "execution_count": 5,
   "metadata": {},
   "outputs": [],
   "source": [
    "f = open(os.path.join(TEMP_DIR, 'temp_TXT.txt'), 'w')\n",
    "f.write('HELLO\\n')\n",
    "f.write('1234\\n')\n",
    "f.close()"
   ]
  },
  {
   "cell_type": "code",
   "execution_count": 6,
   "metadata": {},
   "outputs": [],
   "source": [
    "f = open(os.path.join(TEMP_DIR, 'temp_TXT.txt'), 'w')\n",
    "try:\n",
    "  f.write('HELLO\\n')\n",
    "  f.write('1234\\n')\n",
    "finally:  \n",
    "  f.close()"
   ]
  },
  {
   "cell_type": "code",
   "execution_count": 7,
   "metadata": {},
   "outputs": [],
   "source": [
    "with  open(os.path.join(TEMP_DIR, 'temp_TXT.txt'), 'w') as f:\n",
    "    f.write('HELLO\\n')\n",
    "    f.write('1234\\n')"
   ]
  },
  {
   "cell_type": "code",
   "execution_count": 8,
   "metadata": {},
   "outputs": [],
   "source": [
    "poem =''''Однажды, в студеную зимнюю пору,\n",
    "Я из лесу вышел; был сильный мороз.\n",
    "Гляжу, поднимается медленно в гору\n",
    "Лошадка, везущая хворосту воз.'''"
   ]
  },
  {
   "cell_type": "code",
   "execution_count": 9,
   "metadata": {},
   "outputs": [],
   "source": [
    "with  open(os.path.join(TEMP_DIR, 'temp_TXT_poem.txt'), 'w') as f:\n",
    "    f.write(poem)"
   ]
  },
  {
   "cell_type": "code",
   "execution_count": 10,
   "metadata": {},
   "outputs": [],
   "source": [
    "with  open(os.path.join(TEMP_DIR, 'temp_TXT_poem_utf-8.txt'), 'w', encoding='utf-8') as f:\n",
    "    f.write(poem)"
   ]
  },
  {
   "cell_type": "markdown",
   "metadata": {},
   "source": [
    "# Чтение из файла"
   ]
  },
  {
   "cell_type": "code",
   "execution_count": 12,
   "metadata": {},
   "outputs": [
    {
     "name": "stdout",
     "output_type": "stream",
     "text": [
      "'Однажды, в \n"
     ]
    }
   ],
   "source": [
    "with  open(os.path.join(TEMP_DIR, 'temp_TXT_poem.txt')) as f:\n",
    "   print(f.read(12))"
   ]
  },
  {
   "cell_type": "code",
   "execution_count": 16,
   "metadata": {},
   "outputs": [
    {
     "name": "stdout",
     "output_type": "stream",
     "text": [
      "'Однажды, в студеную зимнюю пору,\n",
      "\n",
      "Я из лесу вышел; был сильный мороз.\n",
      "\n",
      "Гляжу, поднимается медленно в гору\n",
      "\n",
      "Лошадка, везущая хворосту воз.\n"
     ]
    }
   ],
   "source": [
    "with  open(os.path.join(TEMP_DIR, 'temp_TXT_poem.txt')) as f:\n",
    "    for line in f:\n",
    "        print(line)"
   ]
  },
  {
   "cell_type": "code",
   "execution_count": 17,
   "metadata": {},
   "outputs": [
    {
     "name": "stdout",
     "output_type": "stream",
     "text": [
      "\"'Однажды, в студеную зимнюю пору,\\n\"\n",
      "'Я из лесу вышел; был сильный мороз.\\n'\n",
      "'Гляжу, поднимается медленно в гору\\n'\n",
      "'Лошадка, везущая хворосту воз.'\n"
     ]
    }
   ],
   "source": [
    "with  open(os.path.join(TEMP_DIR, 'temp_TXT_poem.txt')) as f:\n",
    "    for line in f:\n",
    "        print(repr(line))"
   ]
  },
  {
   "cell_type": "code",
   "execution_count": 18,
   "metadata": {},
   "outputs": [
    {
     "name": "stdout",
     "output_type": "stream",
     "text": [
      "'Однажды, в студеную зимнюю пору,\n",
      "Я из лесу вышел; был сильный мороз.\n",
      "Гляжу, поднимается медленно в гору\n",
      "Лошадка, везущая хворосту воз.\n"
     ]
    }
   ],
   "source": [
    "with  open(os.path.join(TEMP_DIR, 'temp_TXT_poem.txt')) as f:\n",
    "    for line in f:\n",
    "        line = line.rstrip('\\n')\n",
    "        print(line)"
   ]
  },
  {
   "cell_type": "code",
   "execution_count": 19,
   "metadata": {},
   "outputs": [
    {
     "name": "stdout",
     "output_type": "stream",
     "text": [
      "0) \"'Однажды, в студеную зимнюю пору,\\n\"\n",
      "1) 'Я из лесу вышел; был сильный мороз.\\n'\n",
      "2) 'Гляжу, поднимается медленно в гору\\n'\n",
      "3) 'Лошадка, везущая хворосту воз.'\n"
     ]
    }
   ],
   "source": [
    "with  open(os.path.join(TEMP_DIR, 'temp_TXT_poem.txt')) as f:\n",
    "    for n, line in enumerate(f):\n",
    "        print(f\"{n}) {repr(line)}\")"
   ]
  },
  {
   "cell_type": "code",
   "execution_count": 20,
   "metadata": {},
   "outputs": [
    {
     "name": "stdout",
     "output_type": "stream",
     "text": [
      "[\"'Однажды, в студеную зимнюю пору,\\n\", 'Я из лесу вышел; был сильный мороз.\\n', 'Гляжу, поднимается медленно в гору\\n', 'Лошадка, везущая хворосту воз.']\n"
     ]
    }
   ],
   "source": [
    "with  open(os.path.join(TEMP_DIR, 'temp_TXT_poem.txt')) as f:\n",
    "     print(f.readlines())"
   ]
  },
  {
   "cell_type": "code",
   "execution_count": 23,
   "metadata": {},
   "outputs": [
    {
     "name": "stdout",
     "output_type": "stream",
     "text": [
      "'Однажды, в студеную зимнюю пору,\n",
      "\n"
     ]
    }
   ],
   "source": [
    "with  open(os.path.join(TEMP_DIR, 'temp_TXT_poem.txt')) as f:\n",
    "     print(f.readline())"
   ]
  },
  {
   "cell_type": "code",
   "execution_count": 24,
   "metadata": {},
   "outputs": [
    {
     "name": "stdout",
     "output_type": "stream",
     "text": [
      "''\n"
     ]
    }
   ],
   "source": [
    "with  open(os.path.join(TEMP_DIR, 'temp_TXT_poem.txt')) as f:\n",
    "     while True:\n",
    "          if (line := f.readline()) == '':\n",
    "               break\n",
    "     print(repr(line))"
   ]
  },
  {
   "cell_type": "code",
   "execution_count": 26,
   "metadata": {},
   "outputs": [
    {
     "name": "stdout",
     "output_type": "stream",
     "text": [
      "\"'Однажды, в студеную зимнюю пору,\\n\"\n",
      "'Я из лесу вышел; был сильный мороз.\\n'\n",
      "'Гляжу, поднимается медленно в гору\\n'\n",
      "'Лошадка, везущая хворосту воз.'\n"
     ]
    }
   ],
   "source": [
    "with  open(os.path.join(TEMP_DIR, 'temp_TXT_poem.txt')) as f:\n",
    "     while line := f.readline():\n",
    "        print(repr(line))"
   ]
  },
  {
   "cell_type": "code",
   "execution_count": 27,
   "metadata": {},
   "outputs": [],
   "source": [
    "filename_1 = os.path.join(TEMP_DIR, 'temp_TXT_poem.txt')\n",
    "filename_2 = os.path.join(TEMP_DIR, 'temp_TXT_poem_utf-8.txt')\n",
    "\n",
    "with open(filename_1) as f1, open(filename_2) as f2:\n",
    "    pass"
   ]
  }
 ],
 "metadata": {
  "kernelspec": {
   "display_name": "Python 3",
   "language": "python",
   "name": "python3"
  },
  "language_info": {
   "codemirror_mode": {
    "name": "ipython",
    "version": 3
   },
   "file_extension": ".py",
   "mimetype": "text/x-python",
   "name": "python",
   "nbconvert_exporter": "python",
   "pygments_lexer": "ipython3",
   "version": "3.12.1"
  }
 },
 "nbformat": 4,
 "nbformat_minor": 2
}
