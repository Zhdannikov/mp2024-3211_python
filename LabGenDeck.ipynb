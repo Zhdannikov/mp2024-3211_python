{
 "cells": [
  {
   "cell_type": "markdown",
   "metadata": {},
   "source": [
    "## Домашняя работа от 12.03.2024\n",
    "# Генератор колоды"
   ]
  },
  {
   "cell_type": "code",
   "execution_count": 3,
   "metadata": {},
   "outputs": [
    {
     "name": "stdout",
     "output_type": "stream",
     "text": [
      "('8', 'spades')  \n",
      "('10', 'clubs') ('Q', 'clubs') ('J', 'hearts') ('K', 'diamonds') ('K', 'hearts') ('K', 'clubs') ('9', 'hearts') "
     ]
    }
   ],
   "source": [
    "# Импортируем модуль random для генерации случайных чисел\n",
    "import random\n",
    "\n",
    "# Определяем функцию генератора колоды карт\n",
    "def deck_generator(deck, num=1):\n",
    "    # Перемешиваем колоду\n",
    "    random.shuffle(deck)\n",
    "    # Возвращаем указанное количество карт из колоды\n",
    "    for _ in range(num):\n",
    "        if deck:  # Если в колоде еще есть карты\n",
    "            yield deck.pop()  # Возвращаем верхнюю карту\n",
    "        else:\n",
    "            break  # Если карты закончились, прекращаем генерацию\n",
    "\n",
    "# Создаем колоду карт\n",
    "deck = [('6', 'hearts'), ('7', 'hearts'), ('8', 'hearts'), ('9', 'hearts'), ('10', 'hearts'), ('J', 'hearts'), ('Q', 'hearts'), ('K', 'hearts'), ('A', 'hearts'), ('6', 'diamonds'), ('7', 'diamonds'), ('8', 'diamonds'), ('9', 'diamonds'), ('10', 'diamonds'), ('J', 'diamonds'), ('Q', 'diamonds'), ('K', 'diamonds'), ('A', 'diamonds'), ('6', 'clubs'), ('7', 'clubs'), ('8', 'clubs'), ('9', 'clubs'), ('10', 'clubs'), ('J', 'clubs'), ('Q', 'clubs'), ('K', 'clubs'), ('A', 'clubs'), ('6', 'spades'), ('7', 'spades'), ('8', 'spades'), ('9', 'spades'), ('10', 'spades'), ('J', 'spades'), ('Q', 'spades'), ('K', 'spades'), ('A', 'spades')]\n",
    "# Генерируем одну карту из колоды\n",
    "cards = deck_generator(deck, 1)\n",
    "# Выводим сгенерированную карту\n",
    "for card in cards:\n",
    "    print(card, end = ' ')\n",
    "\n",
    "print(' ')\n",
    "\n",
    "# Создаем другую колоду карт\n",
    "deck = [('9', 'hearts'), ('10', 'hearts'), ('J', 'hearts'), ('Q', 'hearts'), ('K', 'hearts'), ('A', 'hearts'), ('9', 'diamonds'), ('10', 'diamonds'), ('J', 'diamonds'), ('Q', 'diamonds'), ('K', 'diamonds'), ('A', 'diamonds'), ('9', 'clubs'), ('10', 'clubs'), ('J', 'clubs'), ('Q', 'clubs'), ('K', 'clubs'), ('A', 'clubs'), ('9', 'spades'), ('10', 'spades'), ('J', 'spades'), ('Q', 'spades'), ('K', 'spades'), ('A', 'spades')]\n",
    "# Генерируем семь карт из колоды\n",
    "cards = deck_generator(deck, 7)\n",
    "# Выводим сгенерированные карты\n",
    "for card in cards:\n",
    "    print(card, end = ' ')\n"
   ]
  }
 ],
 "metadata": {
  "kernelspec": {
   "display_name": "Python 3",
   "language": "python",
   "name": "python3"
  },
  "language_info": {
   "codemirror_mode": {
    "name": "ipython",
    "version": 3
   },
   "file_extension": ".py",
   "mimetype": "text/x-python",
   "name": "python",
   "nbconvert_exporter": "python",
   "pygments_lexer": "ipython3",
   "version": "3.12.1"
  }
 },
 "nbformat": 4,
 "nbformat_minor": 2
}
