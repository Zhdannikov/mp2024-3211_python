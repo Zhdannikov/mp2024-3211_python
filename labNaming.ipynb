{
 "cells": [
  {
   "cell_type": "code",
   "execution_count": 1,
   "metadata": {},
   "outputs": [],
   "source": [
    "# Правильный нейминг"
   ]
  },
  {
   "cell_type": "code",
   "execution_count": 3,
   "metadata": {},
   "outputs": [
    {
     "name": "stdout",
     "output_type": "stream",
     "text": [
      "True\n"
     ]
    }
   ],
   "source": [
    "def pv(v, p):\n",
    "    if p== 'f':\n",
    "        return v>= 56.5\n",
    "    elif p == 'm':\n",
    "        return v >= 61.5\n",
    "    \n",
    "print(pv(54, 'm'))    "
   ]
  },
  {
   "cell_type": "code",
   "execution_count": 5,
   "metadata": {},
   "outputs": [
    {
     "name": "stdout",
     "output_type": "stream",
     "text": [
      "False\n",
      "False\n"
     ]
    }
   ],
   "source": [
    "def is_person_retiree(age: float, sex: str) -> bool:\n",
    "    \"\"\"Вернуть признак пенсионера.\n",
    "    Параметры:\n",
    "    age - возраст(лет)\n",
    "    sex - пол('f' - для женского пола и 'f' - для мужского пола)\"\"\"\n",
    "    if sex== 'f':\n",
    "        return age>= 56.5\n",
    "    elif sex == 'm':\n",
    "        return age >= 61.5\n",
    "    \n",
    "print(is_person_retiree(54, 'm'))    \n",
    "print(is_person_retiree(age=54, sex='m')) "
   ]
  }
 ],
 "metadata": {
  "kernelspec": {
   "display_name": "Python 3",
   "language": "python",
   "name": "python3"
  },
  "language_info": {
   "codemirror_mode": {
    "name": "ipython",
    "version": 3
   },
   "file_extension": ".py",
   "mimetype": "text/x-python",
   "name": "python",
   "nbconvert_exporter": "python",
   "pygments_lexer": "ipython3",
   "version": "3.12.1"
  }
 },
 "nbformat": 4,
 "nbformat_minor": 2
}
