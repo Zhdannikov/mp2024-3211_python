{
 "cells": [
  {
   "cell_type": "markdown",
   "metadata": {},
   "source": [
    "# Декоратор (Decorator)"
   ]
  },
  {
   "cell_type": "code",
   "execution_count": 3,
   "metadata": {},
   "outputs": [
    {
     "name": "stdout",
     "output_type": "stream",
     "text": [
      "Привет\n"
     ]
    }
   ],
   "source": [
    "def hello():\n",
    "    print('Привет')\n",
    "\n",
    "a = 1\n",
    "a = hello  \n",
    "a()  "
   ]
  },
  {
   "cell_type": "code",
   "execution_count": 8,
   "metadata": {},
   "outputs": [
    {
     "name": "stdout",
     "output_type": "stream",
     "text": [
      "**********\n",
      "Привет\n",
      "**********\n"
     ]
    }
   ],
   "source": [
    "# Стандартный Декоратор \n",
    "\n",
    "def star(func):\n",
    "    def wrapper():\n",
    "        print('*' * 10)\n",
    "        func()\n",
    "        print('*' * 10)\n",
    "    return wrapper\n",
    "\n",
    "\n",
    "def hello():\n",
    "    print('Привет')\n",
    "\n",
    "hello = star(hello)\n",
    "hello()\n"
   ]
  },
  {
   "cell_type": "code",
   "execution_count": 10,
   "metadata": {},
   "outputs": [
    {
     "name": "stdout",
     "output_type": "stream",
     "text": [
      "**********\n",
      "Пока\n",
      "**********\n"
     ]
    }
   ],
   "source": [
    "@star\n",
    "def bye():\n",
    "    print('Пока')\n",
    "\n",
    "bye()    "
   ]
  },
  {
   "cell_type": "code",
   "execution_count": 16,
   "metadata": {},
   "outputs": [
    {
     "name": "stdout",
     "output_type": "stream",
     "text": [
      "**********\n",
      "**********\n",
      "**********\n",
      "Имя = Дима\n",
      "**********\n",
      "**********\n",
      "**********\n"
     ]
    }
   ],
   "source": [
    "# Декоратор с функцией и аргументами\n",
    "\n",
    "def star(func):\n",
    "    def wrapper(*args, **kwsrds):\n",
    "        print('*' * 10)\n",
    "        func(*args, **kwsrds)\n",
    "        print('*' * 10)\n",
    "    return wrapper\n",
    "\n",
    "@star\n",
    "@star\n",
    "@star\n",
    "def print_person(name):\n",
    "    print(f\"Имя = {name}\")\n",
    "\n",
    "print_person('Дима')    "
   ]
  },
  {
   "cell_type": "code",
   "execution_count": 34,
   "metadata": {},
   "outputs": [
    {
     "name": "stdout",
     "output_type": "stream",
     "text": [
      "..........\n",
      "----------\n",
      "==========\n",
      "Доброе утро\n",
      "==========\n",
      "----------\n",
      "..........\n"
     ]
    }
   ],
   "source": [
    "# Декоратор с аргументами\n",
    "\n",
    "def my_select(char: str):\n",
    "    def select(func):\n",
    "        def wrapper(*args, **kwards):\n",
    "            print(char* 10)\n",
    "            func(*args, **kwards)\n",
    "            print(char * 10)\n",
    "        return wrapper\n",
    "    return select\n",
    "\n",
    "\n",
    "@my_select('.')\n",
    "@my_select('-')\n",
    "@my_select('=')\n",
    "def good_morning():\n",
    "    print('Доброе утро')\n",
    "\n",
    "good_morning()"
   ]
  }
 ],
 "metadata": {
  "kernelspec": {
   "display_name": "Python 3",
   "language": "python",
   "name": "python3"
  },
  "language_info": {
   "codemirror_mode": {
    "name": "ipython",
    "version": 3
   },
   "file_extension": ".py",
   "mimetype": "text/x-python",
   "name": "python",
   "nbconvert_exporter": "python",
   "pygments_lexer": "ipython3",
   "version": "3.12.1"
  }
 },
 "nbformat": 4,
 "nbformat_minor": 2
}
