{
 "cells": [
  {
   "cell_type": "markdown",
   "metadata": {},
   "source": [
    "# OS - работа с каталогами"
   ]
  },
  {
   "cell_type": "code",
   "execution_count": 1,
   "metadata": {},
   "outputs": [],
   "source": [
    "import os"
   ]
  },
  {
   "cell_type": "code",
   "execution_count": 2,
   "metadata": {},
   "outputs": [
    {
     "data": {
      "text/plain": [
       "'c:\\\\Users\\\\Мвидео\\\\source\\\\mp2024-3211_python'"
      ]
     },
     "execution_count": 2,
     "metadata": {},
     "output_type": "execute_result"
    }
   ],
   "source": [
    "os.getcwd()"
   ]
  },
  {
   "cell_type": "code",
   "execution_count": 3,
   "metadata": {},
   "outputs": [],
   "source": [
    "TEMP_DIR = 'temp'"
   ]
  },
  {
   "cell_type": "code",
   "execution_count": 4,
   "metadata": {},
   "outputs": [
    {
     "data": {
      "text/plain": [
       "True"
      ]
     },
     "execution_count": 4,
     "metadata": {},
     "output_type": "execute_result"
    }
   ],
   "source": [
    "os.path.exists(TEMP_DIR)"
   ]
  },
  {
   "cell_type": "code",
   "execution_count": 5,
   "metadata": {},
   "outputs": [],
   "source": [
    "if not os.path.exists(TEMP_DIR):\n",
    "    os.mkdir(TEMP_DIR)"
   ]
  },
  {
   "cell_type": "code",
   "execution_count": 8,
   "metadata": {},
   "outputs": [
    {
     "name": "stdout",
     "output_type": "stream",
     "text": [
      "287\n",
      "os.stat_result(st_mode=33206, st_ino=11821949022317918, st_dev=4523985422420573521, st_nlink=1, st_uid=0, st_gid=0, st_size=287, st_atime=1711443317, st_mtime=1707209990, st_ctime=1707207977)\n",
      "287\n"
     ]
    }
   ],
   "source": [
    "file_name =  'lab_hello.py'\n",
    "print(os.path.getsize(file_name))\n",
    "\n",
    "f = os.stat(file_name)\n",
    "print(f)\n",
    "print(f.st_size)"
   ]
  },
  {
   "cell_type": "code",
   "execution_count": 8,
   "metadata": {},
   "outputs": [
    {
     "data": {
      "text/plain": [
       "'c:\\\\Users\\\\Мвидео\\\\source'"
      ]
     },
     "execution_count": 8,
     "metadata": {},
     "output_type": "execute_result"
    }
   ],
   "source": [
    "os.chdir('..')\n",
    "os.getcwd()"
   ]
  },
  {
   "cell_type": "code",
   "execution_count": 10,
   "metadata": {},
   "outputs": [
    {
     "name": "stderr",
     "output_type": "stream",
     "text": [
      "<>:1: SyntaxWarning: invalid escape sequence '\\W'\n",
      "<>:1: SyntaxWarning: invalid escape sequence '\\W'\n",
      "C:\\Users\\Мвидео\\AppData\\Local\\Temp\\ipykernel_10436\\2485206319.py:1: SyntaxWarning: invalid escape sequence '\\W'\n",
      "  os.chdir('C:\\Windows\\Help')\n"
     ]
    },
    {
     "data": {
      "text/plain": [
       "<function nt.getcwd()>"
      ]
     },
     "execution_count": 10,
     "metadata": {},
     "output_type": "execute_result"
    }
   ],
   "source": [
    "os.chdir('C:\\Windows\\Help')\n",
    "os.getcwd"
   ]
  },
  {
   "cell_type": "code",
   "execution_count": 11,
   "metadata": {},
   "outputs": [
    {
     "data": {
      "text/plain": [
       "['Corporate', 'en-US', 'Help', 'mui', 'OEM', 'Windows']"
      ]
     },
     "execution_count": 11,
     "metadata": {},
     "output_type": "execute_result"
    }
   ],
   "source": [
    "os.listdir()"
   ]
  },
  {
   "cell_type": "code",
   "execution_count": 13,
   "metadata": {},
   "outputs": [
    {
     "name": "stdout",
     "output_type": "stream",
     "text": [
      ". ['Corporate', 'en-US', 'Help', 'mui', 'OEM', 'Windows'] []\n",
      ".\\Corporate [] []\n",
      ".\\en-US [] ['credits.rtf']\n",
      ".\\Help [] []\n",
      ".\\mui ['0409', '0419'] []\n",
      ".\\mui\\0409 [] ['cliconf.chm', 'mmc.CHM', 'msdasc.chm', 'msorcl32.chm', 'odbcinst.chm', 'odbcjet.chm', 'sqlsodbc.chm', 'sqlsoldb.chm']\n",
      ".\\mui\\0419 [] ['cliconf.chm', 'mmc.CHM', 'msdasc.chm', 'msorcl32.chm', 'odbcinst.chm', 'odbcjet.chm', 'sqlsodbc.chm', 'sqlsoldb.chm']\n",
      ".\\OEM ['ContentStore', 'IndexStore'] []\n",
      ".\\OEM\\ContentStore [] []\n",
      ".\\OEM\\IndexStore [] []\n",
      ".\\Windows ['ContentStore', 'IndexStore'] []\n",
      ".\\Windows\\ContentStore ['en-US'] []\n",
      ".\\Windows\\ContentStore\\en-US [] []\n",
      ".\\Windows\\IndexStore ['en-US'] []\n",
      ".\\Windows\\IndexStore\\en-US [] []\n"
     ]
    }
   ],
   "source": [
    "for cur_dir, dirs, files in os.walk('.'):\n",
    "    print(cur_dir, dirs, files)"
   ]
  },
  {
   "cell_type": "code",
   "execution_count": 14,
   "metadata": {},
   "outputs": [
    {
     "name": "stdout",
     "output_type": "stream",
     "text": [
      "Каталогов = 6  и файлов = 0 в папке .\n",
      "Каталогов = 0  и файлов = 0 в папке .\\Corporate\n",
      "Каталогов = 0  и файлов = 1 в папке .\\en-US\n",
      "Каталогов = 0  и файлов = 0 в папке .\\Help\n",
      "Каталогов = 2  и файлов = 0 в папке .\\mui\n",
      "Каталогов = 0  и файлов = 8 в папке .\\mui\\0409\n",
      "Каталогов = 0  и файлов = 8 в папке .\\mui\\0419\n",
      "Каталогов = 2  и файлов = 0 в папке .\\OEM\n",
      "Каталогов = 0  и файлов = 0 в папке .\\OEM\\ContentStore\n",
      "Каталогов = 0  и файлов = 0 в папке .\\OEM\\IndexStore\n",
      "Каталогов = 2  и файлов = 0 в папке .\\Windows\n",
      "Каталогов = 1  и файлов = 0 в папке .\\Windows\\ContentStore\n",
      "Каталогов = 0  и файлов = 0 в папке .\\Windows\\ContentStore\\en-US\n",
      "Каталогов = 1  и файлов = 0 в папке .\\Windows\\IndexStore\n",
      "Каталогов = 0  и файлов = 0 в папке .\\Windows\\IndexStore\\en-US\n"
     ]
    }
   ],
   "source": [
    "for cur_dir, dirs, files in os.walk('.'):\n",
    "    print(f\"Каталогов = {len(dirs)}  и файлов = {len(files)} в папке {cur_dir}\")"
   ]
  },
  {
   "cell_type": "code",
   "execution_count": 15,
   "metadata": {},
   "outputs": [
    {
     "name": "stdout",
     "output_type": "stream",
     "text": [
      "Каталог: C:\\Windows\\Help\n",
      "Каталог: C:\\Windows\\Help\\Corporate\n",
      "Каталог: C:\\Windows\\Help\\en-US\n",
      "Каталог: C:\\Windows\\Help\\Help\n",
      "Каталог: C:\\Windows\\Help\\mui\n",
      "Каталог: C:\\Windows\\Help\\mui\\0409\n",
      "Каталог: C:\\Windows\\Help\\mui\\0419\n",
      "Каталог: C:\\Windows\\Help\\OEM\n",
      "Каталог: C:\\Windows\\Help\\OEM\\ContentStore\n",
      "Каталог: C:\\Windows\\Help\\OEM\\IndexStore\n",
      "Каталог: C:\\Windows\\Help\\Windows\n",
      "Каталог: C:\\Windows\\Help\\Windows\\ContentStore\n",
      "Каталог: C:\\Windows\\Help\\Windows\\ContentStore\\en-US\n",
      "Каталог: C:\\Windows\\Help\\Windows\\IndexStore\n",
      "Каталог: C:\\Windows\\Help\\Windows\\IndexStore\\en-US\n"
     ]
    }
   ],
   "source": [
    "for cur_dir, dirs, files in os.walk('.'):\n",
    "    print(f\"Каталог: {os.path.abspath (cur_dir)}\")"
   ]
  },
  {
   "cell_type": "code",
   "execution_count": 19,
   "metadata": {},
   "outputs": [
    {
     "name": "stdout",
     "output_type": "stream",
     "text": [
      "Файл : .\\en-US\\credits.rtf\n",
      "Файл : .\\mui\\0409\\cliconf.chm\n",
      "Файл : .\\mui\\0409\\mmc.CHM\n",
      "Файл : .\\mui\\0409\\msdasc.chm\n",
      "Файл : .\\mui\\0409\\msorcl32.chm\n",
      "Файл : .\\mui\\0409\\odbcinst.chm\n",
      "Файл : .\\mui\\0409\\odbcjet.chm\n",
      "Файл : .\\mui\\0409\\sqlsodbc.chm\n",
      "Файл : .\\mui\\0409\\sqlsoldb.chm\n",
      "Файл : .\\mui\\0419\\cliconf.chm\n",
      "Файл : .\\mui\\0419\\mmc.CHM\n",
      "Файл : .\\mui\\0419\\msdasc.chm\n",
      "Файл : .\\mui\\0419\\msorcl32.chm\n",
      "Файл : .\\mui\\0419\\odbcinst.chm\n",
      "Файл : .\\mui\\0419\\odbcjet.chm\n",
      "Файл : .\\mui\\0419\\sqlsodbc.chm\n",
      "Файл : .\\mui\\0419\\sqlsoldb.chm\n"
     ]
    }
   ],
   "source": [
    "for cur_dir, dirs, files in os.walk('.'):\n",
    "    for file in files:\n",
    "        print(f'Файл : {os.path.join(cur_dir ,file)}')"
   ]
  },
  {
   "cell_type": "code",
   "execution_count": 9,
   "metadata": {},
   "outputs": [
    {
     "name": "stdout",
     "output_type": "stream",
     "text": [
      "4\n",
      "nt\n",
      "Мвидео\n"
     ]
    }
   ],
   "source": [
    "print(os.cpu_count())\n",
    "print(os.name)\n",
    "print(os.getlogin())"
   ]
  }
 ],
 "metadata": {
  "kernelspec": {
   "display_name": "Python 3",
   "language": "python",
   "name": "python3"
  },
  "language_info": {
   "codemirror_mode": {
    "name": "ipython",
    "version": 3
   },
   "file_extension": ".py",
   "mimetype": "text/x-python",
   "name": "python",
   "nbconvert_exporter": "python",
   "pygments_lexer": "ipython3",
   "version": "3.12.1"
  }
 },
 "nbformat": 4,
 "nbformat_minor": 2
}
