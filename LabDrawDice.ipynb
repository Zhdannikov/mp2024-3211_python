{
 "cells": [
  {
   "cell_type": "code",
   "execution_count": 1,
   "metadata": {},
   "outputs": [
    {
     "data": {
      "image/png": "[encoded data removed]",
      "text/plain": [
       "<PIL.Image.Image image mode=RGBA size=100x100>"
      ]
     },
     "execution_count": 1,
     "metadata": {},
     "output_type": "execute_result"
    }
   ],
   "source": [
    "from PIL import Image, ImageDraw\n",
    "\n",
    "def draw_dice_face(value, notation_type, size, dot_color):\n",
    "    # Создаем новое изображение с белым фоном\n",
    "    im = Image.new('RGBA', (size, size), (255, 255, 255, 255))\n",
    "    draw = ImageDraw.Draw(im)\n",
    "\n",
    "    # Определяем координаты точек для каждого значения\n",
    "    dot_positions = {\n",
    "        1: [(size // 2, size // 2)],\n",
    "        2: [(size * 3 // 4, size * 3 // 4), (size // 4, size // 4)],\n",
    "        3: [(size * 3 // 4, size // 4), (size // 2, size // 2), (size // 4, size * 3 // 4)],\n",
    "        4: [(size * 3 // 4, size // 4), (size * 3 // 4, size * 3 // 4), (size // 4, size // 4), (size // 4, size * 3 // 4)],\n",
    "        5: [(size * 3 // 4, size // 4), (size * 3 // 4, size * 3 // 4), (size // 2, size // 2), (size // 4, size // 4), (size // 4, size * 3 // 4)],\n",
    "        6: [(size * 3 // 4, size // 4), (size * 3 // 4, size // 2), (size * 3 // 4, size * 3 // 4), (size // 4, size // 4), (size // 4, size // 2), (size // 4, size * 3 // 4)]\n",
    "    }\n",
    "\n",
    "    # Рисуем точки или числа на грани кубика\n",
    "    if notation_type == 'dots':\n",
    "        for position in dot_positions[value]:\n",
    "            draw.ellipse([position[0] - size // 10, position[1] - size // 10, position[0] + size // 10, position[1] + size // 10], fill=dot_color)\n",
    "    elif notation_type == 'numbers':\n",
    "        draw.text((size // 2, size // 2), str(value), fill=dot_color)\n",
    "    elif notation_type == 'roman':\n",
    "        roman_numerals = {1: 'I', 2: 'II', 3: 'III', 4: 'IV', 5: 'V', 6: 'VI'}\n",
    "        draw.text((size // 2, size // 2), roman_numerals[value], fill=dot_color)\n",
    "\n",
    "    return im\n",
    "\n",
    "\n",
    "\n",
    "dice_face = draw_dice_face(6, 'dots', 100, 'black')\n",
    "dice_face"
   ]
  },
  {
   "cell_type": "code",
   "execution_count": 3,
   "metadata": {},
   "outputs": [
    {
     "data": {
      "image/png": "[encoded data removed]",
      "text/plain": [
       "<PIL.Image.Image image mode=RGBA size=100x100>"
      ]
     },
     "execution_count": 3,
     "metadata": {},
     "output_type": "execute_result"
    }
   ],
   "source": [
    "dice_face = draw_dice_face(3, 'dots', 100, 'green')\n",
    "dice_face"
   ]
  },
  {
   "cell_type": "code",
   "execution_count": 4,
   "metadata": {},
   "outputs": [
    {
     "data": {
      "image/png": "[encoded data removed]",
      "text/plain": [
       "<PIL.Image.Image image mode=RGBA size=100x100>"
      ]
     },
     "execution_count": 4,
     "metadata": {},
     "output_type": "execute_result"
    }
   ],
   "source": [
    "from PIL import Image, ImageDraw, ImageFont\n",
    "\n",
    "def draw_dice_face1(value, notation_type, size, dot_color, font_size):\n",
    "    # Создаем новое изображение с белым фоном\n",
    "    im = Image.new('RGBA', (size, size), (255, 255, 255, 255))\n",
    "    draw = ImageDraw.Draw(im)\n",
    "\n",
    "    # Определяем координаты точек для каждого значения\n",
    "    dot_positions = {\n",
    "        1: [(size // 2, size // 2)],\n",
    "        2: [(size * 3 // 4, size * 3 // 4), (size // 4, size // 4)],\n",
    "        3: [(size * 3 // 4, size // 4), (size // 2, size // 2), (size // 4, size * 3 // 4)],\n",
    "        4: [(size * 3 // 4, size // 4), (size * 3 // 4, size * 3 // 4), (size // 4, size // 4), (size // 4, size * 3 // 4)],\n",
    "        5: [(size * 3 // 4, size // 4), (size * 3 // 4, size * 3 // 4), (size // 2, size // 2), (size // 4, size // 4), (size // 4, size * 3 // 4)],\n",
    "        6: [(size * 3 // 4, size // 4), (size * 3 // 4, size // 2), (size * 3 // 4, size * 3 // 4), (size // 4, size // 4), (size // 4, size // 2), (size // 4, size * 3 // 4)]\n",
    "    }\n",
    "\n",
    "    # Создаем шрифт с заданным размером\n",
    "    font = ImageFont.truetype(\"arial\", font_size)\n",
    "\n",
    "    # Рисуем точки или числа на грани кубика\n",
    "    if notation_type == 'dots':\n",
    "        for position in dot_positions[value]:\n",
    "            draw.ellipse([position[0] - size // 10, position[1] - size // 10, position[0] + size // 10, position[1] + size // 10], fill=dot_color)\n",
    "    elif notation_type == 'numbers':\n",
    "        draw.text((size // 2, size // 2), str(value), fill=dot_color, font=font)\n",
    "    elif notation_type == 'roman':\n",
    "        roman_numerals = {1: 'I', 2: 'II', 3: 'III', 4: 'IV', 5: 'V', 6: 'VI'}\n",
    "        draw.text((size // 2, size // 2), roman_numerals[value], fill=dot_color, font=font)\n",
    "\n",
    "    return im\n",
    "\n",
    "\n",
    "number_face = draw_dice_face1(5, 'numbers', 100, 'yellow', 50)\n",
    "number_face "
   ]
  },
  {
   "cell_type": "code",
   "execution_count": 5,
   "metadata": {},
   "outputs": [
    {
     "data": {
      "image/png": "[encoded data removed]",
      "text/plain": [
       "<PIL.Image.Image image mode=RGBA size=200x200>"
      ]
     },
     "execution_count": 5,
     "metadata": {},
     "output_type": "execute_result"
    }
   ],
   "source": [
    "from PIL import Image, ImageDraw\n",
    "\n",
    "def draw_custom_dots(size, dot_color):\n",
    "    # Создаем новое изображение с зеленым фоном\n",
    "    im = Image.new('RGBA', (size, size), (0, 255, 0, 255))\n",
    "    draw = ImageDraw.Draw(im)\n",
    "\n",
    "    # Определяем координаты для трех точек\n",
    "    dot_positions = [(size // 4, size // 4), (size // 2, size // 2), (size * 3 // 4, size * 3 // 4)]\n",
    "\n",
    "    # Рисуем точки\n",
    "    for position in dot_positions:\n",
    "        draw.ellipse([position[0] - size // 10, position[1] - size // 10, position[0] + size // 10, position[1] + size // 10], fill=dot_color)\n",
    "\n",
    "    return im\n",
    "\n",
    "# Вызываем функцию с размером 200 и желтым цветом\n",
    "im = draw_custom_dots(200, (255, 255, 0, 255))\n",
    "im"
   ]
  },
  {
   "cell_type": "code",
   "execution_count": 6,
   "metadata": {},
   "outputs": [
    {
     "data": {
      "image/png": "[encoded data removed]",
      "text/plain": [
       "<PIL.Image.Image image mode=RGBA size=100x100>"
      ]
     },
     "execution_count": 6,
     "metadata": {},
     "output_type": "execute_result"
    }
   ],
   "source": [
    "dice_face = draw_dice_face1(6, 'roman', 100, 'black', 50)\n",
    "dice_face"
   ]
  }
 ],
 "metadata": {
  "kernelspec": {
   "display_name": "Python 3",
   "language": "python",
   "name": "python3"
  },
  "language_info": {
   "codemirror_mode": {
    "name": "ipython",
    "version": 3
   },
   "file_extension": ".py",
   "mimetype": "text/x-python",
   "name": "python",
   "nbconvert_exporter": "python",
   "pygments_lexer": "ipython3",
   "version": "3.12.1"
  }
 },
 "nbformat": 4,
 "nbformat_minor": 2
}
