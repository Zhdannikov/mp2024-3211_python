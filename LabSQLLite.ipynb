{
 "cells": [
  {
   "cell_type": "markdown",
   "metadata": {},
   "source": [
    "# Работа с SQLlite\n",
    "\n",
    "https://sqliteonline.com/"
   ]
  },
  {
   "cell_type": "code",
   "execution_count": 71,
   "metadata": {},
   "outputs": [
    {
     "name": "stdout",
     "output_type": "stream",
     "text": [
      "Requirement already satisfied: prettytable in c:\\users\\мвидео\\appdata\\local\\programs\\python\\python312\\lib\\site-packages (3.10.0)\n",
      "Requirement already satisfied: wcwidth in c:\\users\\мвидео\\appdata\\roaming\\python\\python312\\site-packages (from prettytable) (0.2.13)\n",
      "Note: you may need to restart the kernel to use updated packages.\n"
     ]
    },
    {
     "name": "stderr",
     "output_type": "stream",
     "text": [
      "\n",
      "[notice] A new release of pip is available: 23.2.1 -> 24.0\n",
      "[notice] To update, run: python.exe -m pip install --upgrade pip\n"
     ]
    }
   ],
   "source": [
    "pip install prettytable"
   ]
  },
  {
   "cell_type": "code",
   "execution_count": 72,
   "metadata": {},
   "outputs": [],
   "source": [
    "import sqlite3\n",
    "from prettytable import from_db_cursor"
   ]
  },
  {
   "cell_type": "code",
   "execution_count": 73,
   "metadata": {},
   "outputs": [
    {
     "data": {
      "text/plain": [
       "'temp\\\\temp_SQLite.db'"
      ]
     },
     "execution_count": 73,
     "metadata": {},
     "output_type": "execute_result"
    }
   ],
   "source": [
    "import os\n",
    "\n",
    "TEMP_DIR = 'temp'\n",
    "if not os.path.exists(TEMP_DIR):\n",
    "    os.mkdir(TEMP_DIR)\n",
    "\n",
    "# Прмер вызова\n",
    "os.path.join(TEMP_DIR, \"temp_SQLite.db\")    "
   ]
  },
  {
   "cell_type": "code",
   "execution_count": 74,
   "metadata": {},
   "outputs": [],
   "source": [
    "#db_name = os.path.join(TEMP_DIR, \"temp_SQLite.db\")    \n",
    "db_name = \":memory:\"\n",
    "\n",
    "if os.path.isfile(db_name):\n",
    "    os.remove(db_name)\n",
    "    print(f\"Файл [{db_name}] Удален\")\n",
    "\n",
    "db = sqlite3.connect(db_name)\n",
    "cur = db.cursor()"
   ]
  },
  {
   "cell_type": "code",
   "execution_count": 75,
   "metadata": {},
   "outputs": [
    {
     "name": "stdout",
     "output_type": "stream",
     "text": [
      "None\n"
     ]
    }
   ],
   "source": [
    "cur.execute(\"CREATE TABLE cities (id INTEGER PRIMARY KEY AUTOINCREMENT NOT NULL, name VARCHAR(100) UNIQUE)\")\n",
    "print(from_db_cursor(cur))"
   ]
  },
  {
   "cell_type": "code",
   "execution_count": 76,
   "metadata": {},
   "outputs": [
    {
     "name": "stdout",
     "output_type": "stream",
     "text": [
      "+-----+------+--------------+---------+------------+----+\n",
      "| cid | name |     type     | notnull | dflt_value | pk |\n",
      "+-----+------+--------------+---------+------------+----+\n",
      "|  0  |  id  |   INTEGER    |    1    |    None    | 1  |\n",
      "|  1  | name | VARCHAR(100) |    0    |    None    | 0  |\n",
      "+-----+------+--------------+---------+------------+----+\n"
     ]
    }
   ],
   "source": [
    "cur.execute(\"PRAGMA table_info('cities')\")\n",
    "print(from_db_cursor(cur))"
   ]
  },
  {
   "cell_type": "code",
   "execution_count": 77,
   "metadata": {},
   "outputs": [
    {
     "data": {
      "text/html": [
       "<table>\n",
       "    <thead>\n",
       "        <tr>\n",
       "            <th>id</th>\n",
       "            <th>name</th>\n",
       "        </tr>\n",
       "    </thead>\n",
       "    <tbody>\n",
       "        <tr>\n",
       "            <td>1</td>\n",
       "            <td>Севастополь</td>\n",
       "        </tr>\n",
       "    </tbody>\n",
       "</table>"
      ],
      "text/plain": [
       "+----+-------------+\n",
       "| id |     name    |\n",
       "+----+-------------+\n",
       "| 1  | Севастополь |\n",
       "+----+-------------+"
      ]
     },
     "execution_count": 77,
     "metadata": {},
     "output_type": "execute_result"
    }
   ],
   "source": [
    "cur.execute(\"INSERT INTO cities(name) VALUES ('Севастополь')\")\n",
    "\n",
    "cur.execute(\"SELECT * FROM cities\")\n",
    "from_db_cursor(cur)"
   ]
  },
  {
   "cell_type": "code",
   "execution_count": 78,
   "metadata": {},
   "outputs": [
    {
     "data": {
      "text/plain": [
       "['Москва', 'Уфа', 'Калуга']"
      ]
     },
     "execution_count": 78,
     "metadata": {},
     "output_type": "execute_result"
    }
   ],
   "source": [
    "cities = \"Москва, Уфа, Калуга\".split(', ')\n",
    "cities"
   ]
  },
  {
   "cell_type": "code",
   "execution_count": 79,
   "metadata": {},
   "outputs": [
    {
     "data": {
      "text/plain": [
       "[('Москва',), ('Уфа',), ('Калуга',)]"
      ]
     },
     "execution_count": 79,
     "metadata": {},
     "output_type": "execute_result"
    }
   ],
   "source": [
    "[(i,) for i in cities]"
   ]
  },
  {
   "cell_type": "code",
   "execution_count": 80,
   "metadata": {},
   "outputs": [
    {
     "data": {
      "text/plain": [
       "<sqlite3.Cursor at 0x2413b988140>"
      ]
     },
     "execution_count": 80,
     "metadata": {},
     "output_type": "execute_result"
    }
   ],
   "source": [
    "cur.executemany(\"INSERT INTO cities(name) VALUES (?)\", [(i,) for i in cities])"
   ]
  },
  {
   "cell_type": "code",
   "execution_count": 81,
   "metadata": {},
   "outputs": [
    {
     "data": {
      "text/html": [
       "<table>\n",
       "    <thead>\n",
       "        <tr>\n",
       "            <th>id</th>\n",
       "            <th>name</th>\n",
       "        </tr>\n",
       "    </thead>\n",
       "    <tbody>\n",
       "        <tr>\n",
       "            <td>1</td>\n",
       "            <td>Севастополь</td>\n",
       "        </tr>\n",
       "        <tr>\n",
       "            <td>2</td>\n",
       "            <td>Москва</td>\n",
       "        </tr>\n",
       "        <tr>\n",
       "            <td>3</td>\n",
       "            <td>Уфа</td>\n",
       "        </tr>\n",
       "        <tr>\n",
       "            <td>4</td>\n",
       "            <td>Калуга</td>\n",
       "        </tr>\n",
       "    </tbody>\n",
       "</table>"
      ],
      "text/plain": [
       "+----+-------------+\n",
       "| id |     name    |\n",
       "+----+-------------+\n",
       "| 1  | Севастополь |\n",
       "| 2  |    Москва   |\n",
       "| 3  |     Уфа     |\n",
       "| 4  |    Калуга   |\n",
       "+----+-------------+"
      ]
     },
     "execution_count": 81,
     "metadata": {},
     "output_type": "execute_result"
    }
   ],
   "source": [
    "cur.execute(\"SELECT * FROM cities\")\n",
    "from_db_cursor(cur)"
   ]
  },
  {
   "cell_type": "code",
   "execution_count": 82,
   "metadata": {},
   "outputs": [
    {
     "name": "stdout",
     "output_type": "stream",
     "text": [
      "<class 'sqlite3.Cursor'>\n",
      "(1, 'Севастополь') (2, 'Москва') (3, 'Уфа') (4, 'Калуга')\n"
     ]
    }
   ],
   "source": [
    "cur.execute(\"SELECT * FROM cities\")\n",
    "print(type(cur))\n",
    "print(*cur)"
   ]
  },
  {
   "cell_type": "code",
   "execution_count": 83,
   "metadata": {},
   "outputs": [
    {
     "data": {
      "text/html": [
       "<table>\n",
       "    <thead>\n",
       "        <tr>\n",
       "            <th>id</th>\n",
       "            <th>name</th>\n",
       "        </tr>\n",
       "    </thead>\n",
       "    <tbody>\n",
       "        <tr>\n",
       "            <td>1</td>\n",
       "            <td>Севастополь</td>\n",
       "        </tr>\n",
       "        <tr>\n",
       "            <td>2</td>\n",
       "            <td>Москва</td>\n",
       "        </tr>\n",
       "        <tr>\n",
       "            <td>3</td>\n",
       "            <td>Уфа</td>\n",
       "        </tr>\n",
       "        <tr>\n",
       "            <td>4</td>\n",
       "            <td>Калуга</td>\n",
       "        </tr>\n",
       "        <tr>\n",
       "            <td>5</td>\n",
       "            <td>London</td>\n",
       "        </tr>\n",
       "    </tbody>\n",
       "</table>"
      ],
      "text/plain": [
       "+----+-------------+\n",
       "| id |     name    |\n",
       "+----+-------------+\n",
       "| 1  | Севастополь |\n",
       "| 2  |    Москва   |\n",
       "| 3  |     Уфа     |\n",
       "| 4  |    Калуга   |\n",
       "| 5  |    London   |\n",
       "+----+-------------+"
      ]
     },
     "execution_count": 83,
     "metadata": {},
     "output_type": "execute_result"
    }
   ],
   "source": [
    "sql_insert = \"INSERT INTO cities(name) VALUES (:city)\"\n",
    "cur.execute(sql_insert, {\"city\": \"London\"})\n",
    "\n",
    "cur.execute(\"SELECT * FROM cities\")\n",
    "from_db_cursor(cur)"
   ]
  },
  {
   "cell_type": "code",
   "execution_count": 84,
   "metadata": {},
   "outputs": [
    {
     "data": {
      "text/html": [
       "<table>\n",
       "    <thead>\n",
       "        <tr>\n",
       "            <th>id</th>\n",
       "            <th>name</th>\n",
       "        </tr>\n",
       "    </thead>\n",
       "    <tbody>\n",
       "        <tr>\n",
       "            <td>1</td>\n",
       "            <td>Севастополь</td>\n",
       "        </tr>\n",
       "        <tr>\n",
       "            <td>2</td>\n",
       "            <td>Москва</td>\n",
       "        </tr>\n",
       "        <tr>\n",
       "            <td>3</td>\n",
       "            <td>Уфа</td>\n",
       "        </tr>\n",
       "        <tr>\n",
       "            <td>4</td>\n",
       "            <td>Калуга</td>\n",
       "        </tr>\n",
       "    </tbody>\n",
       "</table>"
      ],
      "text/plain": [
       "+----+-------------+\n",
       "| id |     name    |\n",
       "+----+-------------+\n",
       "| 1  | Севастополь |\n",
       "| 2  |    Москва   |\n",
       "| 3  |     Уфа     |\n",
       "| 4  |    Калуга   |\n",
       "+----+-------------+"
      ]
     },
     "execution_count": 84,
     "metadata": {},
     "output_type": "execute_result"
    }
   ],
   "source": [
    "sql_delete = \"DELETE FROM cities WHERE id = ?\"\n",
    "cur.execute(sql_delete, [5])\n",
    "\n",
    "cur.execute(\"SELECT * FROM cities\")\n",
    "from_db_cursor(cur)"
   ]
  },
  {
   "cell_type": "code",
   "execution_count": 86,
   "metadata": {},
   "outputs": [
    {
     "data": {
      "text/html": [
       "<table>\n",
       "    <thead>\n",
       "        <tr>\n",
       "            <th>id</th>\n",
       "            <th>name</th>\n",
       "        </tr>\n",
       "    </thead>\n",
       "    <tbody>\n",
       "        <tr>\n",
       "            <td>1</td>\n",
       "            <td>г. Севастополь</td>\n",
       "        </tr>\n",
       "        <tr>\n",
       "            <td>2</td>\n",
       "            <td>Москва</td>\n",
       "        </tr>\n",
       "        <tr>\n",
       "            <td>3</td>\n",
       "            <td>Уфа</td>\n",
       "        </tr>\n",
       "        <tr>\n",
       "            <td>4</td>\n",
       "            <td>Калуга</td>\n",
       "        </tr>\n",
       "    </tbody>\n",
       "</table>"
      ],
      "text/plain": [
       "+----+----------------+\n",
       "| id |      name      |\n",
       "+----+----------------+\n",
       "| 1  | г. Севастополь |\n",
       "| 2  |     Москва     |\n",
       "| 3  |      Уфа       |\n",
       "| 4  |     Калуга     |\n",
       "+----+----------------+"
      ]
     },
     "execution_count": 86,
     "metadata": {},
     "output_type": "execute_result"
    }
   ],
   "source": [
    "sql_update = \"\"\"\n",
    "UPDATE cities\n",
    "SET name = 'г. ' || name\n",
    "WHERE id = 1\n",
    "  AND name NOT LIKE 'г.%'\n",
    "\"\"\"\n",
    "cur.execute(sql_update)\n",
    "\n",
    "cur.execute(\"SELECT * FROM cities\")\n",
    "from_db_cursor(cur)"
   ]
  },
  {
   "cell_type": "code",
   "execution_count": 87,
   "metadata": {},
   "outputs": [
    {
     "name": "stdout",
     "output_type": "stream",
     "text": [
      "<class 'list'>\n",
      "(1, 'г. Севастополь')\n",
      "[(1, 'г. Севастополь'), (2, 'Москва')]\n"
     ]
    }
   ],
   "source": [
    "# Извлечь все\n",
    "cur.execute(\"SELECT * FROM cities\")\n",
    "t = cur.fetchall()\n",
    "\n",
    "print(type(t))\n",
    "print(t[0])\n",
    "print(t[0:2])"
   ]
  },
  {
   "cell_type": "code",
   "execution_count": 88,
   "metadata": {},
   "outputs": [
    {
     "name": "stdout",
     "output_type": "stream",
     "text": [
      "(1, 'г. Севастополь')\n"
     ]
    }
   ],
   "source": [
    "print(cur.execute(\"SELECT * FROM cities\").fetchone())"
   ]
  },
  {
   "cell_type": "code",
   "execution_count": 91,
   "metadata": {},
   "outputs": [
    {
     "name": "stdout",
     "output_type": "stream",
     "text": [
      "[(1, 'г. Севастополь'), (2, 'Москва'), (3, 'Уфа')]\n"
     ]
    }
   ],
   "source": [
    "print(cur.execute(\"SELECT * FROM cities\").fetchall()[:3])"
   ]
  },
  {
   "cell_type": "code",
   "execution_count": 92,
   "metadata": {},
   "outputs": [
    {
     "name": "stdout",
     "output_type": "stream",
     "text": [
      "[(1, 'г. Севастополь'), (2, 'Москва'), (3, 'Уфа')]\n"
     ]
    }
   ],
   "source": [
    "print(cur.execute(\"SELECT * FROM cities LIMIT 3\").fetchall())"
   ]
  },
  {
   "cell_type": "code",
   "execution_count": 93,
   "metadata": {},
   "outputs": [
    {
     "name": "stdout",
     "output_type": "stream",
     "text": [
      "[(1, 'г. Севастополь'), (2, 'Москва'), (3, 'Уфа')]\n"
     ]
    }
   ],
   "source": [
    "print(cur.execute(\"SELECT * FROM cities\").fetchmany(size=3))"
   ]
  }
 ],
 "metadata": {
  "kernelspec": {
   "display_name": "Python 3",
   "language": "python",
   "name": "python3"
  },
  "language_info": {
   "codemirror_mode": {
    "name": "ipython",
    "version": 3
   },
   "file_extension": ".py",
   "mimetype": "text/x-python",
   "name": "python",
   "nbconvert_exporter": "python",
   "pygments_lexer": "ipython3",
   "version": "3.12.1"
  }
 },
 "nbformat": 4,
 "nbformat_minor": 2
}
