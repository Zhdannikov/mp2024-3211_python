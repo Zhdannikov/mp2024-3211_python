{
 "cells": [
  {
   "cell_type": "markdown",
   "metadata": {},
   "source": [
    "# Функция итератор"
   ]
  },
  {
   "cell_type": "code",
   "execution_count": 8,
   "metadata": {},
   "outputs": [
    {
     "name": "stdout",
     "output_type": "stream",
     "text": [
      "['Гомель', 'Брест', 'Орша']\n",
      "<class 'list_iterator'>\n",
      "Гомель\n",
      "Брест\n",
      "Орша\n"
     ]
    }
   ],
   "source": [
    "cities = \"Гомель, Брест, Орша\".split(', ')\n",
    "print(cities)\n",
    "it = iter(cities)\n",
    "print(type(it))\n",
    "print(next(it))\n",
    "print(next(it))\n",
    "print(next(it))\n"
   ]
  },
  {
   "cell_type": "code",
   "execution_count": 13,
   "metadata": {},
   "outputs": [
    {
     "name": "stdout",
     "output_type": "stream",
     "text": [
      "Гомель\n",
      "Брест\n",
      "<list_iterator object at 0x000001A55F54E920>\n"
     ]
    }
   ],
   "source": [
    "it = iter(cities)\n",
    "print(it.__next__())\n",
    "print(it.__next__())\n",
    "print(cities.__iter__())"
   ]
  },
  {
   "cell_type": "code",
   "execution_count": 14,
   "metadata": {},
   "outputs": [
    {
     "name": "stdout",
     "output_type": "stream",
     "text": [
      "Гомель\n",
      "Брест\n",
      "Орша\n"
     ]
    }
   ],
   "source": [
    "for city in cities:\n",
    "    print(city)"
   ]
  },
  {
   "cell_type": "code",
   "execution_count": 15,
   "metadata": {},
   "outputs": [
    {
     "name": "stdout",
     "output_type": "stream",
     "text": [
      "Гомель\n",
      "Брест\n",
      "Орша\n"
     ]
    }
   ],
   "source": [
    "for city in iter(cities):\n",
    "    print(city)"
   ]
  },
  {
   "cell_type": "code",
   "execution_count": 17,
   "metadata": {},
   "outputs": [
    {
     "name": "stdout",
     "output_type": "stream",
     "text": [
      "<class 'str_ascii_iterator'>\n",
      "H\n",
      "e l l o\n"
     ]
    }
   ],
   "source": [
    "it = iter(\"Hello\")\n",
    "print(type(it))\n",
    "print(next(it))\n",
    "print(*it)"
   ]
  },
  {
   "cell_type": "code",
   "execution_count": 18,
   "metadata": {},
   "outputs": [
    {
     "name": "stdout",
     "output_type": "stream",
     "text": [
      "H\n",
      "e\n",
      "H\n",
      "H\n",
      "l l o\n"
     ]
    }
   ],
   "source": [
    "it1 = iter(\"Hello\")\n",
    "it2 = iter(\"Hello\")\n",
    "it3 = iter(\"Hello\")\n",
    "print(next(it2))\n",
    "print(next(it2))\n",
    "print(next(it3))\n",
    "print(next(it1))\n",
    "print(*it2)"
   ]
  }
 ],
 "metadata": {
  "kernelspec": {
   "display_name": "Python 3",
   "language": "python",
   "name": "python3"
  },
  "language_info": {
   "codemirror_mode": {
    "name": "ipython",
    "version": 3
   },
   "file_extension": ".py",
   "mimetype": "text/x-python",
   "name": "python",
   "nbconvert_exporter": "python",
   "pygments_lexer": "ipython3",
   "version": "3.12.1"
  }
 },
 "nbformat": 4,
 "nbformat_minor": 2
}
