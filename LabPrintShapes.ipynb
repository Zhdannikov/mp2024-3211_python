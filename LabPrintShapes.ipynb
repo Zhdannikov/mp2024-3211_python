{
 "cells": [
  {
   "cell_type": "code",
   "execution_count": 5,
   "metadata": {},
   "outputs": [
    {
     "name": "stdout",
     "output_type": "stream",
     "text": [
      "***************\n",
      "*             *\n",
      "*             *\n",
      "*             *\n",
      "***************\n"
     ]
    }
   ],
   "source": [
    "def draw_rectangle(width, height, fill, symbol):\n",
    "    for i in range(height):\n",
    "        if i == 0 or i == height - 1:\n",
    "            print(symbol * width)\n",
    "        else:\n",
    "            print(symbol + fill * (width - 2) + symbol)\n",
    "draw_rectangle(15, 5, ' ', '*')"
   ]
  },
  {
   "cell_type": "code",
   "execution_count": 6,
   "metadata": {},
   "outputs": [
    {
     "name": "stdout",
     "output_type": "stream",
     "text": [
      "***************\n",
      "***************\n",
      "***************\n",
      "***************\n",
      "***************\n"
     ]
    }
   ],
   "source": [
    "def draw_rectangle(width, height, fill, symbol):\n",
    "    for i in range(height):\n",
    "        if i == 0 or i == height - 1:\n",
    "            print(symbol * width)\n",
    "        else:\n",
    "            print(symbol + fill * (width - 2) + symbol)\n",
    "draw_rectangle(15, 5, '*', '*')"
   ]
  },
  {
   "cell_type": "code",
   "execution_count": 45,
   "metadata": {},
   "outputs": [
    {
     "name": "stdout",
     "output_type": "stream",
     "text": [
      "*\n",
      "**\n",
      "***\n",
      "****\n",
      "*****\n",
      "******\n"
     ]
    }
   ],
   "source": [
    "n = 10\n",
    "for i in range(n//2+1):\n",
    "      print('*' * (i+1))\n"
   ]
  },
  {
   "cell_type": "code",
   "execution_count": 87,
   "metadata": {},
   "outputs": [
    {
     "name": "stdout",
     "output_type": "stream",
     "text": [
      "          \n",
      "         *\n",
      "        **\n",
      "       ***\n",
      "      ****\n",
      "     *****\n"
     ]
    }
   ],
   "source": [
    "n = 10\n",
    "for i in range(n//2+1):\n",
    "      print(' ' * (n - i) + '*' * i)"
   ]
  },
  {
   "cell_type": "code",
   "execution_count": 83,
   "metadata": {},
   "outputs": [
    {
     "name": "stdout",
     "output_type": "stream",
     "text": [
      "******\n",
      "*****\n",
      "****\n",
      "***\n",
      "**\n",
      "*\n"
     ]
    }
   ],
   "source": [
    "n = 12\n",
    "for i in range(n//2, 0, -1):\n",
    "      print('*' * i)\n"
   ]
  },
  {
   "cell_type": "code",
   "execution_count": 86,
   "metadata": {},
   "outputs": [
    {
     "name": "stdout",
     "output_type": "stream",
     "text": [
      "    ******\n",
      "     *****\n",
      "      ****\n",
      "       ***\n",
      "        **\n",
      "         *\n"
     ]
    }
   ],
   "source": [
    "n = 10\n",
    "for i in range(n//2+1, 0, -1):\n",
    "    print(' ' * (n - i) + '*' * i)"
   ]
  },
  {
   "cell_type": "code",
   "execution_count": 136,
   "metadata": {},
   "outputs": [
    {
     "name": "stdout",
     "output_type": "stream",
     "text": [
      "         *\n",
      "        ***\n",
      "       *****\n",
      "      *******\n",
      "     *********\n",
      "    ***********\n",
      "   *************\n",
      "  ***************\n",
      " *****************\n",
      "*******************\n",
      " *****************\n",
      "  ***************\n",
      "   *************\n",
      "    ***********\n",
      "     *********\n",
      "      *******\n",
      "       *****\n",
      "        ***\n",
      "         *\n"
     ]
    }
   ],
   "source": [
    "\n",
    "num_rows = 10\n",
    "\n",
    "# Нарисуем верхнюю часть ромба\n",
    "for i in range(1, num_rows + 1):\n",
    "    print(' ' * (num_rows - i) + '*' * (2 * i - 1))\n",
    "\n",
    "# Нарисуем нижнюю часть ромба\n",
    "for i in range(num_rows - 1, 0, -1):\n",
    "   print(' ' * (num_rows - i) + '*' * (2 * i - 1))"
   ]
  },
  {
   "cell_type": "code",
   "execution_count": 135,
   "metadata": {},
   "outputs": [
    {
     "name": "stdout",
     "output_type": "stream",
     "text": [
      "********* ********* \n",
      "********   ********   \n",
      "*******     *******     \n",
      "******       ******       \n",
      "*****         *****         \n",
      "****           ****           \n",
      "***             ***             \n",
      "**               **               \n",
      "*                 *                 \n",
      "                                      \n",
      "*                 *                 \n",
      "**               **               \n",
      "***             ***             \n",
      "****           ****           \n",
      "*****         *****         \n",
      "******       ******       \n",
      "*******     *******     \n",
      "********   ********   \n",
      "********* ********* \n"
     ]
    }
   ],
   "source": [
    "# Нарисуем ромб из звездочек с нумерацией строк\n",
    "\n",
    "# Зададим количество строк\n",
    "num_rows = 10\n",
    "\n",
    "# Нарисуем верхнюю часть ромба\n",
    "for i in range(1, num_rows + 1):\n",
    "    print('*' * (num_rows - i) + ' ' * (2 * i - 1) + '*' * (num_rows - i) + ' ' * (2 * i - 1))\n",
    "\n",
    "# Нарисуем нижнюю часть ромба\n",
    "for i in range(num_rows - 1, 0, -1):\n",
    "    print('*' * (num_rows - i) + ' ' * (2 * i - 1)+'*' * (num_rows - i) + ' ' * (2 * i - 1))\n",
    "\n"
   ]
  },
  {
   "cell_type": "code",
   "execution_count": 222,
   "metadata": {},
   "outputs": [
    {
     "name": "stdout",
     "output_type": "stream",
     "text": [
      " 4444444\n",
      "  33333\n",
      "   222\n",
      "    1\n",
      "    1\n",
      "   222\n",
      "  33333\n",
      " 4444444\n"
     ]
    }
   ],
   "source": [
    "num_rows = 5\n",
    "# Нарисуем нижнюю часть ромба\n",
    "for i in range(num_rows - 1, 0, -1):\n",
    "    print(' ' * (num_rows - i) + str(i) * (2 * i - 1))\n",
    "\n",
    "# Нарисуем верхнюю часть ромба\n",
    "for i in range(1, num_rows):\n",
    "    print(' ' * (num_rows - i) + str(i) * (2 * i - 1))"
   ]
  },
  {
   "cell_type": "code",
   "execution_count": 270,
   "metadata": {},
   "outputs": [
    {
     "name": "stdout",
     "output_type": "stream",
     "text": [
      "1         / \n",
      " 1       /  \n",
      "  1     /   \n",
      "   1   /    \n",
      "    1 /     \n",
      "     / 1    \n",
      "    /   1   \n",
      "   /     1  \n",
      "  /       1 \n",
      " /         1\n"
     ]
    }
   ],
   "source": [
    "num_rows = 5\n",
    "\n",
    "# Нарисуем верхнюю часть X\n",
    "for i in range(num_rows):\n",
    "    x = i + 1\n",
    "    print(' ' * i + '1' + ' ' * (num_rows - x + 1)+ ' ' * (num_rows - x) + '/' + ' ' * i + ' ' * (i < num_rows + 1))\n",
    "\n",
    "# Нарисуем нижнюю часть X\n",
    "for i in range(num_rows):\n",
    "    x = i + 1\n",
    "    print(' ' * (num_rows - x + 1) + '/' + ' ' * i + ' ' * (i < num_rows+ 1 )+' ' * i + '1' + ' ' * (num_rows - x ))"
   ]
  }
 ],
 "metadata": {
  "kernelspec": {
   "display_name": "Python 3",
   "language": "python",
   "name": "python3"
  },
  "language_info": {
   "codemirror_mode": {
    "name": "ipython",
    "version": 3
   },
   "file_extension": ".py",
   "mimetype": "text/x-python",
   "name": "python",
   "nbconvert_exporter": "python",
   "pygments_lexer": "ipython3",
   "version": "3.12.1"
  }
 },
 "nbformat": 4,
 "nbformat_minor": 2
}
