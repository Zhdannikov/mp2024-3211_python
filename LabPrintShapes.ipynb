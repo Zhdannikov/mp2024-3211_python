{
 "cells": [
  {
   "cell_type": "code",
   "execution_count": 5,
   "metadata": {},
   "outputs": [
    {
     "name": "stdout",
     "output_type": "stream",
     "text": [
      "***************\n",
      "*             *\n",
      "*             *\n",
      "*             *\n",
      "***************\n"
     ]
    }
   ],
   "source": [
    "def draw_rectangle(width, height, fill, symbol):\n",
    "    for i in range(height):\n",
    "        if i == 0 or i == height - 1:\n",
    "            print(symbol * width)\n",
    "        else:\n",
    "            print(symbol + fill * (width - 2) + symbol)\n",
    "draw_rectangle(15, 5, ' ', '*')"
   ]
  },
  {
   "cell_type": "code",
   "execution_count": 104,
   "metadata": {},
   "outputs": [
    {
     "name": "stdout",
     "output_type": "stream",
     "text": [
      "***************\n",
      "*             *\n",
      "*             *\n",
      "*             *\n",
      "***************\n"
     ]
    }
   ],
   "source": [
    "s ='*'\n",
    "\n",
    "print(s*15)\n",
    "print(s*1+' '*13+s*1)\n",
    "print(s*1+' '*13+s*1)\n",
    "print(s*1+' '*13+s*1)\n",
    "print(s*15)"
   ]
  },
  {
   "cell_type": "code",
   "execution_count": 6,
   "metadata": {},
   "outputs": [
    {
     "name": "stdout",
     "output_type": "stream",
     "text": [
      "***************\n",
      "***************\n",
      "***************\n",
      "***************\n",
      "***************\n"
     ]
    }
   ],
   "source": [
    "def draw_rectangle(width, height, fill, symbol):\n",
    "    for i in range(height):\n",
    "        if i == 0 or i == height - 1:\n",
    "            print(symbol * width)\n",
    "        else:\n",
    "            print(symbol + fill * (width - 2) + symbol)\n",
    "draw_rectangle(15, 5, '*', '*')"
   ]
  },
  {
   "cell_type": "code",
   "execution_count": 105,
   "metadata": {},
   "outputs": [
    {
     "name": "stdout",
     "output_type": "stream",
     "text": [
      "***************\n",
      "***************\n",
      "***************\n",
      "***************\n",
      "***************\n"
     ]
    }
   ],
   "source": [
    "s ='*'\n",
    "\n",
    "print(s*15)\n",
    "print(s*15)\n",
    "print(s*15)\n",
    "print(s*15)\n",
    "print(s*15)"
   ]
  },
  {
   "cell_type": "code",
   "execution_count": 108,
   "metadata": {},
   "outputs": [
    {
     "name": "stdout",
     "output_type": "stream",
     "text": [
      "*\n",
      "**\n",
      "***\n",
      "****\n",
      "*****\n",
      "******\n"
     ]
    }
   ],
   "source": [
    "s ='*'\n",
    "\n",
    "print(s*1)\n",
    "print(s*2)\n",
    "print(s*3)\n",
    "print(s*4)\n",
    "print(s*5)\n",
    "print(s*6)\n"
   ]
  },
  {
   "cell_type": "code",
   "execution_count": 131,
   "metadata": {},
   "outputs": [
    {
     "name": "stdout",
     "output_type": "stream",
     "text": [
      "\n",
      "*\n",
      "**\n",
      "***\n",
      "****\n",
      "*****\n",
      "******\n"
     ]
    }
   ],
   "source": [
    "def print_triangle(height: int, symbol: str = \"*\"):\n",
    "    \"\"\"Нарисовать треугольник в консолию\n",
    "    Параметры:\n",
    "    height - высотв\n",
    "    symbol - символ рисования\"\"\"\n",
    "\n",
    "    for i in range(1,height + 1):\n",
    "     print( symbol * ( i - 1))\n",
    "    \n",
    "print_triangle(7)       "
   ]
  },
  {
   "cell_type": "code",
   "execution_count": 112,
   "metadata": {},
   "outputs": [
    {
     "name": "stdout",
     "output_type": "stream",
     "text": [
      "        *\n",
      "       **\n",
      "      ***\n",
      "     ****\n",
      "    *****\n",
      "   ******\n"
     ]
    }
   ],
   "source": [
    "s ='*'\n",
    "\n",
    "print(' '*8+s*1)\n",
    "print(' '*7+s*2)\n",
    "print(' '*6+s*3)\n",
    "print(' '*5+s*4)\n",
    "print(' '*4+s*5)\n",
    "print(' '*3+s*6)\n"
   ]
  },
  {
   "cell_type": "code",
   "execution_count": 137,
   "metadata": {},
   "outputs": [
    {
     "name": "stdout",
     "output_type": "stream",
     "text": [
      "     *\n",
      "    **\n",
      "   ***\n",
      "  ****\n",
      " *****\n",
      "******\n"
     ]
    }
   ],
   "source": [
    "def print_triangle(height: int, symbol: str = \"*\"):\n",
    "    \"\"\"Нарисовать треугольник в консолию\n",
    "    Параметры:\n",
    "    height - высотв\n",
    "    symbol - символ рисования\"\"\"\n",
    "\n",
    "    for i in range(1, height + 1):\n",
    "      print(\" \"*(height - i) + symbol * i)\n",
    "    \n",
    "print_triangle(6)      "
   ]
  },
  {
   "cell_type": "code",
   "execution_count": 116,
   "metadata": {},
   "outputs": [
    {
     "name": "stdout",
     "output_type": "stream",
     "text": [
      "******\n",
      "*****\n",
      "****\n",
      "***\n",
      "**\n",
      "*\n"
     ]
    }
   ],
   "source": [
    "s ='*'\n",
    "\n",
    "print(s*6)\n",
    "print(s*5)\n",
    "print(s*4)\n",
    "print(s*3)\n",
    "print(s*2)\n",
    "print(s*1)\n"
   ]
  },
  {
   "cell_type": "code",
   "execution_count": 132,
   "metadata": {},
   "outputs": [
    {
     "name": "stdout",
     "output_type": "stream",
     "text": [
      "******\n",
      "*****\n",
      "****\n",
      "***\n",
      "**\n",
      "*\n",
      "\n"
     ]
    }
   ],
   "source": [
    "def print_triangle(height: int, symbol: str = \"*\"):\n",
    "    \"\"\"Нарисовать треугольник в консолию\n",
    "    Параметры:\n",
    "    height - высотв\n",
    "    symbol - символ рисования\"\"\"\n",
    "\n",
    "    for i in range(1,height+1):\n",
    "     print((height-i)*symbol)\n",
    "    \n",
    "print_triangle(7)      "
   ]
  },
  {
   "cell_type": "code",
   "execution_count": 120,
   "metadata": {},
   "outputs": [
    {
     "name": "stdout",
     "output_type": "stream",
     "text": [
      " ******\n",
      "  *****\n",
      "   ****\n",
      "    ***\n",
      "     **\n",
      "      *\n"
     ]
    }
   ],
   "source": [
    "s ='*'\n",
    "\n",
    "print(' '+s*6)\n",
    "print(' '*2+s*5)\n",
    "print(' '*3+s*4)\n",
    "print(' '*4+s*3)\n",
    "print(' '*5+s*2)\n",
    "print(' '*6+s*1)\n"
   ]
  },
  {
   "cell_type": "code",
   "execution_count": 143,
   "metadata": {},
   "outputs": [
    {
     "name": "stdout",
     "output_type": "stream",
     "text": [
      "*******\n",
      " ******\n",
      "  *****\n",
      "   ****\n",
      "    ***\n",
      "     **\n",
      "      *\n"
     ]
    }
   ],
   "source": [
    "def print_triangle(height: int, symbol: str = \"*\"):\n",
    "    \"\"\"Нарисовать треугольник в консолию\n",
    "    Параметры:\n",
    "    height - высотв\n",
    "    symbol - символ рисования\"\"\"\n",
    "\n",
    "    for i in range(height, 0, -1):\n",
    "     print((height - i) * \" \" + (i * symbol))\n",
    "    \n",
    "print_triangle(7)      "
   ]
  },
  {
   "cell_type": "code",
   "execution_count": 136,
   "metadata": {},
   "outputs": [
    {
     "name": "stdout",
     "output_type": "stream",
     "text": [
      "         *\n",
      "        ***\n",
      "       *****\n",
      "      *******\n",
      "     *********\n",
      "    ***********\n",
      "   *************\n",
      "  ***************\n",
      " *****************\n",
      "*******************\n",
      " *****************\n",
      "  ***************\n",
      "   *************\n",
      "    ***********\n",
      "     *********\n",
      "      *******\n",
      "       *****\n",
      "        ***\n",
      "         *\n"
     ]
    }
   ],
   "source": [
    "\n",
    "num_rows = 10\n",
    "\n",
    "# Нарисуем верхнюю часть ромба\n",
    "for i in range(1, num_rows + 1):\n",
    "    print(' ' * (num_rows - i) + '*' * (2 * i - 1))\n",
    "\n",
    "# Нарисуем нижнюю часть ромба\n",
    "for i in range(num_rows - 1, 0, -1):\n",
    "   print(' ' * (num_rows - i) + '*' * (2 * i - 1))"
   ]
  },
  {
   "cell_type": "code",
   "execution_count": 135,
   "metadata": {},
   "outputs": [
    {
     "name": "stdout",
     "output_type": "stream",
     "text": [
      "********* ********* \n",
      "********   ********   \n",
      "*******     *******     \n",
      "******       ******       \n",
      "*****         *****         \n",
      "****           ****           \n",
      "***             ***             \n",
      "**               **               \n",
      "*                 *                 \n",
      "                                      \n",
      "*                 *                 \n",
      "**               **               \n",
      "***             ***             \n",
      "****           ****           \n",
      "*****         *****         \n",
      "******       ******       \n",
      "*******     *******     \n",
      "********   ********   \n",
      "********* ********* \n"
     ]
    }
   ],
   "source": [
    "# Нарисуем ромб из звездочек с нумерацией строк\n",
    "\n",
    "# Зададим количество строк\n",
    "num_rows = 10\n",
    "\n",
    "# Нарисуем верхнюю часть ромба\n",
    "for i in range(1, num_rows + 1):\n",
    "    print('*' * (num_rows - i) + ' ' * (2 * i - 1) + '*' * (num_rows - i) + ' ' * (2 * i - 1))\n",
    "\n",
    "# Нарисуем нижнюю часть ромба\n",
    "for i in range(num_rows - 1, 0, -1):\n",
    "    print('*' * (num_rows - i) + ' ' * (2 * i - 1)+'*' * (num_rows - i) + ' ' * (2 * i - 1))\n",
    "\n"
   ]
  },
  {
   "cell_type": "code",
   "execution_count": 3,
   "metadata": {},
   "outputs": [
    {
     "name": "stdout",
     "output_type": "stream",
     "text": [
      "4  4444444\n",
      "3   33333\n",
      "2    222\n",
      "1     1\n",
      "1     1\n",
      "2    222\n",
      "3   33333\n",
      "4  4444444\n"
     ]
    }
   ],
   "source": [
    "num_rows = 5\n",
    "# Нарисуем нижнюю часть ромба\n",
    "for i in range(num_rows - 1, 0, -1):\n",
    "    print(i, ' ' * (num_rows - i) + str(i) * (2 * i - 1))\n",
    "\n",
    "# Нарисуем верхнюю часть ромба\n",
    "for i in range(1, num_rows):\n",
    "    print(i,' ' * (num_rows - i) + str(i) * (2 * i - 1))"
   ]
  },
  {
   "cell_type": "code",
   "execution_count": 6,
   "metadata": {},
   "outputs": [
    {
     "name": "stdout",
     "output_type": "stream",
     "text": [
      "\\         / \n",
      " \\       /  \n",
      "  \\     /   \n",
      "   \\   /    \n",
      "    \\ /     \n",
      "     / \\    \n",
      "    /   \\   \n",
      "   /     \\  \n",
      "  /       \\ \n",
      " /         \\\n"
     ]
    }
   ],
   "source": [
    "num_rows = 5\n",
    "\n",
    "# Нарисуем верхнюю часть X\n",
    "for i in range(num_rows):\n",
    "    x = i + 1\n",
    "    print(' ' * i + '\\\\' + ' ' * (num_rows - x + 1)+ ' ' * (num_rows - x) + '/' + ' ' * i + ' ' * (i < num_rows + 1))\n",
    "\n",
    "# Нарисуем нижнюю часть X\n",
    "for i in range(num_rows):\n",
    "    x = i + 1\n",
    "    print(' ' * (num_rows - x + 1) + '/' + ' ' * i + ' ' * (i < num_rows+ 1 )+' ' * i + '\\\\' + ' ' * (num_rows - x ))"
   ]
  },
  {
   "cell_type": "code",
   "execution_count": 3,
   "metadata": {},
   "outputs": [
    {
     "name": "stdout",
     "output_type": "stream",
     "text": [
      "▮▮▮▮▮▮▮▮▮▮\n",
      "                ▮\n",
      "▮▮▮▮▮▮▮▮▮▮\n",
      "▮\n",
      "▮▮▮▮▮▮▮▮▮▮\n",
      "                ▮\n",
      "▮▮▮▮▮▮▮▮▮▮\n"
     ]
    }
   ],
   "source": [
    "g = 0\n",
    "while g < 18:\n",
    "  g += 1\n",
    "  if g == 1 or g == 3 or g == 5 or g == 7:\n",
    "   print(10*\"▮\")\n",
    "  elif g == 2 or g == 6:\n",
    "   print(16*\" \" + \"▮\")\n",
    "  elif g == 4:\n",
    "   print(\"▮\")"
   ]
  },
  {
   "cell_type": "code",
   "execution_count": 4,
   "metadata": {},
   "outputs": [
    {
     "name": "stdout",
     "output_type": "stream",
     "text": [
      "▮▮▮▮▮▮▮▮▮▮\n",
      "▮\n",
      "▮▮▮▮▮▮▮▮▮▮\n",
      "                ▮\n",
      "▮▮▮▮▮▮▮▮▮▮\n",
      "▮\n",
      "▮▮▮▮▮▮▮▮▮▮\n"
     ]
    }
   ],
   "source": [
    "g = 0\n",
    "while g < 18:\n",
    " g += 1\n",
    " if g == 1 or g == 3 or g == 5 or g == 7:\n",
    "  print(10*\"▮\")\n",
    " elif g == 4:\n",
    "  print(16 *\" \" + \"▮\")\n",
    " elif g == 2 or g == 6:\n",
    "  print(\"▮\")"
   ]
  },
  {
   "cell_type": "code",
   "execution_count": 9,
   "metadata": {},
   "outputs": [
    {
     "name": "stdout",
     "output_type": "stream",
     "text": [
      "0 ********************\n",
      "1 ********************\n",
      "2 ********************\n",
      "3 ********************\n",
      "4 ********************\n"
     ]
    }
   ],
   "source": [
    "# прямоугольник с признаком залития\n",
    "w = 20\n",
    "h = 5\n",
    "s ='*'\n",
    "f= not False\n",
    "\n",
    "for r in range(h):\n",
    "    if r==0 or r == h - 1 or f:\n",
    "      print(r, s * w)\n",
    "    else:\n",
    "       print(r, s + ' ' * (w - 2) + s)"
   ]
  },
  {
   "cell_type": "code",
   "execution_count": 1,
   "metadata": {},
   "outputs": [],
   "source": [
    "def print_rectange(width: int, height: int, symbol: str = \"*\", is_fill: bool = True):\n",
    "    \"\"\"Нарисовать прямоугольник в консолию\n",
    "    Параметры:\n",
    "    width - ширина\n",
    "    height - высотв\n",
    "    symbol - символ рисования\n",
    "    is_fill - признак залития фигуры\"\"\"\n",
    "\n",
    "    for r in range(height):\n",
    "      if r==0 or r == height - 1 or is_fill:\n",
    "       print(symbol * width)\n",
    "      else:\n",
    "       print( symbol + ' ' * (width - 2) + symbol)"
   ]
  },
  {
   "cell_type": "code",
   "execution_count": 11,
   "metadata": {},
   "outputs": [
    {
     "name": "stdout",
     "output_type": "stream",
     "text": [
      "********************\n",
      "********************\n",
      "********************\n",
      "********************\n",
      "********************\n"
     ]
    }
   ],
   "source": [
    "print_rectange(20,5)"
   ]
  },
  {
   "cell_type": "code",
   "execution_count": 13,
   "metadata": {},
   "outputs": [
    {
     "name": "stdout",
     "output_type": "stream",
     "text": [
      "**********\n",
      "**********\n",
      "**********\n",
      "**********\n",
      "**********\n"
     ]
    }
   ],
   "source": [
    "print_rectange(10, 5, is_fill=False)"
   ]
  },
  {
   "cell_type": "code",
   "execution_count": 97,
   "metadata": {},
   "outputs": [
    {
     "name": "stdout",
     "output_type": "stream",
     "text": [
      "        *\n",
      "      *****\n",
      "    *********\n",
      "       ***\n",
      "    *********\n",
      " ***************\n",
      "      *****\n",
      "  *************\n",
      "******************\n"
     ]
    }
   ],
   "source": [
    "\n",
    "s ='*'\n",
    "\n",
    "print(' '*8+s)\n",
    "print(' '*6+s*5)\n",
    "print(' '*4+s*9)\n",
    "print(' '*7+s*3)\n",
    "print(' '*4+s*9)\n",
    "print(' '+s*15)\n",
    "print(' '*6+s*5)\n",
    "print(' '*2+s*13)\n",
    "print(s*18)"
   ]
  }
 ],
 "metadata": {
  "kernelspec": {
   "display_name": "Python 3",
   "language": "python",
   "name": "python3"
  },
  "language_info": {
   "codemirror_mode": {
    "name": "ipython",
    "version": 3
   },
   "file_extension": ".py",
   "mimetype": "text/x-python",
   "name": "python",
   "nbconvert_exporter": "python",
   "pygments_lexer": "ipython3",
   "version": "3.12.1"
  }
 },
 "nbformat": 4,
 "nbformat_minor": 2
}
