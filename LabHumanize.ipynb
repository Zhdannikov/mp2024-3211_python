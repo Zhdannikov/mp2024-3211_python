{
 "cells": [
  {
   "cell_type": "markdown",
   "metadata": {},
   "source": [
    "# Пакет humanize - улучшайзер простых данных"
   ]
  },
  {
   "cell_type": "code",
   "execution_count": 1,
   "metadata": {},
   "outputs": [
    {
     "name": "stdout",
     "output_type": "stream",
     "text": [
      "Collecting humanize\n",
      "  Obtaining dependency information for humanize from https://files.pythonhosted.org/packages/aa/2b/2ae0c789fd08d5b44e745726d08a17e6d3d7d09071d05473105edc7615f2/humanize-4.9.0-py3-none-any.whl.metadata\n",
      "  Downloading humanize-4.9.0-py3-none-any.whl.metadata (7.9 kB)\n",
      "Downloading humanize-4.9.0-py3-none-any.whl (126 kB)\n",
      "   ---------------------------------------- 0.0/126.8 kB ? eta -:--:--\n",
      "   --------- ------------------------------ 30.7/126.8 kB ? eta -:--:--\n",
      "   ----------------------------- ---------- 92.2/126.8 kB 1.1 MB/s eta 0:00:01\n",
      "   ---------------------------------------- 126.8/126.8 kB 1.1 MB/s eta 0:00:00\n",
      "Installing collected packages: humanize\n",
      "Successfully installed humanize-4.9.0\n",
      "Note: you may need to restart the kernel to use updated packages.\n"
     ]
    },
    {
     "name": "stderr",
     "output_type": "stream",
     "text": [
      "\n",
      "[notice] A new release of pip is available: 23.2.1 -> 24.0\n",
      "[notice] To update, run: python.exe -m pip install --upgrade pip\n"
     ]
    }
   ],
   "source": [
    "pip install humanize"
   ]
  },
  {
   "cell_type": "code",
   "execution_count": 2,
   "metadata": {},
   "outputs": [],
   "source": [
    "import humanize\n",
    "import datetime as dt"
   ]
  },
  {
   "cell_type": "code",
   "execution_count": 4,
   "metadata": {},
   "outputs": [
    {
     "name": "stdout",
     "output_type": "stream",
     "text": [
      "12,345\n",
      "12.3 thousand\n",
      "12345\n"
     ]
    }
   ],
   "source": [
    "print(humanize.intcomma(12345))\n",
    "print(humanize.intword(12345))\n",
    "print(humanize.apnumber(12345))"
   ]
  },
  {
   "cell_type": "code",
   "execution_count": 6,
   "metadata": {},
   "outputs": [
    {
     "name": "stdout",
     "output_type": "stream",
     "text": [
      "1.0 MB\n",
      "976.6 KiB\n"
     ]
    }
   ],
   "source": [
    "print(humanize.naturalsize(1_000_000))\n",
    "print(humanize.naturalsize(1_000_000, binary=True))"
   ]
  },
  {
   "cell_type": "code",
   "execution_count": 9,
   "metadata": {},
   "outputs": [
    {
     "name": "stdout",
     "output_type": "stream",
     "text": [
      "Apr 10 2021\n"
     ]
    }
   ],
   "source": [
    "print(humanize.naturaldate(dt.date(2021, 4, 10)))"
   ]
  },
  {
   "cell_type": "code",
   "execution_count": 13,
   "metadata": {},
   "outputs": [
    {
     "name": "stdout",
     "output_type": "stream",
     "text": [
      "12,345\n",
      "12.3 тысяч\n",
      "12345\n"
     ]
    }
   ],
   "source": [
    "import humanize.i18n\n",
    "\n",
    "\n",
    "humanize.i18n.activate('ru_RU')\n",
    "print(humanize.intcomma(12345))\n",
    "print(humanize.intword(12345))\n",
    "print(humanize.apnumber(12345))"
   ]
  }
 ],
 "metadata": {
  "kernelspec": {
   "display_name": "Python 3",
   "language": "python",
   "name": "python3"
  },
  "language_info": {
   "codemirror_mode": {
    "name": "ipython",
    "version": 3
   },
   "file_extension": ".py",
   "mimetype": "text/x-python",
   "name": "python",
   "nbconvert_exporter": "python",
   "pygments_lexer": "ipython3",
   "version": "3.12.1"
  }
 },
 "nbformat": 4,
 "nbformat_minor": 2
}
