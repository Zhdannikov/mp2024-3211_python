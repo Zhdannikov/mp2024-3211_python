{
 "cells": [
  {
   "cell_type": "markdown",
   "metadata": {},
   "source": [
    "# Модуль time"
   ]
  },
  {
   "cell_type": "code",
   "execution_count": 1,
   "metadata": {},
   "outputs": [],
   "source": [
    "import time"
   ]
  },
  {
   "cell_type": "code",
   "execution_count": 5,
   "metadata": {},
   "outputs": [],
   "source": [
    "N_COUNT = 10_000_000"
   ]
  },
  {
   "cell_type": "code",
   "execution_count": 9,
   "metadata": {},
   "outputs": [
    {
     "name": "stdout",
     "output_type": "stream",
     "text": [
      "49999995000000\n",
      "2.885523796081543\n",
      "2.886 s\n",
      "2885.524 ms\n"
     ]
    }
   ],
   "source": [
    "tm_start=time.time()\n",
    "\n",
    "\n",
    "n_sum = 0\n",
    "for i in range(N_COUNT):\n",
    "    n_sum +=i\n",
    "\n",
    "tm_s = time.time() - tm_start\n",
    "print(n_sum)   \n",
    "print(f\"{tm_s}\") \n",
    "print(f\"{tm_s:.03f} s\") \n",
    "print(f\"{tm_s * 1000:.03f} ms\") "
   ]
  },
  {
   "cell_type": "code",
   "execution_count": 10,
   "metadata": {},
   "outputs": [
    {
     "name": "stdout",
     "output_type": "stream",
     "text": [
      "49999995000000\n",
      "2.1823313236236572\n",
      "2.182 s\n",
      "2182.331 ms\n"
     ]
    }
   ],
   "source": [
    "tm_start=time.time()\n",
    "\n",
    "\n",
    "n_sum = sum(i for i in range(N_COUNT))\n",
    "tm_s = time.time() - tm_start\n",
    "print(n_sum)   \n",
    "print(f\"{tm_s}\") \n",
    "print(f\"{tm_s:.03f} s\") \n",
    "print(f\"{tm_s * 1000:.03f} ms\") "
   ]
  },
  {
   "cell_type": "code",
   "execution_count": 12,
   "metadata": {},
   "outputs": [
    {
     "name": "stdout",
     "output_type": "stream",
     "text": [
      "49999995000000\n",
      "0.7824573516845703\n",
      "0.782 s\n",
      "782.457 ms\n"
     ]
    }
   ],
   "source": [
    "tm_start=time.time()\n",
    "\n",
    "\n",
    "n_sum = sum(range(N_COUNT))\n",
    "tm_s = time.time() - tm_start\n",
    "print(n_sum)   \n",
    "print(f\"{tm_s}\") \n",
    "print(f\"{tm_s:.03f} s\") \n",
    "print(f\"{tm_s * 1000:.03f} ms\") "
   ]
  },
  {
   "cell_type": "code",
   "execution_count": 13,
   "metadata": {},
   "outputs": [
    {
     "name": "stdout",
     "output_type": "stream",
     "text": [
      "CPU times: total: 1.66 s\n",
      "Wall time: 2.45 s\n"
     ]
    }
   ],
   "source": [
    "%%time\n",
    "n_sum = 0\n",
    "for i in range(N_COUNT):\n",
    "    n_sum +=i\n"
   ]
  },
  {
   "cell_type": "code",
   "execution_count": 14,
   "metadata": {},
   "outputs": [
    {
     "name": "stdout",
     "output_type": "stream",
     "text": [
      "CPU times: total: 1.56 s\n",
      "Wall time: 1.94 s\n"
     ]
    }
   ],
   "source": [
    "%%time\n",
    "n_sum = sum(i for i in range(N_COUNT))"
   ]
  }
 ],
 "metadata": {
  "kernelspec": {
   "display_name": "Python 3",
   "language": "python",
   "name": "python3"
  },
  "language_info": {
   "codemirror_mode": {
    "name": "ipython",
    "version": 3
   },
   "file_extension": ".py",
   "mimetype": "text/x-python",
   "name": "python",
   "nbconvert_exporter": "python",
   "pygments_lexer": "ipython3",
   "version": "3.12.1"
  }
 },
 "nbformat": 4,
 "nbformat_minor": 2
}
