{
 "cells": [
  {
   "cell_type": "markdown",
   "metadata": {},
   "source": [
    "## Поверхостные и глубокии копии обьектов (на примере списков)"
   ]
  },
  {
   "cell_type": "code",
   "execution_count": 1,
   "metadata": {},
   "outputs": [],
   "source": [
    "import copy"
   ]
  },
  {
   "cell_type": "code",
   "execution_count": 2,
   "metadata": {},
   "outputs": [
    {
     "name": "stdout",
     "output_type": "stream",
     "text": [
      "[1, [2, [3, 4]]]\n",
      "1\n",
      "2\n",
      "3\n"
     ]
    }
   ],
   "source": [
    "a = [1, [2, [3, 4]]]\n",
    "print(a)\n",
    "print(a[0])\n",
    "print(a[1][0])\n",
    "print(a[1][1][0])"
   ]
  },
  {
   "cell_type": "code",
   "execution_count": 3,
   "metadata": {},
   "outputs": [
    {
     "name": "stdout",
     "output_type": "stream",
     "text": [
      "2242317275648\n",
      "2242317275648\n",
      "[1, [-1, [3, 4]]]\n",
      "[1, [-1, [3, 4]]]\n"
     ]
    }
   ],
   "source": [
    "b = a\n",
    "print(id(a))\n",
    "print(id(b))\n",
    "b [1][0] = -1\n",
    "print(a)\n",
    "print(b)"
   ]
  },
  {
   "cell_type": "code",
   "execution_count": 7,
   "metadata": {},
   "outputs": [
    {
     "name": "stdout",
     "output_type": "stream",
     "text": [
      "2242323455360\n",
      "2242323457216\n",
      "[1, [-2, [3, 4]]]\n",
      "[-1, [-2, [3, 4]]]\n"
     ]
    }
   ],
   "source": [
    "a = [1, [2, [3, 4]]]\n",
    "b = a.copy()\n",
    "print(id(a))\n",
    "print(id(b))\n",
    "b[0] = -1\n",
    "b[1][0] = -2\n",
    "print(a)\n",
    "print(b)"
   ]
  },
  {
   "cell_type": "code",
   "execution_count": 8,
   "metadata": {},
   "outputs": [
    {
     "name": "stdout",
     "output_type": "stream",
     "text": [
      "2242323355968\n",
      "2242323454720\n",
      "[1, [2, [3, 4]]]\n",
      "[-1, [-2, [3, 4]]]\n"
     ]
    }
   ],
   "source": [
    "a = [1, [2, [3, 4]]]\n",
    "b = copy.deepcopy(a)\n",
    "print(id(a))\n",
    "print(id(b))\n",
    "b[0] = -1\n",
    "b[1][0] = -2\n",
    "print(a)\n",
    "print(b)"
   ]
  }
 ],
 "metadata": {
  "kernelspec": {
   "display_name": "Python 3",
   "language": "python",
   "name": "python3"
  },
  "language_info": {
   "codemirror_mode": {
    "name": "ipython",
    "version": 3
   },
   "file_extension": ".py",
   "mimetype": "text/x-python",
   "name": "python",
   "nbconvert_exporter": "python",
   "pygments_lexer": "ipython3",
   "version": "3.12.1"
  }
 },
 "nbformat": 4,
 "nbformat_minor": 2
}
