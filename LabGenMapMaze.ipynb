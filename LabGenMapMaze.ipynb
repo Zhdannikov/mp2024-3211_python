{
 "cells": [
  {
   "cell_type": "markdown",
   "metadata": {},
   "source": [
    "## Домашняя работа от 05.03.2024\n",
    "# Генератор карты лабиринт"
   ]
  },
  {
   "cell_type": "code",
   "execution_count": 1,
   "metadata": {},
   "outputs": [
    {
     "name": "stdout",
     "output_type": "stream",
     "text": [
      "▓ ▓ ▓ ▓ ▓ ▓ ▓\n",
      "▓ ▓ ▓ ▓ ▓ ▓ ▓\n",
      "~ ▓ ▓ ▓ ▓ ▓ $\n",
      "▓ ▓ ▓ ▓ ▓ ▓ ▓\n",
      "▓ ▓ ▓ ▓ ▓ ▓ ▓\n",
      "▓ ▓ ▓ ▓ ▓ ▓ ▓\n",
      "▓ ▓ ▓ ▓ ▓ ▓ ▓\n",
      " \n",
      "~ ▓ ▓ ▓ ▓\n",
      "▓ ▓ ▓ ▓ ▓\n",
      "▓ ▓ ▓ ▓ ▓\n",
      "▓ ▓ ▓ ▓ ▓\n",
      "▓ ▓ ▓ ▓ $\n"
     ]
    }
   ],
   "source": [
    "import random\n",
    "\n",
    "def labGenMapMaze(height, width, start=None, end=None):\n",
    "    # Проверка входящих параметров\n",
    "    if not isinstance(height, int) or height < 3:\n",
    "        raise ValueError(\"height должен быть целым числом больше 2\")\n",
    "    if not isinstance(width, int) or width < 3:\n",
    "        raise ValueError(\"width должен быть целым числом больше 2\")\n",
    "    if start is not None and not (isinstance(start, tuple) and len(start) == 2):\n",
    "        raise ValueError(\"start должен быть кортежем из двух элементов\")\n",
    "    if end is not None and not (isinstance(end, tuple) and len(end) == 2):\n",
    "        raise ValueError(\"end должен быть кортежем из двух элементов\")\n",
    "\n",
    "    # Создание пустого лабиринта\n",
    "    maze = [['▓' for _ in range(width)] for _ in range(height)]\n",
    "\n",
    "    # Определение начальной и конечной точек\n",
    "    if start is None:\n",
    "        start = (random.randint(0, height - 1), 0)\n",
    "    if end is None:\n",
    "        end = (random.randint(0, height - 1), width - 1)\n",
    "\n",
    "    # Размещение начальной и конечной точек\n",
    "    maze[start[0]][start[1]] = '~'\n",
    "    maze[end[0]][end[1]] = '$'\n",
    "\n",
    "    # TODO: Заполнение лабиринта коридорами и стенами\n",
    "\n",
    "    return maze\n",
    "\n",
    "def print_field(field):\n",
    "    for row in field:\n",
    "        print(' '.join(row))\n",
    "\n",
    "\n",
    "# Пример использования функции\n",
    "spi = labGenMapMaze(7,7)\n",
    "print_field(spi)\n",
    "\n",
    "print(' ')\n",
    "\n",
    "spi = labGenMapMaze(5, 5, start=(0, 0), end=(4, 4))\n",
    "print_field(spi)\n"
   ]
  }
 ],
 "metadata": {
  "kernelspec": {
   "display_name": "Python 3",
   "language": "python",
   "name": "python3"
  },
  "language_info": {
   "codemirror_mode": {
    "name": "ipython",
    "version": 3
   },
   "file_extension": ".py",
   "mimetype": "text/x-python",
   "name": "python",
   "nbconvert_exporter": "python",
   "pygments_lexer": "ipython3",
   "version": "3.12.1"
  }
 },
 "nbformat": 4,
 "nbformat_minor": 2
}
