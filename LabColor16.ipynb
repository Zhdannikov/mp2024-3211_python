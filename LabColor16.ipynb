{
 "cells": [
  {
   "cell_type": "markdown",
   "metadata": {},
   "source": [
    "# LabColor16\n"
   ]
  },
  {
   "cell_type": "code",
   "execution_count": 7,
   "metadata": {},
   "outputs": [
    {
     "name": "stdout",
     "output_type": "stream",
     "text": [
      "hello\n",
      "\u001b[31mhello\n",
      "hello\n",
      "\u001b[0m\n",
      "hello\n",
      "\u001b[0;32;41mhello\u001b[0m\n",
      "hello\n"
     ]
    }
   ],
   "source": [
    "print('hello')\n",
    "print('\\033[31mhello')\n",
    "print('hello')\n",
    "print('\\033[0m')\n",
    "print('hello')\n",
    "print('\\033[0;32;41mhello\\033[0m')\n",
    "print('hello')\n"
   ]
  },
  {
   "cell_type": "code",
   "execution_count": 8,
   "metadata": {},
   "outputs": [],
   "source": [
    "# HW:\n",
    "# посмотреть модуль colorama"
   ]
  },
  {
   "cell_type": "code",
   "execution_count": 9,
   "metadata": {},
   "outputs": [
    {
     "name": "stdout",
     "output_type": "stream",
     "text": [
      "Requirement already satisfied: colorama in c:\\users\\мвидео\\appdata\\roaming\\python\\python312\\site-packages (0.4.6)\n",
      "Note: you may need to restart the kernel to use updated packages.\n"
     ]
    },
    {
     "name": "stderr",
     "output_type": "stream",
     "text": [
      "\n",
      "[notice] A new release of pip is available: 23.2.1 -> 24.0\n",
      "[notice] To update, run: python.exe -m pip install --upgrade pip\n"
     ]
    }
   ],
   "source": [
    "#pip install colorama"
   ]
  },
  {
   "cell_type": "code",
   "execution_count": 10,
   "metadata": {},
   "outputs": [
    {
     "name": "stdout",
     "output_type": "stream",
     "text": [
      "Привет\n",
      "\u001b[22m\u001b[43m\u001b[31mПривет\n",
      "Привет\n"
     ]
    }
   ],
   "source": [
    "from colorama import Style, Back, Fore\n",
    "\n",
    "print('Привет')\n",
    "print(Style.NORMAL + Back.YELLOW + Fore.RED + 'Привет')\n",
    "print('Привет')"
   ]
  }
 ],
 "metadata": {
  "kernelspec": {
   "display_name": "Python 3",
   "language": "python",
   "name": "python3"
  },
  "language_info": {
   "codemirror_mode": {
    "name": "ipython",
    "version": 3
   },
   "file_extension": ".py",
   "mimetype": "text/x-python",
   "name": "python",
   "nbconvert_exporter": "python",
   "pygments_lexer": "ipython3",
   "version": "3.12.1"
  }
 },
 "nbformat": 4,
 "nbformat_minor": 2
}
