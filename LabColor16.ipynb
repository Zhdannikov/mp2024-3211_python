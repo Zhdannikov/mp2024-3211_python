{
 "cells": [
  {
   "cell_type": "markdown",
   "metadata": {},
   "source": [
    "# LabColor16\n"
   ]
  },
  {
   "cell_type": "code",
   "execution_count": 7,
   "metadata": {},
   "outputs": [
    {
     "name": "stdout",
     "output_type": "stream",
     "text": [
      "hello\n",
      "\u001b[31mhello\n",
      "hello\n",
      "\u001b[0m\n",
      "hello\n",
      "\u001b[0;32;41mhello\u001b[0m\n",
      "hello\n"
     ]
    }
   ],
   "source": [
    "print('hello')\n",
    "print('\\033[31mhello')\n",
    "print('hello')\n",
    "print('\\033[0m')\n",
    "print('hello')\n",
    "print('\\033[0;32;41mhello\\033[0m')\n",
    "print('hello')\n"
   ]
  },
  {
   "cell_type": "code",
   "execution_count": 8,
   "metadata": {},
   "outputs": [],
   "source": [
    "# HW:\n",
    "# посмотреть модуль colorama"
   ]
  },
  {
   "cell_type": "code",
   "execution_count": 9,
   "metadata": {},
   "outputs": [
    {
     "name": "stdout",
     "output_type": "stream",
     "text": [
      "Requirement already satisfied: colorama in c:\\users\\мвидео\\appdata\\roaming\\python\\python312\\site-packages (0.4.6)\n",
      "Note: you may need to restart the kernel to use updated packages.\n"
     ]
    },
    {
     "name": "stderr",
     "output_type": "stream",
     "text": [
      "\n",
      "[notice] A new release of pip is available: 23.2.1 -> 24.0\n",
      "[notice] To update, run: python.exe -m pip install --upgrade pip\n"
     ]
    }
   ],
   "source": [
    "#pip install colorama"
   ]
  },
  {
   "cell_type": "code",
   "execution_count": 10,
   "metadata": {},
   "outputs": [
    {
     "name": "stdout",
     "output_type": "stream",
     "text": [
      "Привет\n",
      "\u001b[22m\u001b[43m\u001b[31mПривет\n",
      "Привет\n"
     ]
    }
   ],
   "source": [
    "from colorama import Style, Back, Fore\n",
    "\n",
    "print('Привет')\n",
    "print(Style.NORMAL + Back.YELLOW + Fore.RED + 'Привет')\n",
    "print('Привет')"
   ]
  },
  {
   "cell_type": "code",
   "execution_count": 1,
   "metadata": {},
   "outputs": [
    {
     "name": "stdout",
     "output_type": "stream",
     "text": [
      "\u001b[0;30;40m 30:40 \u001b[1m\t\u001b[0;30;41m 30:41 \u001b[1m\t\u001b[0;30;42m 30:42 \u001b[1m\t\u001b[0;30;43m 30:43 \u001b[1m\t\u001b[0;30;44m 30:44 \u001b[1m\t\u001b[0;30;45m 30:45 \u001b[1m\t\u001b[0;30;46m 30:46 \u001b[1m\t\u001b[0;30;47m 30:47 \u001b[1m\t\n",
      "\u001b[0;31;40m 31:40 \u001b[1m\t\u001b[0;31;41m 31:41 \u001b[1m\t\u001b[0;31;42m 31:42 \u001b[1m\t\u001b[0;31;43m 31:43 \u001b[1m\t\u001b[0;31;44m 31:44 \u001b[1m\t\u001b[0;31;45m 31:45 \u001b[1m\t\u001b[0;31;46m 31:46 \u001b[1m\t\u001b[0;31;47m 31:47 \u001b[1m\t\n",
      "\u001b[0;32;40m 32:40 \u001b[1m\t\u001b[0;32;41m 32:41 \u001b[1m\t\u001b[0;32;42m 32:42 \u001b[1m\t\u001b[0;32;43m 32:43 \u001b[1m\t\u001b[0;32;44m 32:44 \u001b[1m\t\u001b[0;32;45m 32:45 \u001b[1m\t\u001b[0;32;46m 32:46 \u001b[1m\t\u001b[0;32;47m 32:47 \u001b[1m\t\n",
      "\u001b[0;33;40m 33:40 \u001b[1m\t\u001b[0;33;41m 33:41 \u001b[1m\t\u001b[0;33;42m 33:42 \u001b[1m\t\u001b[0;33;43m 33:43 \u001b[1m\t\u001b[0;33;44m 33:44 \u001b[1m\t\u001b[0;33;45m 33:45 \u001b[1m\t\u001b[0;33;46m 33:46 \u001b[1m\t\u001b[0;33;47m 33:47 \u001b[1m\t\n",
      "\u001b[0;34;40m 34:40 \u001b[1m\t\u001b[0;34;41m 34:41 \u001b[1m\t\u001b[0;34;42m 34:42 \u001b[1m\t\u001b[0;34;43m 34:43 \u001b[1m\t\u001b[0;34;44m 34:44 \u001b[1m\t\u001b[0;34;45m 34:45 \u001b[1m\t\u001b[0;34;46m 34:46 \u001b[1m\t\u001b[0;34;47m 34:47 \u001b[1m\t\n",
      "\u001b[0;35;40m 35:40 \u001b[1m\t\u001b[0;35;41m 35:41 \u001b[1m\t\u001b[0;35;42m 35:42 \u001b[1m\t\u001b[0;35;43m 35:43 \u001b[1m\t\u001b[0;35;44m 35:44 \u001b[1m\t\u001b[0;35;45m 35:45 \u001b[1m\t\u001b[0;35;46m 35:46 \u001b[1m\t\u001b[0;35;47m 35:47 \u001b[1m\t\n",
      "\u001b[0;36;40m 36:40 \u001b[1m\t\u001b[0;36;41m 36:41 \u001b[1m\t\u001b[0;36;42m 36:42 \u001b[1m\t\u001b[0;36;43m 36:43 \u001b[1m\t\u001b[0;36;44m 36:44 \u001b[1m\t\u001b[0;36;45m 36:45 \u001b[1m\t\u001b[0;36;46m 36:46 \u001b[1m\t\u001b[0;36;47m 36:47 \u001b[1m\t\n",
      "\u001b[0;37;40m 37:40 \u001b[1m\t\u001b[0;37;41m 37:41 \u001b[1m\t\u001b[0;37;42m 37:42 \u001b[1m\t\u001b[0;37;43m 37:43 \u001b[1m\t\u001b[0;37;44m 37:44 \u001b[1m\t\u001b[0;37;45m 37:45 \u001b[1m\t\u001b[0;37;46m 37:46 \u001b[1m\t\u001b[0;37;47m 37:47 \u001b[1m\t\n"
     ]
    }
   ],
   "source": [
    "for i in range(30, 38): # Разные цвета текста \n",
    "    for j in range(40, 48): # Разные цвета фона\n",
    "        \"\"\" \n",
    "        Выводит строку с ANSI escape-кодами, которые изменяют цвет текста и фона. \n",
    "        \"\\033[0;{i};{j}m\" - это ANSI escape-код, где {i} - это цвет текста, а {j} - цвет фона.\n",
    "        \"{i}:{j}\" - это просто текст, который будет напечатан этими цветами.\n",
    "        \"\\033[1m\" - это ANSI escape-код, который делает текст ярким.\n",
    "        \"end=\"\\t\"\" означает, что после каждого вызова print добавляется символ табуляции, а не переход на новую строку.\n",
    "         \"\"\"\n",
    "        print(f\"\\033[0;{i};{j}m {i}:{j} \\033[1m\", end=\"\\t\")\n",
    "    print(\"\\r\") # Печатает символ возврата каретки, который возвращает курсор в начало строки."
   ]
  }
 ],
 "metadata": {
  "kernelspec": {
   "display_name": "Python 3",
   "language": "python",
   "name": "python3"
  },
  "language_info": {
   "codemirror_mode": {
    "name": "ipython",
    "version": 3
   },
   "file_extension": ".py",
   "mimetype": "text/x-python",
   "name": "python",
   "nbconvert_exporter": "python",
   "pygments_lexer": "ipython3",
   "version": "3.12.1"
  }
 },
 "nbformat": 4,
 "nbformat_minor": 2
}
