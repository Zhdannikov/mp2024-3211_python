{
 "cells": [
  {
   "cell_type": "code",
   "execution_count": 64,
   "metadata": {},
   "outputs": [],
   "source": [
    "\n",
    "import cv2\n",
    "import numpy as np\n",
    "\n",
    "class ImageAligner:\n",
    "    def __init__(self, image_path):\n",
    "        self.image = cv2.imread(image_path)\n",
    "        if self.image is None:\n",
    "            raise ValueError(f\"Не удалось загрузить изображение из {image_path}\")\n",
    "        self.aligned_image = None\n",
    "\n",
    "    def align_image(self):\n",
    "        # Преобразуем изображение в оттенки серого\n",
    "        gray = cv2.cvtColor(self.image, cv2.COLOR_BGR2GRAY)\n",
    "\n",
    "        # Находим контуры на изображении\n",
    "        contours, _ = cv2.findContours(gray, cv2.RETR_EXTERNAL, cv2.CHAIN_APPROX_SIMPLE)\n",
    "\n",
    "        # Находим самый большой контур, который, вероятно, является границей изображения\n",
    "        if contours:\n",
    "            largest_contour = max(contours, key=cv2.contourArea)\n",
    "\n",
    "            # Вычисляем угол поворота изображения\n",
    "            rect = cv2.minAreaRect(largest_contour)\n",
    "            angle = rect[2]\n",
    "\n",
    "            # Поворачиваем изображение на вычисленный угол\n",
    "            rows, cols = self.image.shape[:2]\n",
    "            rotation_matrix = cv2.getRotationMatrix2D((cols / 2, rows / 2), angle, 1)\n",
    "            self.aligned_image = cv2.warpAffine(self.image, rotation_matrix, (cols, rows))\n",
    "\n",
    "    def show_aligned_image(self):\n",
    "        if self.aligned_image is not None:\n",
    "            cv2.imshow(\"Выровненное изображение\", self.aligned_image)\n",
    "            cv2.waitKey(0)\n",
    "            cv2.destroyAllWindows()\n",
    "        else:\n",
    "            print(\"Изображение не было выровнено.\")\n",
    "\n",
    "# Пример использования\n",
    "try:\n",
    "    aligner = ImageAligner(\"Project2.jpg\")\n",
    "    aligner.align_image()\n",
    "    aligner.show_aligned_image()\n",
    "except ValueError as e:\n",
    "    print(e)\n"
   ]
  },
  {
   "cell_type": "code",
   "execution_count": 67,
   "metadata": {},
   "outputs": [
    {
     "name": "stderr",
     "output_type": "stream",
     "text": [
      "<>:48: SyntaxWarning: invalid escape sequence '\\d'\n",
      "<>:48: SyntaxWarning: invalid escape sequence '\\d'\n",
      "C:\\Users\\Мвидео\\AppData\\Local\\Temp\\ipykernel_22804\\1151335254.py:48: SyntaxWarning: invalid escape sequence '\\d'\n",
      "  angle = float(re.search('(?<=Rotate: )\\d+', osd).group(0))\n"
     ]
    }
   ],
   "source": [
    "import cv2\n",
    "import numpy as np\n",
    "import pytesseract\n",
    "import re\n",
    "from PIL import Image\n",
    "\n",
    "class ImageAligner:\n",
    "    @staticmethod\n",
    "    def align_image_by_contour(image):\n",
    "\n",
    "        gray = cv2.bitwise_not(cv2.cvtColor(image, cv2.COLOR_BGR2GRAY)) #преобразование в цветовое пространство\n",
    "\n",
    "        _, thresh = cv2.threshold(gray, 0, 255, cv2.THRESH_BINARY | cv2.THRESH_OTSU)\n",
    "        contours, _ = cv2.findContours(thresh, cv2.RETR_EXTERNAL, cv2.CHAIN_APPROX_SIMPLE)\n",
    "\n",
    "        largest_contour = max(contours, key=cv2.contourArea)\n",
    "        rect = cv2.minAreaRect(largest_contour)\n",
    "        box = cv2.boxPoints(rect)\n",
    "        box = np.intp(box)\n",
    "\n",
    "        width = int(rect[1][0])\n",
    "        height = int(rect[1][1])\n",
    "\n",
    "        if width < height:\n",
    "            width, height = height, width\n",
    "\n",
    "        pts_dst = np.array([[0, 0], [width - 1, 0], [width - 1, height - 1], [0, height - 1]], dtype=\"float32\")\n",
    "        h, status = cv2.findHomography(box, pts_dst)\n",
    "        aligned_image = cv2.warpPerspective(image, h, (width, height))\n",
    "\n",
    "        return aligned_image\n",
    "    \n",
    "    @staticmethod\n",
    "    def align_image_by_content(image):\n",
    "        gray = cv2.cvtColor(image, cv2.COLOR_BGR2GRAY)\n",
    "    \n",
    "        scale_percent = 200  # увеличим изображение на 200%\n",
    "        width = int(gray.shape[1] * scale_percent / 100)\n",
    "        height = int(gray.shape[0] * scale_percent / 100)\n",
    "        dim = (width, height)\n",
    "        gray = cv2.resize(gray, dim, interpolation=cv2.INTER_AREA)\n",
    "    \n",
    "        gray = cv2.GaussianBlur(gray, (5, 5), 0)\n",
    "        gray = cv2.medianBlur(gray, 3)\n",
    "\n",
    "        try:\n",
    "         osd = pytesseract.image_to_osd(gray)\n",
    "         angle = float(re.search('(?<=Rotate: )\\d+', osd).group(0))\n",
    "\n",
    "         if angle != 0:\n",
    "            angle = -angle\n",
    "\n",
    "            (h, w) = image.shape[:2]\n",
    "            center = (w // 2, h // 2)\n",
    "            M = cv2.getRotationMatrix2D(center, angle, 1.0)\n",
    "            rotated = cv2.warpAffine(image, M, (w, h), flags=cv2.INTER_CUBIC, borderMode=cv2.BORDER_REPLICATE)\n",
    "\n",
    "            return rotated\n",
    "         \n",
    "        except pytesseract.TesseractError as e:\n",
    "            print(f\"Tesseract error: {e}\")\n",
    "            return image\n",
    "        \n",
    "    @staticmethod\n",
    "    def align_image_by_hough_transform(image):\n",
    "        gray = cv2.cvtColor(image, cv2.COLOR_BGR2GRAY)\n",
    "        edges = cv2.Canny(gray, 50, 150, apertureSize=3)\n",
    "        lines = cv2.HoughLines(edges, 1, np.pi / 180, 200)\n",
    "\n",
    "        if lines is not None:\n",
    "            angles = []\n",
    "            for rho, theta in lines[:, 0]:\n",
    "                angle = np.degrees(theta) - 90\n",
    "                angles.append(angle)\n",
    "\n",
    "                median_angle = np.median(angles)\n",
    "                angle = -median_angle\n",
    "\n",
    "                (h, w) = image.shape[:2]\n",
    "                center = (w // 2, h // 2)\n",
    "                M = cv2.getRotationMatrix2D(center, angle, 1.0)\n",
    "                rotated = cv2.warpAffine(image, M, (w, h), flags=cv2.INTER_CUBIC, borderMode=cv2.BORDER_REPLICATE)\n",
    "\n",
    "                return rotated\n",
    "        else:\n",
    "            raise ValueError(\"Не удалось найти линии для выравнивания изображения.\")\n",
    "\n",
    "    @staticmethod    \n",
    "    def many_times(output_path, times):\n",
    "\n",
    "            im = Image.open(output_path)\n",
    "            width, height = im.size\n",
    "            new_width = width * times\n",
    "            new_height = height * times\n",
    "            resized_image = im.resize((new_width, new_height))\n",
    "\n",
    "            return resized_image    \n"
   ]
  },
  {
   "cell_type": "code",
   "execution_count": 68,
   "metadata": {},
   "outputs": [
    {
     "data": {
      "text/plain": [
       "True"
      ]
     },
     "execution_count": 68,
     "metadata": {},
     "output_type": "execute_result"
    }
   ],
   "source": [
    "image = cv2.imread('Project1.jpg')\n",
    "aligned_image = ImageAligner.align_image_by_contour(image)\n",
    "cv2.imwrite('aligned_image.jpg', aligned_image)"
   ]
  },
  {
   "cell_type": "code",
   "execution_count": 69,
   "metadata": {},
   "outputs": [
    {
     "data": {
      "text/plain": [
       "True"
      ]
     },
     "execution_count": 69,
     "metadata": {},
     "output_type": "execute_result"
    }
   ],
   "source": [
    "image = cv2.imread('Project2.jpg')\n",
    "aligned_image = ImageAligner.align_image_by_hough_transform(image)\n",
    "cv2.imwrite('aligned_image.jpg', aligned_image)"
   ]
  },
  {
   "cell_type": "code",
   "execution_count": 70,
   "metadata": {},
   "outputs": [
    {
     "ename": "error",
     "evalue": "OpenCV(4.9.0) :-1: error: (-5:Bad argument) in function 'imwrite'\n> Overload resolution failed:\n>  - img is not a numpy array, neither a scalar\n>  - Expected Ptr<cv::UMat> for argument 'img'\n",
     "output_type": "error",
     "traceback": [
      "\u001b[1;31m---------------------------------------------------------------------------\u001b[0m",
      "\u001b[1;31merror\u001b[0m                                     Traceback (most recent call last)",
      "Cell \u001b[1;32mIn[70], line 3\u001b[0m\n\u001b[0;32m      1\u001b[0m image \u001b[38;5;241m=\u001b[39m cv2\u001b[38;5;241m.\u001b[39mimread(\u001b[38;5;124m'\u001b[39m\u001b[38;5;124mProject3.jpg\u001b[39m\u001b[38;5;124m'\u001b[39m)\n\u001b[0;32m      2\u001b[0m aligned_image \u001b[38;5;241m=\u001b[39m ImageAligner\u001b[38;5;241m.\u001b[39mmany_times(\u001b[38;5;124m'\u001b[39m\u001b[38;5;124mProject3.jpg\u001b[39m\u001b[38;5;124m'\u001b[39m, \u001b[38;5;241m3\u001b[39m)\n\u001b[1;32m----> 3\u001b[0m \u001b[43mcv2\u001b[49m\u001b[38;5;241;43m.\u001b[39;49m\u001b[43mimwrite\u001b[49m\u001b[43m(\u001b[49m\u001b[38;5;124;43m'\u001b[39;49m\u001b[38;5;124;43maligned_image.jpg\u001b[39;49m\u001b[38;5;124;43m'\u001b[39;49m\u001b[43m,\u001b[49m\u001b[43m \u001b[49m\u001b[43maligned_image\u001b[49m\u001b[43m)\u001b[49m\n",
      "\u001b[1;31merror\u001b[0m: OpenCV(4.9.0) :-1: error: (-5:Bad argument) in function 'imwrite'\n> Overload resolution failed:\n>  - img is not a numpy array, neither a scalar\n>  - Expected Ptr<cv::UMat> for argument 'img'\n"
     ]
    }
   ],
   "source": [
    "image = cv2.imread('Project3.jpg')\n",
    "aligned_image = ImageAligner.many_times('Project3.jpg', 3)\n",
    "cv2.imwrite('aligned_image.jpg', aligned_image)"
   ]
  }
 ],
 "metadata": {
  "kernelspec": {
   "display_name": "Python 3",
   "language": "python",
   "name": "python3"
  },
  "language_info": {
   "codemirror_mode": {
    "name": "ipython",
    "version": 3
   },
   "file_extension": ".py",
   "mimetype": "text/x-python",
   "name": "python",
   "nbconvert_exporter": "python",
   "pygments_lexer": "ipython3",
   "version": "3.12.1"
  }
 },
 "nbformat": 4,
 "nbformat_minor": 2
}
