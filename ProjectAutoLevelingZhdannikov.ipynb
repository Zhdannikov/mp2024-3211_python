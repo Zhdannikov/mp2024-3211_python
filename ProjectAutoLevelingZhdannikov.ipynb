{
 "cells": [
  {
   "cell_type": "code",
   "execution_count": 24,
   "metadata": {},
   "outputs": [],
   "source": [
    "import cv2\n",
    "import numpy as np\n",
    "\n",
    "class ImageAligner:\n",
    "    def __init__(self, image_path=None, image_data=None, rect=None):\n",
    "        if image_path:\n",
    "            self.image = cv2.imread(image_path)\n",
    "        elif image_data:\n",
    "            self.image = image_data\n",
    "        elif rect:\n",
    "            self.image = np.zeros((rect[3], rect[2], 3), np.uint8)\n",
    "        else:\n",
    "            raise ValueError(\"Either image_path, image_data, or rect must be provided\")\n",
    "\n",
    "    def align_by_content(self):\n",
    "        gray = cv2.cvtColor(self.image, cv2.COLOR_BGR2GRAY)\n",
    "\n",
    "        sobel_x = cv2.Sobel(gray, cv2.CV_64F, 1, 0, ksize=3)\n",
    "        sobel_y = cv2.Sobel(gray, cv2.CV_64F, 0, 1, ksize=3)\n",
    "\n",
    "        magnitude, angle = cv2.cartToPolar(sobel_x, sobel_y, angleInDegrees=True)\n",
    "\n",
    "        hist, bins = np.histogram(angle.flatten(), bins=180, range=(0, 180))\n",
    "        dominant_angle = bins[np.argmax(hist)]\n",
    "\n",
    "        (h, w) = self.image.shape[:2]\n",
    "        center = (w // 2, h // 2)\n",
    "        M = cv2.getRotationMatrix2D(center, dominant_angle, 1.0)\n",
    "        aligned_image = cv2.warpAffine(self.image, M, (w, h), flags=cv2.INTER_CUBIC, borderMode=cv2.BORDER_REPLICATE)\n",
    "\n",
    "        return aligned_image\n",
    "\n",
    "\n",
    "aligner = ImageAligner(image_path='Project1.jpg')\n",
    "aligned_image = aligner.align_by_content()\n",
    "cv2.imshow('Aligned Image', aligned_image)\n",
    "cv2.waitKey(0)\n",
    "cv2.destroyAllWindows()"
   ]
  }
 ],
 "metadata": {
  "kernelspec": {
   "display_name": "Python 3",
   "language": "python",
   "name": "python3"
  },
  "language_info": {
   "codemirror_mode": {
    "name": "ipython",
    "version": 3
   },
   "file_extension": ".py",
   "mimetype": "text/x-python",
   "name": "python",
   "nbconvert_exporter": "python",
   "pygments_lexer": "ipython3",
   "version": "3.12.1"
  }
 },
 "nbformat": 4,
 "nbformat_minor": 2
}
