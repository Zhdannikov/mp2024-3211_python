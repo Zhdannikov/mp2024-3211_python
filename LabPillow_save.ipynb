{
 "cells": [
  {
   "cell_type": "markdown",
   "metadata": {},
   "source": [
    "# Сохранить изображение"
   ]
  },
  {
   "cell_type": "code",
   "execution_count": 1,
   "metadata": {},
   "outputs": [],
   "source": [
    "from PIL import Image"
   ]
  },
  {
   "cell_type": "code",
   "execution_count": 3,
   "metadata": {},
   "outputs": [
    {
     "name": "stdout",
     "output_type": "stream",
     "text": [
      "(2000, 1333)\n",
      "JPEG\n"
     ]
    }
   ],
   "source": [
    "im = Image.open('image.jpg')\n",
    "print(im.size)\n",
    "print(im.format)"
   ]
  },
  {
   "cell_type": "code",
   "execution_count": 4,
   "metadata": {},
   "outputs": [],
   "source": [
    "im.save('temp/image.bmp')\n",
    "im.save('temp/image.jpeg', format='jpeg')\n",
    "im.save('temp/image.png', format='png')\n",
    "im.save('temp/image.webp', format='webp')"
   ]
  },
  {
   "cell_type": "markdown",
   "metadata": {},
   "source": [
    "# Узнать размер изображения через ОЗУ"
   ]
  },
  {
   "cell_type": "code",
   "execution_count": 5,
   "metadata": {},
   "outputs": [],
   "source": [
    "from io import BytesIO"
   ]
  },
  {
   "cell_type": "code",
   "execution_count": 8,
   "metadata": {},
   "outputs": [
    {
     "name": "stdout",
     "output_type": "stream",
     "text": [
      "Размер BMP = 7_998_054 bytes\n",
      "Размер PNG = 3_704_104 bytes\n",
      "Размер JPEG =   489_233 bytes\n",
      "Размер WEBP =   455_848 bytes\n"
     ]
    }
   ],
   "source": [
    "f_bmp = BytesIO()\n",
    "f_png = BytesIO()\n",
    "f_jpeg = BytesIO()\n",
    "f_webp = BytesIO()\n",
    "\n",
    "im.save(f_bmp, format='bmp')\n",
    "im.save(f_png, format='png')\n",
    "im.save(f_jpeg, format='jpeg')\n",
    "im.save(f_webp, format='webp')\n",
    "\n",
    "print(f\"Размер BMP = {f_bmp.tell():>9_} bytes\")\n",
    "print(f\"Размер PNG = {f_png.tell():>9_} bytes\")\n",
    "print(f\"Размер JPEG = {f_jpeg.tell():>9_} bytes\")\n",
    "print(f\"Размер WEBP = {f_webp.tell():>9_} bytes\")"
   ]
  },
  {
   "cell_type": "code",
   "execution_count": 10,
   "metadata": {},
   "outputs": [],
   "source": [
    "def get_image_filesize(im: Image, format, quality):\n",
    "    f = BytesIO()\n",
    "    im.save(f, format=format, quality=quality)\n",
    "    return f.tell()"
   ]
  },
  {
   "cell_type": "code",
   "execution_count": 11,
   "metadata": {},
   "outputs": [
    {
     "name": "stdout",
     "output_type": "stream",
     "text": [
      "Размер JPEG   0 % = 56277 bytes\n",
      "Размер JPEG   5 % = 75768 bytes\n",
      "Размер JPEG  10 % = 113745 bytes\n",
      "Размер JPEG  15 % = 148368 bytes\n",
      "Размер JPEG  20 % = 179561 bytes\n",
      "Размер JPEG  25 % = 204784 bytes\n",
      "Размер JPEG  30 % = 229241 bytes\n",
      "Размер JPEG  35 % = 243149 bytes\n",
      "Размер JPEG  40 % = 270910 bytes\n",
      "Размер JPEG  45 % = 311148 bytes\n",
      "Размер JPEG  50 % = 343901 bytes\n",
      "Размер JPEG  55 % = 388762 bytes\n",
      "Размер JPEG  60 % = 427395 bytes\n",
      "Размер JPEG  65 % = 447637 bytes\n",
      "Размер JPEG  70 % = 467590 bytes\n",
      "Размер JPEG  75 % = 489233 bytes\n",
      "Размер JPEG  80 % = 526381 bytes\n",
      "Размер JPEG  85 % = 604775 bytes\n",
      "Размер JPEG  90 % = 704452 bytes\n",
      "Размер JPEG  95 % = 938349 bytes\n",
      "Размер JPEG 100 % = 1451600 bytes\n"
     ]
    }
   ],
   "source": [
    "for i in range(0, 101, 5):\n",
    "    print(f\"Размер JPEG {i:>3} % = {get_image_filesize(im, 'jpeg', i)} bytes\")"
   ]
  }
 ],
 "metadata": {
  "kernelspec": {
   "display_name": "Python 3",
   "language": "python",
   "name": "python3"
  },
  "language_info": {
   "codemirror_mode": {
    "name": "ipython",
    "version": 3
   },
   "file_extension": ".py",
   "mimetype": "text/x-python",
   "name": "python",
   "nbconvert_exporter": "python",
   "pygments_lexer": "ipython3",
   "version": "3.12.1"
  }
 },
 "nbformat": 4,
 "nbformat_minor": 2
}
