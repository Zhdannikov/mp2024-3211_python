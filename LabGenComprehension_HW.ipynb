{
 "cells": [
  {
   "cell_type": "markdown",
   "metadata": {},
   "source": [
    "# Домашняя работа"
   ]
  },
  {
   "cell_type": "code",
   "execution_count": 1,
   "metadata": {},
   "outputs": [],
   "source": [
    "import random\n",
    "import string"
   ]
  },
  {
   "cell_type": "code",
   "execution_count": 6,
   "metadata": {},
   "outputs": [],
   "source": [
    "input_string = \"кот ученный, все ходит по цепи кругом\"\n",
    "words = input_string.split()"
   ]
  },
  {
   "cell_type": "code",
   "execution_count": 7,
   "metadata": {},
   "outputs": [
    {
     "name": "stdout",
     "output_type": "stream",
     "text": [
      "['КОТ', 'УЧЕННЫЙ,', 'ВСЕ', 'ХОДИТ', 'ПО', 'ЦЕПИ', 'КРУГОМ']\n"
     ]
    }
   ],
   "source": [
    "def reverse_case(word):\n",
    "    return word.swapcase()\n",
    "\n",
    "\n",
    "words_reverse_case = [reverse_case(word) for word in words]\n",
    "print(words_reverse_case)"
   ]
  },
  {
   "cell_type": "code",
   "execution_count": 8,
   "metadata": {},
   "outputs": [
    {
     "name": "stdout",
     "output_type": "stream",
     "text": [
      "['___', '________', '___', '_____', '__', '____', '______']\n"
     ]
    }
   ],
   "source": [
    "def replace_with_underscore(word):\n",
    "    return '_' * len(word)\n",
    "\n",
    "words_underscore = [replace_with_underscore(word) for word in words]\n",
    "print(words_underscore)"
   ]
  },
  {
   "cell_type": "code",
   "execution_count": 9,
   "metadata": {},
   "outputs": [
    {
     "name": "stdout",
     "output_type": "stream",
     "text": [
      "['_о_', '_ченный_', '_с_', '_оди_', '__', '_еп_', '_руго_']\n"
     ]
    }
   ],
   "source": [
    "def replace_first_and_last(word):\n",
    "    return '_' + word[1:-1] + '_' if len(word) > 2 else '_' * len(word)\n",
    "\n",
    "words_first_last_underscore = [replace_first_and_last(word) for word in words]\n",
    "print(words_first_last_underscore)"
   ]
  },
  {
   "cell_type": "code",
   "execution_count": 10,
   "metadata": {},
   "outputs": [
    {
     "name": "stdout",
     "output_type": "stream",
     "text": [
      "['___', 'ученный,', '___', 'ходит', '__', '____', 'кругом']\n"
     ]
    }
   ],
   "source": [
    "def replace_if_less_than_five(word):\n",
    "    return replace_with_underscore(word) if len(word) < 5 else word\n",
    "\n",
    "words_less_than_five = [replace_if_less_than_five(word) for word in words]\n",
    "print(words_less_than_five)"
   ]
  },
  {
   "cell_type": "code",
   "execution_count": 11,
   "metadata": {},
   "outputs": [
    {
     "name": "stdout",
     "output_type": "stream",
     "text": [
      "['отк', 'ы,унйечн', 'евс', 'дтиох', 'оп', 'ипец', 'мркогу']\n"
     ]
    }
   ],
   "source": [
    "def shuffle_letters(word):\n",
    "    letters = list(word)\n",
    "    random.shuffle(letters)\n",
    "    return ''.join(letters)\n",
    "\n",
    "words_shuffled = [shuffle_letters(word) for word in words]\n",
    "print(words_shuffled)"
   ]
  },
  {
   "cell_type": "code",
   "execution_count": 12,
   "metadata": {},
   "outputs": [
    {
     "name": "stdout",
     "output_type": "stream",
     "text": [
      "['коТ', 'ученный,', 'всЕ', 'ходиТ', 'пО', 'цепИ', 'кругоМ']\n"
     ]
    }
   ],
   "source": [
    "def capitalize_last_letter(word):\n",
    "    return word[:-1] + word[-1].upper()\n",
    "\n",
    "words_capitalize_last = [capitalize_last_letter(word) for word in words]\n",
    "print(words_capitalize_last)"
   ]
  },
  {
   "cell_type": "code",
   "execution_count": 13,
   "metadata": {},
   "outputs": [
    {
     "name": "stdout",
     "output_type": "stream",
     "text": [
      "['кот', 'УЧЕННЫЙ,', 'все', 'ходит', 'ПО', 'ЦЕПИ', 'КРУГОМ']\n"
     ]
    }
   ],
   "source": [
    "def alternate_case(word):\n",
    "    return word.upper() if len(word) % 2 == 0 else word.lower()\n",
    "\n",
    "words_alternate_case = [alternate_case(word) for word in words]\n",
    "print(words_alternate_case)"
   ]
  },
  {
   "cell_type": "code",
   "execution_count": 14,
   "metadata": {},
   "outputs": [
    {
     "name": "stdout",
     "output_type": "stream",
     "text": [
      "['ходит', 'цепи', 'кот', 'ученный,', 'все', 'кругом', 'по']\n"
     ]
    }
   ],
   "source": [
    "def random_swap(words):\n",
    "    random.shuffle(words)\n",
    "    return words\n",
    "\n",
    "words_random_swap = random_swap(words)\n",
    "print(words_random_swap)"
   ]
  },
  {
   "cell_type": "code",
   "execution_count": 15,
   "metadata": {},
   "outputs": [
    {
     "name": "stdout",
     "output_type": "stream",
     "text": [
      "['по', 'кот', 'все', 'цепи', 'ходит', 'кругом', 'ученный,']\n"
     ]
    }
   ],
   "source": [
    "def sort_by_length(words):\n",
    "    return sorted(words, key=len)\n",
    "\n",
    "words_sorted_by_length = sort_by_length(words)\n",
    "print(words_sorted_by_length)"
   ]
  },
  {
   "cell_type": "code",
   "execution_count": 16,
   "metadata": {},
   "outputs": [
    {
     "name": "stdout",
     "output_type": "stream",
     "text": [
      "{'к', 'е', 'д', 'в', 'м', 'й', 'п', 'н', 'г', 'с', 'т', ',', 'ч', 'х', 'у', 'ы', 'о', 'и', 'ц', 'р'}\n"
     ]
    }
   ],
   "source": [
    "def unique_letters(words):\n",
    "    all_letters = ''.join(words)\n",
    "    return set(all_letters)\n",
    "\n",
    "unique_letters_list = unique_letters(words)\n",
    "print(unique_letters_list)"
   ]
  },
  {
   "cell_type": "code",
   "execution_count": 17,
   "metadata": {},
   "outputs": [
    {
     "name": "stdout",
     "output_type": "stream",
     "text": [
      "{'к': 2, 'е': 3, 'д': 1, 'в': 1, 'м': 1, 'й': 1, 'п': 2, 'н': 2, 'г': 1, 'с': 1, 'т': 2, ',': 1, 'ч': 1, 'х': 1, 'у': 2, 'ы': 1, 'о': 4, 'и': 2, 'ц': 1, 'р': 1}\n"
     ]
    }
   ],
   "source": [
    "def unique_letters_count(words):\n",
    "    all_letters = ''.join(words)\n",
    "    return {letter: all_letters.count(letter) for letter in set(all_letters)}\n",
    "\n",
    "unique_letters_count_dict = unique_letters_count(words)\n",
    "print(unique_letters_count_dict)"
   ]
  }
 ],
 "metadata": {
  "kernelspec": {
   "display_name": "Python 3",
   "language": "python",
   "name": "python3"
  },
  "language_info": {
   "codemirror_mode": {
    "name": "ipython",
    "version": 3
   },
   "file_extension": ".py",
   "mimetype": "text/x-python",
   "name": "python",
   "nbconvert_exporter": "python",
   "pygments_lexer": "ipython3",
   "version": "3.12.1"
  }
 },
 "nbformat": 4,
 "nbformat_minor": 2
}
