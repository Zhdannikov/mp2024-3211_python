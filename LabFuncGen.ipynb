{
 "cells": [
  {
   "cell_type": "markdown",
   "metadata": {},
   "source": [
    "# Генератор функция\n"
   ]
  },
  {
   "cell_type": "markdown",
   "metadata": {},
   "source": [
    "## Встроенные генераторы функций в Python"
   ]
  },
  {
   "cell_type": "code",
   "execution_count": 1,
   "metadata": {},
   "outputs": [
    {
     "name": "stdout",
     "output_type": "stream",
     "text": [
      "<class 'enumerate'>\n",
      "(0, 'a')\n",
      "(1, 'b') (2, 'c') (3, 'd')\n"
     ]
    }
   ],
   "source": [
    "it = enumerate(\"abcd\")\n",
    "print(type(it))\n",
    "print(next(it))\n",
    "print(*it)"
   ]
  },
  {
   "cell_type": "code",
   "execution_count": 2,
   "metadata": {},
   "outputs": [
    {
     "name": "stdout",
     "output_type": "stream",
     "text": [
      "<class 'reversed'>\n",
      "d\n",
      "c b a\n"
     ]
    }
   ],
   "source": [
    "it = reversed(\"abcd\")\n",
    "print(type(it))\n",
    "print(next(it))\n",
    "print(*it)"
   ]
  },
  {
   "cell_type": "markdown",
   "metadata": {},
   "source": [
    "## Пользовательские генераторы функций"
   ]
  },
  {
   "cell_type": "code",
   "execution_count": 5,
   "metadata": {},
   "outputs": [
    {
     "name": "stdout",
     "output_type": "stream",
     "text": [
      "<generator object func1 at 0x000001AA1A82B530>\n",
      "10\n",
      "20\n",
      "30\n"
     ]
    }
   ],
   "source": [
    "def func1():\n",
    "    yield 10\n",
    "    yield 20\n",
    "    yield 30\n",
    "\n",
    "print(func1())   \n",
    "\n",
    "it = func1()\n",
    "print(next(it))\n",
    "print(next(it))\n",
    "print(next(it))"
   ]
  },
  {
   "cell_type": "code",
   "execution_count": 6,
   "metadata": {},
   "outputs": [
    {
     "name": "stdout",
     "output_type": "stream",
     "text": [
      "<generator object func1 at 0x000001AA1AA77440>\n",
      "0 1 2\n"
     ]
    }
   ],
   "source": [
    "def func1(n):\n",
    "    for i in range(n):\n",
    "      yield i\n",
    "\n",
    "print(func1(3))\n",
    "print(*func1(3))      "
   ]
  },
  {
   "cell_type": "code",
   "execution_count": 7,
   "metadata": {},
   "outputs": [
    {
     "name": "stdout",
     "output_type": "stream",
     "text": [
      "100 qwerty йцуке A B C 0 1 2 200\n"
     ]
    }
   ],
   "source": [
    "def func2():\n",
    "    yield 'qwerty'\n",
    "    yield 'йцуке'\n",
    "\n",
    "def func1():\n",
    "    yield 100\n",
    "    yield from func2()\n",
    "    yield from \"ABC\"\n",
    "    yield from range(3)\n",
    "    yield 200\n",
    "\n",
    "print(*func1())        "
   ]
  },
  {
   "cell_type": "code",
   "execution_count": 8,
   "metadata": {},
   "outputs": [
    {
     "name": "stdout",
     "output_type": "stream",
     "text": [
      "100\n",
      "qwerty\n",
      "йцуке\n",
      "A\n",
      "B\n",
      "C\n",
      "0\n",
      "1\n",
      "2\n",
      "200\n"
     ]
    }
   ],
   "source": [
    "for i in func1():\n",
    "    print(i)\n"
   ]
  },
  {
   "cell_type": "code",
   "execution_count": 13,
   "metadata": {},
   "outputs": [
    {
     "name": "stdout",
     "output_type": "stream",
     "text": [
      "Москва\n",
      "Воронеж\n",
      "Тула\n",
      "Москва\n"
     ]
    }
   ],
   "source": [
    "def my_cycle(iterable):\n",
    "    while True:\n",
    "        for element in iterable:\n",
    "            yield element\n",
    "\n",
    "it = my_cycle([\"Москва\",\"Воронеж\",\"Тула\"])\n",
    "print(next(it))\n",
    "print(next(it))\n",
    "print(next(it))\n",
    "print(next(it))"
   ]
  },
  {
   "cell_type": "code",
   "execution_count": 14,
   "metadata": {},
   "outputs": [
    {
     "name": "stdout",
     "output_type": "stream",
     "text": [
      "A B C A B C A B C A "
     ]
    }
   ],
   "source": [
    "n = 0\n",
    "for i in my_cycle(\"ABC\"):\n",
    "    if n >= 10:\n",
    "        break\n",
    "    print(i, end=' ')\n",
    "    n+=1\n",
    "\n"
   ]
  }
 ],
 "metadata": {
  "kernelspec": {
   "display_name": "Python 3",
   "language": "python",
   "name": "python3"
  },
  "language_info": {
   "codemirror_mode": {
    "name": "ipython",
    "version": 3
   },
   "file_extension": ".py",
   "mimetype": "text/x-python",
   "name": "python",
   "nbconvert_exporter": "python",
   "pygments_lexer": "ipython3",
   "version": "3.12.1"
  }
 },
 "nbformat": 4,
 "nbformat_minor": 2
}
