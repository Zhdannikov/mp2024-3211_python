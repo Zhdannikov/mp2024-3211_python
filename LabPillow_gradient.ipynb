{
 "cells": [
  {
   "cell_type": "markdown",
   "metadata": {},
   "source": [
    "# Градиенты в Pillow"
   ]
  },
  {
   "cell_type": "code",
   "execution_count": 6,
   "metadata": {},
   "outputs": [],
   "source": [
    "from PIL import Image, ImageDraw"
   ]
  },
  {
   "cell_type": "code",
   "execution_count": 5,
   "metadata": {},
   "outputs": [
    {
     "data": {
      "image/jpeg": "[encoded data removed]",
      "image/png": "[encoded data removed]",
      "text/plain": [
       "<PIL.Image.Image image mode=L size=400x50>"
      ]
     },
     "metadata": {},
     "output_type": "display_data"
    },
    {
     "data": {
      "image/jpeg": "[encoded data removed]",
      "image/png": "[encoded data removed]",
      "text/plain": [
       "<PIL.Image.Image image mode=L size=400x50>"
      ]
     },
     "metadata": {},
     "output_type": "display_data"
    },
    {
     "data": {
      "image/jpeg": "[encoded data removed]",
      "image/png": "[encoded data removed]",
      "text/plain": [
       "<PIL.Image.Image image mode=L size=400x50>"
      ]
     },
     "metadata": {},
     "output_type": "display_data"
    }
   ],
   "source": [
    "display(Image.linear_gradient('L').resize((400,50)))\n",
    "display(Image.linear_gradient('L').rotate(90).resize((400,50)))\n",
    "display(Image.radial_gradient('L').resize((400,50)))"
   ]
  },
  {
   "cell_type": "code",
   "execution_count": 13,
   "metadata": {},
   "outputs": [
    {
     "name": "stdout",
     "output_type": "stream",
     "text": [
      "[-0.51, 0.51, 0.0]\n"
     ]
    },
    {
     "data": {
      "image/jpeg": "[encoded data removed]",
      "image/png": "[encoded data removed]",
      "text/plain": [
       "<PIL.Image.Image image mode=RGB size=500x100>"
      ]
     },
     "execution_count": 13,
     "metadata": {},
     "output_type": "execute_result"
    }
   ],
   "source": [
    "im = Image.new(size=(500,100), mode='RGB')\n",
    "draw = ImageDraw.Draw(im)\n",
    "\n",
    "color_1 = (255, 0, 255)\n",
    "color_2 = (0, 255, 255)\n",
    "\n",
    "#delta = (\n",
    " #   (color_2[0] - color_1[0]) / im.width,\n",
    "  #  (color_2[1] - color_1[1]) / im.width,\n",
    "   # (color_2[2] - color_1[2]) / im.width,\n",
    "#)\n",
    "\n",
    "delta =[( color_2[i] - color_1[i]) / im.width for i in range(len(color_1))]\n",
    "\n",
    "color_temp = list(delta)\n",
    "for i in range(im.width):\n",
    "    for c in range(len(color_temp)):\n",
    "        color_temp[c] += delta[c]\n",
    "    for j in range(im.height):\n",
    "        color_new = tuple([int(i) for i in color_temp])\n",
    "        draw.point((i, j), fill=color_new)    \n",
    "\n",
    "print(delta)\n",
    "im"
   ]
  }
 ],
 "metadata": {
  "kernelspec": {
   "display_name": "Python 3",
   "language": "python",
   "name": "python3"
  },
  "language_info": {
   "codemirror_mode": {
    "name": "ipython",
    "version": 3
   },
   "file_extension": ".py",
   "mimetype": "text/x-python",
   "name": "python",
   "nbconvert_exporter": "python",
   "pygments_lexer": "ipython3",
   "version": "3.12.1"
  }
 },
 "nbformat": 4,
 "nbformat_minor": 2
}
