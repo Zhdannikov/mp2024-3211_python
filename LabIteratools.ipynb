{
 "cells": [
  {
   "cell_type": "markdown",
   "metadata": {},
   "source": [
    "# Модуль itertools - Сборник итераторов"
   ]
  },
  {
   "cell_type": "code",
   "execution_count": 1,
   "metadata": {},
   "outputs": [],
   "source": [
    "import itertools"
   ]
  },
  {
   "cell_type": "code",
   "execution_count": 2,
   "metadata": {},
   "outputs": [
    {
     "name": "stdout",
     "output_type": "stream",
     "text": [
      "10 11 12 13 14 15 16 17 18 19 20 21 22 23 24 25 26 27 28 29 "
     ]
    }
   ],
   "source": [
    "for i in itertools.count(10):\n",
    "    if i >= 30:\n",
    "        break\n",
    "    print(i, end=' ')"
   ]
  },
  {
   "cell_type": "code",
   "execution_count": 3,
   "metadata": {},
   "outputs": [
    {
     "name": "stdout",
     "output_type": "stream",
     "text": [
      "A\n",
      "B\n",
      "C\n",
      "A\n",
      "B\n"
     ]
    }
   ],
   "source": [
    "it = itertools.cycle(\"ABC\")\n",
    "print(next(it))\n",
    "print(next(it))\n",
    "print(next(it))\n",
    "print(next(it))\n",
    "print(next(it))"
   ]
  },
  {
   "cell_type": "code",
   "execution_count": 4,
   "metadata": {},
   "outputs": [
    {
     "name": "stdout",
     "output_type": "stream",
     "text": [
      "a=0,b=0,c='A'\n",
      "a=0,b=0,c='B'\n",
      "a=0,b=1,c='A'\n",
      "a=0,b=1,c='B'\n",
      "a=0,b=2,c='A'\n",
      "a=0,b=2,c='B'\n",
      "a=1,b=0,c='A'\n",
      "a=1,b=0,c='B'\n",
      "a=1,b=1,c='A'\n",
      "a=1,b=1,c='B'\n",
      "a=1,b=2,c='A'\n",
      "a=1,b=2,c='B'\n"
     ]
    }
   ],
   "source": [
    "# \"Было\"\n",
    "for a in range(2):\n",
    "    for b in range(3):\n",
    "        for c in 'AB':\n",
    "            print(f\"{a=},{b=},{c=}\")"
   ]
  },
  {
   "cell_type": "code",
   "execution_count": 5,
   "metadata": {},
   "outputs": [
    {
     "name": "stdout",
     "output_type": "stream",
     "text": [
      "a=0,b=0,c='A'\n",
      "a=0,b=0,c='B'\n",
      "a=0,b=1,c='A'\n",
      "a=0,b=1,c='B'\n",
      "a=0,b=2,c='A'\n",
      "a=0,b=2,c='B'\n",
      "a=1,b=0,c='A'\n",
      "a=1,b=0,c='B'\n",
      "a=1,b=1,c='A'\n",
      "a=1,b=1,c='B'\n",
      "a=1,b=2,c='A'\n",
      "a=1,b=2,c='B'\n"
     ]
    }
   ],
   "source": [
    "# \"Стало\"\n",
    "for a,b,c in itertools.product(range(2),range(3), 'AB'):\n",
    "    print(f\"{a=},{b=},{c=}\")"
   ]
  }
 ],
 "metadata": {
  "kernelspec": {
   "display_name": "Python 3",
   "language": "python",
   "name": "python3"
  },
  "language_info": {
   "codemirror_mode": {
    "name": "ipython",
    "version": 3
   },
   "file_extension": ".py",
   "mimetype": "text/x-python",
   "name": "python",
   "nbconvert_exporter": "python",
   "pygments_lexer": "ipython3",
   "version": "3.12.1"
  }
 },
 "nbformat": 4,
 "nbformat_minor": 2
}
