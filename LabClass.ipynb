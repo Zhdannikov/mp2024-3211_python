{
 "cells": [
  {
   "cell_type": "markdown",
   "metadata": {},
   "source": [
    "# Классы и обьекты в Python"
   ]
  },
  {
   "cell_type": "code",
   "execution_count": 1,
   "metadata": {},
   "outputs": [],
   "source": [
    "class Car:\n",
    "    pass\n",
    "\n",
    "a = Car()"
   ]
  },
  {
   "cell_type": "markdown",
   "metadata": {},
   "source": [
    "## Атрибуты класса \n",
    "\n",
    "`Атрибуты класса` - это `поля` и `методы` (класса / обьекта).\n",
    "\n",
    "Виды атрибутов класса:\n",
    "- встроенные (служебные) атриюуты\n",
    "- пользовательские атрибуты"
   ]
  },
  {
   "cell_type": "code",
   "execution_count": 3,
   "metadata": {},
   "outputs": [
    {
     "data": {
      "text/plain": [
       "['__class__',\n",
       " '__delattr__',\n",
       " '__dict__',\n",
       " '__dir__',\n",
       " '__doc__',\n",
       " '__eq__',\n",
       " '__format__',\n",
       " '__ge__',\n",
       " '__getattribute__',\n",
       " '__getstate__',\n",
       " '__gt__',\n",
       " '__hash__',\n",
       " '__init__',\n",
       " '__init_subclass__',\n",
       " '__le__',\n",
       " '__lt__',\n",
       " '__module__',\n",
       " '__ne__',\n",
       " '__new__',\n",
       " '__reduce__',\n",
       " '__reduce_ex__',\n",
       " '__repr__',\n",
       " '__setattr__',\n",
       " '__sizeof__',\n",
       " '__str__',\n",
       " '__subclasshook__',\n",
       " '__weakref__',\n",
       " 'color',\n",
       " 'run']"
      ]
     },
     "execution_count": 3,
     "metadata": {},
     "output_type": "execute_result"
    }
   ],
   "source": [
    "class Car:\n",
    "    color = 'red'\n",
    "\n",
    "    def run(self):\n",
    "        pass\n",
    "\n",
    "dir(Car)"
   ]
  },
  {
   "cell_type": "markdown",
   "metadata": {},
   "source": [
    "## Поля класса\n",
    "\n",
    "`Поля класса` - ппеременные, которые обьявлены внутри класса.\n",
    "\n",
    "Виды полей класса:\n",
    "- Статические поля - которые принадлежат классу.\n",
    "- Динамические поля - которые принадлежат каждому отдельному экземпляру класса."
   ]
  },
  {
   "cell_type": "code",
   "execution_count": 6,
   "metadata": {},
   "outputs": [
    {
     "name": "stdout",
     "output_type": "stream",
     "text": [
      "['__class__', '__delattr__', '__dict__', '__dir__', '__doc__', '__eq__', '__format__', '__ge__', '__getattribute__', '__getstate__', '__gt__', '__hash__', '__init__', '__init_subclass__', '__le__', '__lt__', '__module__', '__ne__', '__new__', '__reduce__', '__reduce_ex__', '__repr__', '__setattr__', '__sizeof__', '__str__', '__subclasshook__', '__weakref__', 'default_color']\n",
      "Red\n",
      "Green\n"
     ]
    }
   ],
   "source": [
    "# Статические поля \n",
    "\n",
    "class Car:\n",
    "    default_color = 'Red'\n",
    "\n",
    "print(dir(Car))\n",
    "\n",
    "print(Car.default_color)\n",
    "Car.default_color = 'Green'\n",
    "print(Car.default_color)"
   ]
  },
  {
   "cell_type": "code",
   "execution_count": 8,
   "metadata": {},
   "outputs": [
    {
     "name": "stdout",
     "output_type": "stream",
     "text": [
      "Red\n"
     ]
    }
   ],
   "source": [
    "# Динамические поля \n",
    "\n",
    "class Car:\n",
    "    def __init__(self, coolor) -> None:\n",
    "        self.color = coolor\n",
    "\n",
    "car = Car('Red')        \n",
    "print(car.color)"
   ]
  },
  {
   "cell_type": "markdown",
   "metadata": {},
   "source": [
    "## Методы класса\n",
    "\n",
    "`Методы класса` - функция, обьявленная внутри класса.\n",
    "\n",
    "Виды методов класса:\n",
    "- Методы экземпляра класса (обычные методы)\n",
    "- Статические методы  \n",
    "- Методы класса"
   ]
  },
  {
   "cell_type": "code",
   "execution_count": 11,
   "metadata": {},
   "outputs": [
    {
     "name": "stdout",
     "output_type": "stream",
     "text": [
      "Методы класса\n",
      "Статические методы\n",
      "Обычный метод\n"
     ]
    }
   ],
   "source": [
    "class Car:\n",
    "    # Обычный метод\n",
    "    def run(self, value):\n",
    "        print('Обычный метод')\n",
    "\n",
    "    # Статические методы\n",
    "    @staticmethod\n",
    "    def convert(value):\n",
    "        print('Статические методы')\n",
    "\n",
    "    # Методы класса\n",
    "    @classmethod\n",
    "    def set_default_color(cls, value):\n",
    "        print('Методы класса')          \n",
    "\n",
    "\n",
    "Car.set_default_color('Red')\n",
    "Car.convert(123)\n",
    "Car().run(55)"
   ]
  },
  {
   "cell_type": "markdown",
   "metadata": {},
   "source": [
    "## Уровни доступа атрибутов\n",
    "\n",
    "Модификаторы доступа (известны из классических ЯП):\n",
    "- private\n",
    "- protected\n",
    "- public"
   ]
  },
  {
   "cell_type": "code",
   "execution_count": 14,
   "metadata": {},
   "outputs": [
    {
     "name": "stdout",
     "output_type": "stream",
     "text": [
      "Сбер\n",
      "1111 2222 3333 4444\n",
      "1234\n"
     ]
    }
   ],
   "source": [
    "class Card:\n",
    "    def __init__(self, name, number, pin) -> None:\n",
    "        # public\n",
    "        self.name = name\n",
    "        # protected\n",
    "        self._number = number\n",
    "        # private\n",
    "        self.__pin = pin\n",
    "\n",
    "card = Card('Сбер', '1111 2222 3333 4444', '1234')\n",
    "print(card.name)\n",
    "print(card._number)\n",
    "#print(card.__pin) # <-- нельзя, ошибка\n",
    "print(card._Card__pin)  # обходной путь, но так делать не нужно     "
   ]
  },
  {
   "cell_type": "code",
   "execution_count": 15,
   "metadata": {},
   "outputs": [
    {
     "name": "stdout",
     "output_type": "stream",
     "text": [
      "Collecting accessify\n",
      "  Downloading accessify-0.3.1.tar.gz (20 kB)\n",
      "  Installing build dependencies: started\n",
      "  Installing build dependencies: finished with status 'done'\n",
      "  Getting requirements to build wheel: started\n",
      "  Getting requirements to build wheel: finished with status 'done'\n",
      "  Preparing metadata (pyproject.toml): started\n",
      "  Preparing metadata (pyproject.toml): finished with status 'done'\n",
      "Building wheels for collected packages: accessify\n",
      "  Building wheel for accessify (pyproject.toml): started\n",
      "  Building wheel for accessify (pyproject.toml): finished with status 'done'\n",
      "  Created wheel for accessify: filename=accessify-0.3.1-py3-none-any.whl size=26743 sha256=f8b4824903c29064df557b323d80e77584c03b314ec39070d913eb24e5e0f704\n",
      "  Stored in directory: c:\\users\\мвидео\\appdata\\local\\pip\\cache\\wheels\\36\\f2\\a0\\98bdcd9d33a9db28e50700821bdd73b2b598820a4d650deb50\n",
      "Successfully built accessify\n",
      "Installing collected packages: accessify\n",
      "Successfully installed accessify-0.3.1\n",
      "Note: you may need to restart the kernel to use updated packages.\n"
     ]
    },
    {
     "name": "stderr",
     "output_type": "stream",
     "text": [
      "\n",
      "[notice] A new release of pip is available: 23.2.1 -> 24.0\n",
      "[notice] To update, run: python.exe -m pip install --upgrade pip\n"
     ]
    }
   ],
   "source": [
    "pip install accessify"
   ]
  },
  {
   "cell_type": "code",
   "execution_count": 17,
   "metadata": {},
   "outputs": [],
   "source": [
    "from accessify import protected, private\n",
    "\n",
    "# Модуль позволяет отойти от '_' и '__' на использование декораторов"
   ]
  },
  {
   "cell_type": "code",
   "execution_count": 22,
   "metadata": {},
   "outputs": [],
   "source": [
    "class Card:\n",
    "\n",
    "    @protected\n",
    "    def set_number(self, number):\n",
    "        self._number = number\n",
    "\n",
    "    @private\n",
    "    def __set_pin(self, pin):\n",
    "        self.__pin = pin\n",
    "\n",
    "card = Card()  \n",
    "# card.__set_pin          "
   ]
  },
  {
   "cell_type": "markdown",
   "metadata": {},
   "source": [
    "## Свойства\n",
    "\n",
    "Свойства (управляемые атрибуты)"
   ]
  },
  {
   "cell_type": "code",
   "execution_count": 23,
   "metadata": {},
   "outputs": [
    {
     "name": "stdout",
     "output_type": "stream",
     "text": [
      "19\n",
      "21\n"
     ]
    }
   ],
   "source": [
    "# использование методов для иметации свойства\n",
    "\n",
    "class Person:\n",
    "    def __init__(self, age) -> None:\n",
    "        self._age = age\n",
    "\n",
    "    def get_age(self):\n",
    "        return self._age\n",
    "\n",
    "    def set_age(self, value):\n",
    "        self._age = value\n",
    "\n",
    "person = Person(age=19)\n",
    "print(person.get_age())\n",
    "person.set_age(21)\n",
    "print(person.get_age())            "
   ]
  },
  {
   "cell_type": "code",
   "execution_count": 24,
   "metadata": {},
   "outputs": [
    {
     "name": "stdout",
     "output_type": "stream",
     "text": [
      "22\n"
     ]
    }
   ],
   "source": [
    "# \n",
    "\n",
    "class Person:\n",
    "    def __init__(self, age) -> None:\n",
    "        self._age = age\n",
    "\n",
    "    def _get_age(self):\n",
    "        return self._age\n",
    "\n",
    "    def _set_age(self, value):\n",
    "        self._age = value\n",
    "\n",
    "    age = property(\n",
    "        fget=_get_age,\n",
    "        fset=_set_age,\n",
    "        doc='Возрастт'\n",
    "    )    \n",
    "\n",
    "person = Person(age=20)\n",
    "person.age = 22\n",
    "print(person.age)    "
   ]
  }
 ],
 "metadata": {
  "kernelspec": {
   "display_name": "Python 3",
   "language": "python",
   "name": "python3"
  },
  "language_info": {
   "codemirror_mode": {
    "name": "ipython",
    "version": 3
   },
   "file_extension": ".py",
   "mimetype": "text/x-python",
   "name": "python",
   "nbconvert_exporter": "python",
   "pygments_lexer": "ipython3",
   "version": "3.12.1"
  }
 },
 "nbformat": 4,
 "nbformat_minor": 2
}
