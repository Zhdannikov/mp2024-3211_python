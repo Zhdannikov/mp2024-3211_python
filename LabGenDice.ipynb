{
 "cells": [
  {
   "cell_type": "markdown",
   "metadata": {},
   "source": [
    "## Генератор подбрасывания кубиков"
   ]
  },
  {
   "cell_type": "code",
   "execution_count": 2,
   "metadata": {},
   "outputs": [
    {
     "name": "stdout",
     "output_type": "stream",
     "text": [
      "3 6 4 3 6 3 1 6 3 1  \n",
      "7 5 6 7 7 7 6 5 2 1  \n",
      "1 11 1 14 8 15 10 2 4 1 "
     ]
    }
   ],
   "source": [
    "# Импортируем модуль random для генерации случайных чисел\n",
    "import random\n",
    "\n",
    "# Определяем функцию генератора подбрасывания кубика\n",
    "def dice_generator(sides=6, values=None):\n",
    "    # Если значения не предоставлены, создаем список значений от 1 до количества граней\n",
    "    if values is None:\n",
    "        values = list(range(1, sides+1))\n",
    "    # Бесконечный цикл генерации случайных значений из списка значений\n",
    "    while True:\n",
    "        yield random.choice(values)\n",
    "\n",
    "# Создаем генератор кубика с 6 гранями\n",
    "dice = dice_generator()\n",
    "# Подбрасываем кубик 10 раз и выводим результаты\n",
    "for _ in range(10):\n",
    "    print(next(dice), end = ' ')\n",
    "\n",
    "print(' ')\n",
    "\n",
    "# Создаем генератор кубика с 8 гранями\n",
    "dice = dice_generator(sides=8)\n",
    "# Подбрасываем кубик 10 раз и выводим результаты\n",
    "for _ in range(10):\n",
    "    print(next(dice), end = ' ')\n",
    "\n",
    "print(' ')\n",
    "\n",
    "# Создаем генератор кубика с 15 гранями\n",
    "dice = dice_generator(sides=15)\n",
    "# Подбрасываем кубик 10 раз и выводим результаты\n",
    "for _ in range(10):\n",
    "    print(next(dice), end = ' ') "
   ]
  }
 ],
 "metadata": {
  "kernelspec": {
   "display_name": "Python 3",
   "language": "python",
   "name": "python3"
  },
  "language_info": {
   "codemirror_mode": {
    "name": "ipython",
    "version": 3
   },
   "file_extension": ".py",
   "mimetype": "text/x-python",
   "name": "python",
   "nbconvert_exporter": "python",
   "pygments_lexer": "ipython3",
   "version": "3.12.1"
  }
 },
 "nbformat": 4,
 "nbformat_minor": 2
}
