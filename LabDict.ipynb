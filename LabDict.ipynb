{
 "cells": [
  {
   "cell_type": "markdown",
   "metadata": {},
   "source": [
    "# Словарь (dict)\n",
    "\n",
    "`Словарь (dict)` - упорядоченная структура данных, которая позволяет хранить пары \"ключ-значение\" с доступом по уникальному ключу"
   ]
  },
  {
   "cell_type": "code",
   "execution_count": 2,
   "metadata": {},
   "outputs": [
    {
     "data": {
      "text/plain": [
       "{'имя': 'Викинг',\n",
       " 'жизнь': 250,\n",
       " 'Невидим': True,\n",
       " 'Инвентарь': ['лопата', 'ведро']}"
      ]
     },
     "execution_count": 2,
     "metadata": {},
     "output_type": "execute_result"
    }
   ],
   "source": [
    "{'имя': 'Викинг', 'жизнь': 250, 'Невидим': True, 'Инвентарь': ['лопата','ведро']}"
   ]
  },
  {
   "cell_type": "code",
   "execution_count": 3,
   "metadata": {},
   "outputs": [
    {
     "name": "stdout",
     "output_type": "stream",
     "text": [
      "{5: 'Отлично', 4: 'Хорошо', 3: 'Удовлетворительно', 2: 'Неудовлетворительно'}\n",
      "Неудовлетворительно\n"
     ]
    }
   ],
   "source": [
    "v = {5:\"Отлично\", 4:\"Хорошо\", 3:\"Удовлетворительно\", 2:\"Неудовлетворительно\"}\n",
    "print(v)\n",
    "print(v[2])"
   ]
  },
  {
   "cell_type": "code",
   "execution_count": 5,
   "metadata": {},
   "outputs": [
    {
     "name": "stdout",
     "output_type": "stream",
     "text": [
      "<class 'dict'>\n"
     ]
    }
   ],
   "source": [
    "v = {}\n",
    "print(type(v))\n",
    "empty_set= set()\n",
    "empty_dict = dict()"
   ]
  },
  {
   "cell_type": "code",
   "execution_count": 6,
   "metadata": {},
   "outputs": [
    {
     "data": {
      "text/plain": [
       "{'key1': 'value1', 'key2': 'value2', 'key3': 'value3'}"
      ]
     },
     "execution_count": 6,
     "metadata": {},
     "output_type": "execute_result"
    }
   ],
   "source": [
    "dict(key1='value1', key2='value2', key3='value3')"
   ]
  },
  {
   "cell_type": "code",
   "execution_count": 7,
   "metadata": {},
   "outputs": [
    {
     "data": {
      "text/plain": [
       "{'key1': 'value1', 'key2': 'value2', 'key3': 'value3'}"
      ]
     },
     "execution_count": 7,
     "metadata": {},
     "output_type": "execute_result"
    }
   ],
   "source": [
    "dict([('key1', 'value1'), ('key2', 'value2'), ('key3', 'value3')])"
   ]
  },
  {
   "cell_type": "code",
   "execution_count": 8,
   "metadata": {},
   "outputs": [
    {
     "data": {
      "text/plain": [
       "{'H': '1', 'e': '2', 'l': '3'}"
      ]
     },
     "execution_count": 8,
     "metadata": {},
     "output_type": "execute_result"
    }
   ],
   "source": [
    "dict(zip(\"Hello\", \"123\"))"
   ]
  },
  {
   "cell_type": "code",
   "execution_count": 9,
   "metadata": {},
   "outputs": [
    {
     "data": {
      "text/plain": [
       "{'city': 'город', 'book': 'книг', 'cat': 'кот'}"
      ]
     },
     "execution_count": 9,
     "metadata": {},
     "output_type": "execute_result"
    }
   ],
   "source": [
    "en_to_ru = {\n",
    "    'city' : 'город',\n",
    "    'book' : 'книг',\n",
    "    'cat' : 'кот'\n",
    "}\n",
    "en_to_ru"
   ]
  },
  {
   "cell_type": "code",
   "execution_count": 11,
   "metadata": {},
   "outputs": [
    {
     "name": "stdout",
     "output_type": "stream",
     "text": [
      "кот\n",
      "кот\n"
     ]
    }
   ],
   "source": [
    "print(en_to_ru['cat'])\n",
    "print(en_to_ru.get('cat'))"
   ]
  },
  {
   "cell_type": "code",
   "execution_count": 14,
   "metadata": {},
   "outputs": [
    {
     "name": "stdout",
     "output_type": "stream",
     "text": [
      "['city', 'book', 'cat']\n",
      "dict_keys(['city', 'book', 'cat'])\n",
      "dict_values(['город', 'книг', 'кот'])\n"
     ]
    }
   ],
   "source": [
    "print(list(en_to_ru))\n",
    "print(en_to_ru.keys())\n",
    "print(en_to_ru.values())"
   ]
  },
  {
   "cell_type": "code",
   "execution_count": null,
   "metadata": {},
   "outputs": [],
   "source": [
    "for i in en_to_ru:\n",
    "    print(i)"
   ]
  }
 ],
 "metadata": {
  "kernelspec": {
   "display_name": "Python 3",
   "language": "python",
   "name": "python3"
  },
  "language_info": {
   "codemirror_mode": {
    "name": "ipython",
    "version": 3
   },
   "file_extension": ".py",
   "mimetype": "text/x-python",
   "name": "python",
   "nbconvert_exporter": "python",
   "pygments_lexer": "ipython3",
   "version": "3.12.1"
  }
 },
 "nbformat": 4,
 "nbformat_minor": 2
}
